{
  "nbformat": 4,
  "nbformat_minor": 0,
  "metadata": {
    "colab": {
      "name": "ridge-lasso-regression-prediction.ipynb",
      "provenance": [],
      "collapsed_sections": [],
      "authorship_tag": "ABX9TyNJ59UHjYFaVoAfV6OMr7aV",
      "include_colab_link": true
    },
    "kernelspec": {
      "name": "python3",
      "display_name": "Python 3"
    }
  },
  "cells": [
    {
      "cell_type": "markdown",
      "metadata": {
        "id": "view-in-github",
        "colab_type": "text"
      },
      "source": [
        "<a href=\"https://colab.research.google.com/github/muneeb706/machine-learning/blob/main/ridge_lasso_regression_prediction.ipynb\" target=\"_parent\"><img src=\"https://colab.research.google.com/assets/colab-badge.svg\" alt=\"Open In Colab\"/></a>"
      ]
    },
    {
      "cell_type": "code",
      "metadata": {
        "colab": {
          "base_uri": "https://localhost:8080/"
        },
        "id": "PMY5SanvzYui",
        "outputId": "705153a4-1154-4a72-eee1-6b8fe0463602"
      },
      "source": [
        "!pip install sklearn"
      ],
      "execution_count": 1,
      "outputs": [
        {
          "output_type": "stream",
          "text": [
            "Requirement already satisfied: sklearn in /usr/local/lib/python3.7/dist-packages (0.0)\n",
            "Requirement already satisfied: scikit-learn in /usr/local/lib/python3.7/dist-packages (from sklearn) (0.22.2.post1)\n",
            "Requirement already satisfied: joblib>=0.11 in /usr/local/lib/python3.7/dist-packages (from scikit-learn->sklearn) (1.0.1)\n",
            "Requirement already satisfied: scipy>=0.17.0 in /usr/local/lib/python3.7/dist-packages (from scikit-learn->sklearn) (1.4.1)\n",
            "Requirement already satisfied: numpy>=1.11.0 in /usr/local/lib/python3.7/dist-packages (from scikit-learn->sklearn) (1.19.5)\n"
          ],
          "name": "stdout"
        }
      ]
    },
    {
      "cell_type": "code",
      "metadata": {
        "id": "p5Ll8F21Sr2G"
      },
      "source": [
        "import os\r\n",
        "import sys\r\n",
        "\r\n",
        "import numpy as np\r\n",
        "import pandas as pd\r\n",
        "\r\n",
        "from sklearn.model_selection import train_test_split\r\n",
        "\r\n",
        "from sklearn.linear_model import Ridge\r\n",
        "from sklearn.linear_model import Lasso\r\n",
        "\r\n",
        "from sklearn.metrics import mean_squared_error\r\n",
        "import matplotlib.pyplot as plt\r\n",
        "\r\n",
        "from sklearn.model_selection import KFold"
      ],
      "execution_count": 4,
      "outputs": []
    },
    {
      "cell_type": "markdown",
      "metadata": {
        "id": "J2O8nyji9w3i"
      },
      "source": [
        "# Problem - 1"
      ]
    },
    {
      "cell_type": "markdown",
      "metadata": {
        "id": "nH2Sn4MlSwUF"
      },
      "source": [
        "Loading the house dataset, downloaded from (http://www.csie.ntu.edu.tw/~cjlin/libsvmtools/datasets/regression.html)."
      ]
    },
    {
      "cell_type": "code",
      "metadata": {
        "colab": {
          "base_uri": "https://localhost:8080/"
        },
        "id": "jUjUpueNSzAC",
        "outputId": "95465fdc-daca-4ef8-b6dd-7525aaca8845"
      },
      "source": [
        "house_scale_data = pd.read_csv('./sample_data/house_scale.txt', sep=\" \", header=None)\r\n",
        "house_scale_data.columns = [\"target\", \"column-1\", \"column-2\", \"column-3\", \"column-4\", \r\n",
        "                            \"column-5\", \"column-6\", \"column-7\", \"column-8\", \"column-9\", \r\n",
        "                            \"column-10\", \"column-11\", \"column-12\", \"column-13\", \"column-14\"]\r\n",
        "# removing junk column\r\n",
        "del house_scale_data[\"column-14\"]\r\n",
        "print(house_scale_data.head())"
      ],
      "execution_count": 40,
      "outputs": [
        {
          "output_type": "stream",
          "text": [
            "   target     column-1 column-2  ...     column-11    column-12     column-13\n",
            "0    24.0         1:-1  2:-0.64  ...  11:-0.425532         12:1   13:-0.82064\n",
            "1    21.6  1:-0.999528     2:-1  ...   11:0.106383         12:1   13:-0.59106\n",
            "2    34.7  1:-0.999529     2:-1  ...   11:0.106383  12:0.979475  13:-0.873068\n",
            "3    33.4  1:-0.999414     2:-1  ...   11:0.297872  12:0.988552  13:-0.933223\n",
            "4    36.2   1:-0.99859     2:-1  ...   11:0.297872         12:1  13:-0.801325\n",
            "\n",
            "[5 rows x 14 columns]\n"
          ],
          "name": "stdout"
        }
      ]
    },
    {
      "cell_type": "markdown",
      "metadata": {
        "id": "dDFNPYSzU4p5"
      },
      "source": [
        "Preprocessing data values."
      ]
    },
    {
      "cell_type": "code",
      "metadata": {
        "colab": {
          "base_uri": "https://localhost:8080/"
        },
        "id": "2ZM6_A8TU-wN",
        "outputId": "97cd47b8-a9e9-462b-fc43-703dbe3f77e3"
      },
      "source": [
        "# removing garbage from data values and converting the values to float\r\n",
        "house_scale_processed = pd.DataFrame()\r\n",
        "house_scale_processed[\"target\"] = house_scale_data[\"target\"]\r\n",
        "house_scale_processed[\"column-1\"] = house_scale_data[\"column-1\"].str.replace('1:', '').astype(float)\r\n",
        "house_scale_processed[\"column-2\"] = house_scale_data[\"column-2\"].str.replace('2:', '').astype(float)\r\n",
        "house_scale_processed[\"column-3\"] = house_scale_data[\"column-3\"].str.replace('3:', '').astype(float)\r\n",
        "house_scale_processed[\"column-4\"] = house_scale_data[\"column-4\"].str.replace('4:', '').astype(float)\r\n",
        "house_scale_processed[\"column-5\"] = house_scale_data[\"column-5\"].str.replace('5:', '').astype(float)\r\n",
        "house_scale_processed[\"column-6\"] = house_scale_data[\"column-6\"].str.replace('6:', '').astype(float)\r\n",
        "house_scale_processed[\"column-7\"] = house_scale_data[\"column-7\"].str.replace('7:', '').astype(float)\r\n",
        "house_scale_processed[\"column-8\"] = house_scale_data[\"column-8\"].str.replace('8:', '').astype(float)\r\n",
        "house_scale_processed[\"column-9\"] = house_scale_data[\"column-9\"].str.replace('9:', '').astype(float)\r\n",
        "house_scale_processed[\"column-10\"] = house_scale_data[\"column-10\"].str.replace('10:', '').astype(float)\r\n",
        "house_scale_processed[\"column-11\"] = house_scale_data[\"column-11\"].str.replace('11:', '').astype(float)\r\n",
        "house_scale_processed[\"column-12\"] = house_scale_data[\"column-12\"].str.replace('12:', '').astype(float)\r\n",
        "house_scale_processed[\"column-13\"] = house_scale_data[\"column-13\"].str.replace('13:', '').astype(float)\r\n",
        "\r\n",
        "print(house_scale_processed.head())\r\n"
      ],
      "execution_count": 43,
      "outputs": [
        {
          "output_type": "stream",
          "text": [
            "   target  column-1  column-2  ...  column-11  column-12  column-13\n",
            "0    24.0 -1.000000     -0.64  ...  -0.425532   1.000000  -0.820640\n",
            "1    21.6 -0.999528     -1.00  ...   0.106383   1.000000  -0.591060\n",
            "2    34.7 -0.999529     -1.00  ...   0.106383   0.979475  -0.873068\n",
            "3    33.4 -0.999414     -1.00  ...   0.297872   0.988552  -0.933223\n",
            "4    36.2 -0.998590     -1.00  ...   0.297872   1.000000  -0.801325\n",
            "\n",
            "[5 rows x 14 columns]\n"
          ],
          "name": "stdout"
        }
      ]
    },
    {
      "cell_type": "markdown",
      "metadata": {
        "id": "HPTxKaU6fJLv"
      },
      "source": [
        "# Q-1: Solution of Ridge Regression and Lasso: Set the value of the regularization parameter alpha = 1, compute the optimal solution for ridge regression and lasso. Report the optimal solutions for both ridge regression and lasso."
      ]
    },
    {
      "cell_type": "markdown",
      "metadata": {
        "id": "Uq62JcgCfW-i"
      },
      "source": [
        "Separating features from target variables."
      ]
    },
    {
      "cell_type": "code",
      "metadata": {
        "colab": {
          "base_uri": "https://localhost:8080/"
        },
        "id": "dXH5QLoWfUgO",
        "outputId": "66956c67-d125-46e3-e096-12001750402a"
      },
      "source": [
        "house_scale_X, house_scale_y = x = house_scale_processed.iloc[:, 1:], house_scale_processed.iloc[:, 0]\r\n",
        "\r\n",
        "print(\"Feature vector: \")\r\n",
        "print(house_scale_X.head())\r\n",
        "print(\"\\nTaget vector: \")\r\n",
        "print(house_scale_y.head())"
      ],
      "execution_count": 54,
      "outputs": [
        {
          "output_type": "stream",
          "text": [
            "Feature vector: \n",
            "   column-1  column-2  column-3  ...  column-11  column-12  column-13\n",
            "0 -1.000000     -0.64 -0.864370  ...  -0.425532   1.000000  -0.820640\n",
            "1 -0.999528     -1.00 -0.515396  ...   0.106383   1.000000  -0.591060\n",
            "2 -0.999529     -1.00 -0.515396  ...   0.106383   0.979475  -0.873068\n",
            "3 -0.999414     -1.00 -0.873900  ...   0.297872   0.988552  -0.933223\n",
            "4 -0.998590     -1.00 -0.873900  ...   0.297872   1.000000  -0.801325\n",
            "\n",
            "[5 rows x 13 columns]\n",
            "\n",
            "Taget vector: \n",
            "0    24.0\n",
            "1    21.6\n",
            "2    34.7\n",
            "3    33.4\n",
            "4    36.2\n",
            "Name: target, dtype: float64\n"
          ],
          "name": "stdout"
        }
      ]
    },
    {
      "cell_type": "markdown",
      "metadata": {
        "id": "gA_RX81DjgDP"
      },
      "source": [
        "Splitting data into training and testing dataset."
      ]
    },
    {
      "cell_type": "code",
      "metadata": {
        "id": "p3q58dbCjkGE"
      },
      "source": [
        "house_scale_X_train, house_scale_X_test, house_scale_Y_train, house_scale_Y_test = train_test_split(house_scale_X, house_scale_y, test_size = 0.30, random_state = 5)"
      ],
      "execution_count": 56,
      "outputs": []
    },
    {
      "cell_type": "markdown",
      "metadata": {
        "id": "k5X6qWyBkNJn"
      },
      "source": [
        "### Ridge Regression with alpha = 1"
      ]
    },
    {
      "cell_type": "code",
      "metadata": {
        "colab": {
          "base_uri": "https://localhost:8080/"
        },
        "id": "URaScIYZkQjO",
        "outputId": "c999195f-e917-41b6-8ad7-8bd90c9a4d8d"
      },
      "source": [
        "n = len(house_scale_X_train)\r\n",
        "alpha=1\r\n",
        "alpha_val = alpha * 2 * n\r\n",
        "ridge_model = Ridge(alpha=alpha_val)\r\n",
        "ridge_model.fit(house_scale_X_train, house_scale_Y_train)\r\n",
        "ridge_model_Y_pred_train = ridge_model.predict(house_scale_X_train)\r\n",
        "ridge_model_Y_pred = ridge_model.predict(house_scale_X_test)\r\n",
        "\r\n",
        "print('Intercept: ',ridge_model.intercept_)\r\n",
        "print('Coefficients: \\n',ridge_model.coef_)"
      ],
      "execution_count": 77,
      "outputs": [
        {
          "output_type": "stream",
          "text": [
            "Intercept:  22.174977821919907\n",
            "Coefficients: \n",
            " [-0.20506235  0.47128851 -0.59997091  0.297699   -0.48415313  0.651689\n",
            " -0.51514572  0.12161011 -0.58539969 -0.68047074 -0.75066957  0.39575163\n",
            " -0.98197053]\n"
          ],
          "name": "stdout"
        }
      ]
    },
    {
      "cell_type": "markdown",
      "metadata": {
        "id": "LDTbbwLOlPIK"
      },
      "source": [
        "### Lasso Regression with alpha = 1"
      ]
    },
    {
      "cell_type": "code",
      "metadata": {
        "colab": {
          "base_uri": "https://localhost:8080/"
        },
        "id": "OPlaZWosk1Uc",
        "outputId": "507894bf-ae5c-499c-83d7-4d871a6499b8"
      },
      "source": [
        "lasso_model = Lasso(alpha=1)\r\n",
        "lasso_model.fit(house_scale_X_train,house_scale_Y_train)\r\n",
        "lasso_model_Y_pred_train = lasso_model.predict(house_scale_X_train)\r\n",
        "lasso_model_Y_pred = lasso_model.predict(house_scale_X_test)\r\n",
        "\r\n",
        "print('Intercept: ',lasso_model.intercept_)\r\n",
        "print('Coefficients: \\n',lasso_model.coef_)"
      ],
      "execution_count": 78,
      "outputs": [
        {
          "output_type": "stream",
          "text": [
            "Intercept:  19.131469178221888\n",
            "Coefficients: \n",
            " [-0.          0.         -0.          0.         -0.          0.\n",
            " -0.          0.         -0.         -0.         -2.24584583  0.\n",
            " -9.93954317]\n"
          ],
          "name": "stdout"
        }
      ]
    },
    {
      "cell_type": "markdown",
      "metadata": {
        "id": "7IOm00jYnD-v"
      },
      "source": [
        "# Q-2: Training and testing error with different values of alpha: (i) Take the first 400 examples as training data and remaining 106 examples as testing data. (ii) For each value of alpha in [0, 0.001, 0.01,0.1, 1, 10, 100], run the ridge regression and lasso to obtain a model (w) and then compute the root mean square error on both the training and the testing data of the obtained model.(iii) Plot the error curves for root mean square error on both the training data and the testing data vs different values of alpha. You need to show the curves, and discuss your observations of the error curves, and report the best value of lambda and the corresponding testing error."
      ]
    },
    {
      "cell_type": "markdown",
      "metadata": {
        "id": "WmtOr-yB2ZZs"
      },
      "source": [
        "Splitting data into 400 training examples and 106 testing examples."
      ]
    },
    {
      "cell_type": "code",
      "metadata": {
        "id": "e6W1rcrrnYtN"
      },
      "source": [
        "house_scale_X_train, house_scale_X_test, house_scale_Y_train, house_scale_Y_test = train_test_split(house_scale_X, house_scale_y, train_size=400, test_size = 106, random_state = 5)"
      ],
      "execution_count": 80,
      "outputs": []
    },
    {
      "cell_type": "markdown",
      "metadata": {
        "id": "Nsb-Y8QZ28Ab"
      },
      "source": [
        "Alpha values."
      ]
    },
    {
      "cell_type": "code",
      "metadata": {
        "id": "9e3aDS7h29v2"
      },
      "source": [
        "alphas = [0, 0.001, 0.01, 0.1, 1, 10, 100]"
      ],
      "execution_count": 79,
      "outputs": []
    },
    {
      "cell_type": "markdown",
      "metadata": {
        "id": "uFPhhYm83DzP"
      },
      "source": [
        "### RMSE of Ridge Regression Model w.r.t different values of alpha."
      ]
    },
    {
      "cell_type": "code",
      "metadata": {
        "colab": {
          "base_uri": "https://localhost:8080/",
          "height": 936
        },
        "id": "xK4Z58Jo3YKe",
        "outputId": "75bb7f2a-018e-4854-c001-f376c315d997"
      },
      "source": [
        "train_mses = []\r\n",
        "test_mses = []\r\n",
        "\r\n",
        "for alpha in alphas:\r\n",
        "  n = 400\r\n",
        "  alpha_val = alpha * 2 * n\r\n",
        "  ridge_model = Ridge(alpha=alpha_val)\r\n",
        "  ridge_model.fit(house_scale_X_train, house_scale_Y_train)\r\n",
        "  ridge_model_Y_pred_train = ridge_model.predict(house_scale_X_train)\r\n",
        "  ridge_model_Y_pred_test = ridge_model.predict(house_scale_X_test)\r\n",
        "  \r\n",
        "  train_mse = mean_squared_error(house_scale_Y_train,ridge_model_Y_pred_train, squared=False)\r\n",
        "  test_mse = mean_squared_error(house_scale_Y_test,ridge_model_Y_pred_test, squared=False)\r\n",
        "\r\n",
        "  train_mses.append(train_mse)\r\n",
        "  test_mses.append(test_mse)\r\n",
        "\r\n",
        "plt.scatter(alphas,train_mses)\r\n",
        "plt.xlabel(\"Alpha\")\r\n",
        "plt.ylabel(\"RMSE\")\r\n",
        "plt.title(\"Training Data: Alpha vs RMSE\")\r\n",
        "plt.show()\r\n",
        "\r\n",
        "print(\"\\n\")\r\n",
        "\r\n",
        "print(\"Alpha: \", alphas)\r\n",
        "print(\"RMSE: \", train_mses)\r\n",
        "print(\"\\n\")\r\n",
        "\r\n",
        "min_rmse_index = train_mses.index(min(train_mses))\r\n",
        "best_lambda = alphas[min_rmse_index]\r\n",
        "\r\n",
        "print(\"Training Data, best lambda: \", best_lambda)\r\n",
        "print(\"Training Data, corresponding training error: \", min(train_mses))\r\n",
        "\r\n",
        "print(\"\\n\")\r\n",
        "\r\n",
        "plt.scatter(alphas,test_mses)\r\n",
        "plt.xlabel(\"Alpha\")\r\n",
        "plt.ylabel(\"RMSE\")\r\n",
        "plt.title(\"Testing Data: Alpha vs RMSE\")\r\n",
        "plt.show()\r\n",
        "\r\n",
        "print(\"\\n\")\r\n",
        "\r\n",
        "print(\"Alpha: \", alphas)\r\n",
        "print(\"RMSE: \", test_mses)\r\n",
        "\r\n",
        "print(\"\\n\")\r\n",
        "\r\n",
        "min_rmse_index = test_mses.index(min(test_mses))\r\n",
        "best_lambda = alphas[min_rmse_index]\r\n",
        "\r\n",
        "print(\"Testing Data, best lambda: \", best_lambda)\r\n",
        "print(\"Testing Data, corresponding training error: \", min(test_mses))\r\n",
        "\r\n",
        "print(\"\\n\")\r\n",
        "\r\n"
      ],
      "execution_count": 105,
      "outputs": [
        {
          "output_type": "display_data",
          "data": {
            "image/png": "[encoded data removed]",
            "text/plain": [
              "<Figure size 432x288 with 1 Axes>"
            ]
          },
          "metadata": {
            "tags": [],
            "needs_background": "light"
          }
        },
        {
          "output_type": "stream",
          "text": [
            "\n",
            "\n",
            "Alpha:  [0, 0.001, 0.01, 0.1, 1, 10, 100]\n",
            "RMSE:  [4.7468137709887674, 4.749535782890467, 4.867372757414787, 6.068531374366747, 7.906700686689975, 8.950883076824168, 9.150268582931327]\n",
            "\n",
            "\n",
            "Training Data, best lambda:  0\n",
            "Training Data, corresponding training error:  4.7468137709887674\n",
            "\n",
            "\n"
          ],
          "name": "stdout"
        },
        {
          "output_type": "display_data",
          "data": {
            "image/png": "[encoded data removed]",
            "text/plain": [
              "<Figure size 432x288 with 1 Axes>"
            ]
          },
          "metadata": {
            "tags": [],
            "needs_background": "light"
          }
        },
        {
          "output_type": "stream",
          "text": [
            "\n",
            "\n",
            "Alpha:  [0, 0.001, 0.01, 0.1, 1, 10, 100]\n",
            "RMSE:  [4.607465984735515, 4.561393516265717, 4.467053404216041, 5.540371291150933, 7.733114475466447, 8.981938764685452, 9.213590415363146]\n",
            "\n",
            "\n",
            "Testing Data, best lambda:  0.01\n",
            "Testing Data, corresponding training error:  4.467053404216041\n",
            "\n",
            "\n"
          ],
          "name": "stdout"
        }
      ]
    },
    {
      "cell_type": "markdown",
      "metadata": {
        "id": "FlPj24Xf__IY"
      },
      "source": [
        "#### Discussion for above output:\r\n",
        "In training data the best lambda value is zero, which means that there is no need of penalizing. In other words the model that best overfits the training data will be the best since we are testing against trainining data values on which the model was trained.\r\n",
        "\r\n",
        "However, in case of testing data, the best lambda is 0.01 and smallest rmse value is also less than the smallest rmse value obtained for training data. We can imply that, after penalizing the model we have reduced bias in the model and it is performing well on testing data (unseen) values."
      ]
    },
    {
      "cell_type": "markdown",
      "metadata": {
        "id": "6xmJbttYBVAN"
      },
      "source": [
        "### RMSE of Lasso Regression Model w.r.t different values of alpha."
      ]
    },
    {
      "cell_type": "code",
      "metadata": {
        "colab": {
          "base_uri": "https://localhost:8080/",
          "height": 936
        },
        "id": "6_z8amOcAoz3",
        "outputId": "f69924aa-cc62-41c1-94c7-350cff0abec7"
      },
      "source": [
        "import warnings\r\n",
        "warnings.filterwarnings('ignore')\r\n",
        "\r\n",
        "train_mses = []\r\n",
        "test_mses = []\r\n",
        "\r\n",
        "for alpha in alphas:\r\n",
        "\r\n",
        "  alpha_val = alpha\r\n",
        "  lasso_model = Lasso(alpha=alpha_val)\r\n",
        "  lasso_model.fit(house_scale_X_train, house_scale_Y_train)\r\n",
        "  lasso_model_Y_pred_train = lasso_model.predict(house_scale_X_train)\r\n",
        "  lasso_model_Y_pred_test = lasso_model.predict(house_scale_X_test)\r\n",
        "  \r\n",
        "  train_mse = mean_squared_error(house_scale_Y_train,lasso_model_Y_pred_train, squared=False)\r\n",
        "  test_mse = mean_squared_error(house_scale_Y_test,lasso_model_Y_pred_test, squared=False)\r\n",
        "\r\n",
        "  train_mses.append(train_mse)\r\n",
        "  test_mses.append(test_mse)\r\n",
        "\r\n",
        "plt.scatter(alphas,train_mses)\r\n",
        "plt.xlabel(\"Alpha\")\r\n",
        "plt.ylabel(\"RMSE\")\r\n",
        "plt.title(\"Training Data: Alpha vs RMSE\")\r\n",
        "plt.show()\r\n",
        "\r\n",
        "print(\"\\n\")\r\n",
        "\r\n",
        "print(\"Alpha: \", alphas)\r\n",
        "print(\"RMSE: \", train_mses)\r\n",
        "print(\"\\n\")\r\n",
        "\r\n",
        "min_rmse_index = train_mses.index(min(train_mses))\r\n",
        "best_lambda = alphas[min_rmse_index]\r\n",
        "\r\n",
        "print(\"Training Data, best lambda: \", best_lambda)\r\n",
        "print(\"Training Data, corresponding training error: \", min(train_mses))\r\n",
        "\r\n",
        "print(\"\\n\")\r\n",
        "\r\n",
        "plt.scatter(alphas,test_mses)\r\n",
        "plt.xlabel(\"Alpha\")\r\n",
        "plt.ylabel(\"RMSE\")\r\n",
        "plt.title(\"Testing Data: Alpha vs RMSE\")\r\n",
        "plt.show()\r\n",
        "\r\n",
        "print(\"\\n\")\r\n",
        "\r\n",
        "print(\"Alpha: \", alphas)\r\n",
        "print(\"RMSE: \", test_mses)\r\n",
        "\r\n",
        "print(\"\\n\")\r\n",
        "\r\n",
        "min_rmse_index = test_mses.index(min(test_mses))\r\n",
        "best_lambda = alphas[min_rmse_index]\r\n",
        "\r\n",
        "print(\"Testing Data, best lambda: \", best_lambda)\r\n",
        "print(\"Testing Data, corresponding testing error: \", min(test_mses))\r\n",
        "\r\n",
        "print(\"\\n\")"
      ],
      "execution_count": 167,
      "outputs": [
        {
          "output_type": "display_data",
          "data": {
            "image/png": "[encoded data removed]",
            "text/plain": [
              "<Figure size 432x288 with 1 Axes>"
            ]
          },
          "metadata": {
            "tags": [],
            "needs_background": "light"
          }
        },
        {
          "output_type": "stream",
          "text": [
            "\n",
            "\n",
            "Alpha:  [0, 0.001, 0.01, 0.1, 1, 10, 100]\n",
            "RMSE:  [4.746813770988767, 4.746838495430283, 4.749207682815122, 4.9767987510972365, 6.399668883840319, 9.174559171971152, 9.174559171971152]\n",
            "\n",
            "\n",
            "Training Data, best lambda:  0\n",
            "Training Data, corresponding training error:  4.746813770988767\n",
            "\n",
            "\n"
          ],
          "name": "stdout"
        },
        {
          "output_type": "display_data",
          "data": {
            "image/png": "[encoded data removed]",
            "text/plain": [
              "<Figure size 432x288 with 1 Axes>"
            ]
          },
          "metadata": {
            "tags": [],
            "needs_background": "light"
          }
        },
        {
          "output_type": "stream",
          "text": [
            "\n",
            "\n",
            "Alpha:  [0, 0.001, 0.01, 0.1, 1, 10, 100]\n",
            "RMSE:  [4.6074659847355095, 4.60290845446462, 4.565346702514478, 4.571451839370644, 6.467171538522437, 9.241678655815646, 9.241678655815646]\n",
            "\n",
            "\n",
            "Testing Data, best lambda:  0.01\n",
            "Testing Data, corresponding testing error:  4.565346702514478\n",
            "\n",
            "\n"
          ],
          "name": "stdout"
        }
      ]
    },
    {
      "cell_type": "markdown",
      "metadata": {
        "id": "FhZSAMqcCvtR"
      },
      "source": [
        "####Discussion for above output:\r\n",
        "In training data, the results are identical to results obtained for ridge regression. The best lambda value is zero, which means that there is no need of penalizing. In other words the model that best overfits the training data will be the best.\r\n",
        "\r\n",
        "In case of testing data, the best lambda value is 0.01, similar to one we obtained for ridge regression however, the corresponding rmse value is greater than the one obtained for ridge. We can say that lasso regression removes the features in the process which are useful for performing prediction."
      ]
    },
    {
      "cell_type": "markdown",
      "metadata": {
        "id": "S3nl7xSxD1__"
      },
      "source": [
        "# Q-3: Cross-validation: Use the selected 400 examples as training, follow the 5-fold cross-validation procedure to select the best value of alpha for both ridge regression and lasso. Then train the model on the 400 examples using the selected alpha and compute the root mean square error on the testing data. Report the best alpha and the testing error for both ridge regression and lasso."
      ]
    },
    {
      "cell_type": "markdown",
      "metadata": {
        "id": "y2HFW9VZMDWH"
      },
      "source": [
        "### Ridge Regression"
      ]
    },
    {
      "cell_type": "code",
      "metadata": {
        "colab": {
          "base_uri": "https://localhost:8080/"
        },
        "id": "mKbUnC4aFpjx",
        "outputId": "061d0665-37f4-43de-b55c-22023c3345b5"
      },
      "source": [
        "cross_validation = KFold(n_splits=5, random_state=10, shuffle=True)\r\n",
        "\r\n",
        "n = 400\r\n",
        "\r\n",
        "# extracting first 400 training examples\r\n",
        "X = house_scale_X.head(n)\r\n",
        "y = house_scale_y.head(n)\r\n",
        "\r\n",
        "mean_rmses = []\r\n",
        "for alpha in alphas:\r\n",
        "  rmses = []    \r\n",
        "  for train_index, test_index in cross_validation.split(X):\r\n",
        "      # separating test data from training data based on return indices of training and testing sets\r\n",
        "      x_train, x_test, y_train, y_test = X.iloc[train_index],X.iloc[test_index],y.iloc[train_index],y.iloc[test_index]\r\n",
        "      \r\n",
        "      alpha_val = alpha * 2 * len(x_train)\r\n",
        "      ridge_model = Ridge(alpha=alpha_val)\r\n",
        "      ridge_model.fit(x_train, y_train)\r\n",
        "\r\n",
        "      ridge_model_Y_pred_test = ridge_model.predict(x_test)\r\n",
        "\r\n",
        "      test_mse = mean_squared_error(y_test,ridge_model_Y_pred_test, squared=False)\r\n",
        "      \r\n",
        "      rmses.append(test_mse)\r\n",
        "  \r\n",
        "  mean_rmses.append(np.mean(rmses))\r\n",
        "\r\n",
        "min_rmse_index = mean_rmses.index(min(mean_rmses))\r\n",
        "best_lambda_r_3 = alphas[min_rmse_index]\r\n",
        "min_error_r_3 = min(mean_rmses)\r\n",
        "print(\"Ridge Regression, best lambda: \", best_lambda_r_3)\r\n",
        "print(\"Ridge Regression, corresponding testing error: \", min_error_r_3)\r\n"
      ],
      "execution_count": 141,
      "outputs": [
        {
          "output_type": "stream",
          "text": [
            "Ridge Regression, best lambda:  0.001\n",
            "Ridge Regression, corresponding testing error:  4.8700892651864365\n"
          ],
          "name": "stdout"
        }
      ]
    },
    {
      "cell_type": "markdown",
      "metadata": {
        "id": "OnleNh8_XbFr"
      },
      "source": [
        "#### Lasso Regression"
      ]
    },
    {
      "cell_type": "code",
      "metadata": {
        "colab": {
          "base_uri": "https://localhost:8080/"
        },
        "id": "xHepoAvQXeVn",
        "outputId": "ecba3bf6-a14e-4ce2-a4e9-176aea54414b"
      },
      "source": [
        "cross_validation = KFold(n_splits=5, random_state=10, shuffle=True)\r\n",
        "\r\n",
        "n = 400\r\n",
        "\r\n",
        "# extracting first 400 training examples\r\n",
        "X = house_scale_X.head(n)\r\n",
        "y = house_scale_y.head(n)\r\n",
        "\r\n",
        "mean_rmses = []\r\n",
        "for alpha in alphas:\r\n",
        "  rmses = []    \r\n",
        "  for train_index, test_index in cross_validation.split(X):\r\n",
        "      # separating test data from training data based on return indices of training and testing sets\r\n",
        "      x_train, x_test, y_train, y_test = X.iloc[train_index],X.iloc[test_index],y.iloc[train_index],y.iloc[test_index]\r\n",
        "      \r\n",
        "      alpha_val = alpha\r\n",
        "      lasso_model = Lasso(alpha=alpha_val)\r\n",
        "      lasso_model.fit(x_train, y_train)\r\n",
        "\r\n",
        "      lasso_model_Y_pred_test = ridge_model.predict(x_test)\r\n",
        "\r\n",
        "      test_mse = mean_squared_error(y_test,lasso_model_Y_pred_test, squared=False)\r\n",
        "      \r\n",
        "      rmses.append(test_mse)\r\n",
        "  \r\n",
        "  mean_rmses.append(np.mean(rmses))\r\n",
        "\r\n",
        "min_rmse_index = mean_rmses.index(min(mean_rmses))\r\n",
        "best_lambda_l_3 = alphas[min_rmse_index]\r\n",
        "min_error_l_3 = min(mean_rmses)\r\n",
        "print(\"Lasso Regression, best lambda: \", best_lambda_l_3)\r\n",
        "print(\"Lasso Regression, corresponding testing error: \", min_error_l_3)\r\n"
      ],
      "execution_count": 146,
      "outputs": [
        {
          "output_type": "stream",
          "text": [
            "Lasso Regression, best lambda:  0\n",
            "Lasso Regression, corresponding testing error:  9.722380074606637\n"
          ],
          "name": "stdout"
        }
      ]
    },
    {
      "cell_type": "markdown",
      "metadata": {
        "id": "2PMii0vsZvdF"
      },
      "source": [
        "# Q-4: Repeat (Q-3) using the original version of the data and compare the results with that obtained for (Q-3)."
      ]
    },
    {
      "cell_type": "markdown",
      "metadata": {
        "id": "zd_OElTRtBQW"
      },
      "source": [
        "Reading and preprocessing original data."
      ]
    },
    {
      "cell_type": "code",
      "metadata": {
        "colab": {
          "base_uri": "https://localhost:8080/"
        },
        "id": "65ic4MY1Z2iJ",
        "outputId": "f76c5e5f-a4cc-4f6d-b5b2-aa3e7921c1a0"
      },
      "source": [
        "house_data = pd.read_csv('./sample_data/house.txt', sep=\" \", header=None)\r\n",
        "house_data.columns = [\"target\", \"column-1\", \"column-2\", \"column-3\", \"column-4\", \r\n",
        "                            \"column-5\", \"column-6\", \"column-7\", \"column-8\", \"column-9\", \r\n",
        "                            \"column-10\", \"column-11\", \"column-12\", \"column-13\"]\r\n",
        "                            \r\n",
        "# removing garbage from data values and converting the values to float\r\n",
        "house_processed = pd.DataFrame()\r\n",
        "house_processed[\"target\"] = house_data[\"target\"]\r\n",
        "house_processed[\"column-1\"] = house_data[\"column-1\"].str.replace('1:', '').astype(float)\r\n",
        "house_processed[\"column-2\"] = house_data[\"column-2\"].str.replace('2:', '').astype(float)\r\n",
        "house_processed[\"column-3\"] = house_data[\"column-3\"].str.replace('3:', '').astype(float)\r\n",
        "house_processed[\"column-4\"] = house_data[\"column-4\"].str.replace('4:', '').astype(float)\r\n",
        "house_processed[\"column-5\"] = house_data[\"column-5\"].str.replace('5:', '').astype(float)\r\n",
        "house_processed[\"column-6\"] = house_data[\"column-6\"].str.replace('6:', '').astype(float)\r\n",
        "house_processed[\"column-7\"] = house_data[\"column-7\"].str.replace('7:', '').astype(float)\r\n",
        "house_processed[\"column-8\"] = house_data[\"column-8\"].str.replace('8:', '').astype(float)\r\n",
        "house_processed[\"column-9\"] = house_data[\"column-9\"].str.replace('9:', '').astype(float)\r\n",
        "house_processed[\"column-10\"] = house_data[\"column-10\"].str.replace('10:', '').astype(float)\r\n",
        "house_processed[\"column-11\"] = house_data[\"column-11\"].str.replace('11:', '').astype(float)\r\n",
        "house_processed[\"column-12\"] = house_data[\"column-12\"].str.replace('12:', '').astype(float)\r\n",
        "house_processed[\"column-13\"] = house_data[\"column-13\"].str.replace('13:', '').astype(float)\r\n",
        "\r\n",
        "print(house_processed.head())\r\n"
      ],
      "execution_count": 137,
      "outputs": [
        {
          "output_type": "stream",
          "text": [
            "   target  column-1  column-2  ...  column-11  column-12  column-13\n",
            "0    24.0   0.00632      18.0  ...       15.3     396.90       4.98\n",
            "1    21.6   0.02731       0.0  ...       17.8     396.90       9.14\n",
            "2    34.7   0.02729       0.0  ...       17.8     392.83       4.03\n",
            "3    33.4   0.03237       0.0  ...       18.7     394.63       2.94\n",
            "4    36.2   0.06905       0.0  ...       18.7     396.90       5.33\n",
            "\n",
            "[5 rows x 14 columns]\n"
          ],
          "name": "stdout"
        }
      ]
    },
    {
      "cell_type": "markdown",
      "metadata": {
        "id": "gpvwZABwt28u"
      },
      "source": [
        "Separating feature and target columns."
      ]
    },
    {
      "cell_type": "code",
      "metadata": {
        "colab": {
          "base_uri": "https://localhost:8080/"
        },
        "id": "lJT2-NoJt57E",
        "outputId": "3a2ccb82-b4bd-406b-880b-ef2eed122c41"
      },
      "source": [
        "house_X, house_y = house_processed.iloc[:, 1:], house_processed.iloc[:, 0]\r\n",
        "\r\n",
        "print(\"Feature vector: \")\r\n",
        "print(house_X.head())\r\n",
        "print(\"\\nTaget vector: \")\r\n",
        "print(house_y.head())"
      ],
      "execution_count": 138,
      "outputs": [
        {
          "output_type": "stream",
          "text": [
            "Feature vector: \n",
            "   column-1  column-2  column-3  ...  column-11  column-12  column-13\n",
            "0   0.00632      18.0      2.31  ...       15.3     396.90       4.98\n",
            "1   0.02731       0.0      7.07  ...       17.8     396.90       9.14\n",
            "2   0.02729       0.0      7.07  ...       17.8     392.83       4.03\n",
            "3   0.03237       0.0      2.18  ...       18.7     394.63       2.94\n",
            "4   0.06905       0.0      2.18  ...       18.7     396.90       5.33\n",
            "\n",
            "[5 rows x 13 columns]\n",
            "\n",
            "Taget vector: \n",
            "0    24.0\n",
            "1    21.6\n",
            "2    34.7\n",
            "3    33.4\n",
            "4    36.2\n",
            "Name: target, dtype: float64\n"
          ],
          "name": "stdout"
        }
      ]
    },
    {
      "cell_type": "markdown",
      "metadata": {
        "id": "HILuVDuHuSIb"
      },
      "source": [
        "### Ridge Regression"
      ]
    },
    {
      "cell_type": "code",
      "metadata": {
        "colab": {
          "base_uri": "https://localhost:8080/"
        },
        "id": "Z6V8unRJuTBV",
        "outputId": "10e8d2d9-ba20-4a00-fd25-93686d8b9672"
      },
      "source": [
        "cross_validation = KFold(n_splits=5, random_state=10, shuffle=True)\r\n",
        "\r\n",
        "n = 400\r\n",
        "\r\n",
        "# extracting first 400 training examples\r\n",
        "X = house_X.head(n)\r\n",
        "y = house_y.head(n)\r\n",
        "\r\n",
        "mean_rmses = []\r\n",
        "for alpha in alphas:\r\n",
        "  rmses = []    \r\n",
        "  for train_index, test_index in cross_validation.split(X):\r\n",
        "      # separating test data from training data based on return indices of training and testing sets\r\n",
        "      x_train, x_test, y_train, y_test = X.iloc[train_index],X.iloc[test_index],y.iloc[train_index],y.iloc[test_index]\r\n",
        "      \r\n",
        "      alpha_val = alpha * 2 * len(x_train)\r\n",
        "      ridge_model = Ridge(alpha=alpha_val)\r\n",
        "      ridge_model.fit(x_train, y_train)\r\n",
        "\r\n",
        "      ridge_model_Y_pred_test = ridge_model.predict(x_test)\r\n",
        "\r\n",
        "      test_mse = mean_squared_error(y_test,ridge_model_Y_pred_test, squared=False)\r\n",
        "      \r\n",
        "      rmses.append(test_mse)\r\n",
        "  \r\n",
        "  mean_rmses.append(np.mean(rmses))\r\n",
        "\r\n",
        "min_rmse_index = mean_rmses.index(min(mean_rmses))\r\n",
        "\r\n",
        "best_lambda_r_4 = alphas[min_rmse_index]\r\n",
        "min_error_r_4 = min(mean_rmses)\r\n",
        "\r\n",
        "print(\"Ridge Regression, best lambda: \", best_lambda_r_4)\r\n",
        "print(\"Ridge Regression, corresponding testing error: \", min_error_r_4)"
      ],
      "execution_count": 143,
      "outputs": [
        {
          "output_type": "stream",
          "text": [
            "Ridge Regression, best lambda:  0\n",
            "Ridge Regression, corresponding testing error:  4.883826627394521\n"
          ],
          "name": "stdout"
        }
      ]
    },
    {
      "cell_type": "code",
      "metadata": {
        "colab": {
          "base_uri": "https://localhost:8080/"
        },
        "id": "xOyWumNWusYi",
        "outputId": "fa070a3a-f91f-4547-9fe6-ab9705031555"
      },
      "source": [
        "cross_validation = KFold(n_splits=5, random_state=10, shuffle=True)\r\n",
        "\r\n",
        "n = 400\r\n",
        "\r\n",
        "# extracting first 400 training examples\r\n",
        "X = house_X.head(n)\r\n",
        "y = house_y.head(n)\r\n",
        "\r\n",
        "mean_rmses = []\r\n",
        "for alpha in alphas:\r\n",
        "  rmses = []    \r\n",
        "  for train_index, test_index in cross_validation.split(X):\r\n",
        "      # separating test data from training data based on return indices of training and testing sets\r\n",
        "      x_train, x_test, y_train, y_test = X.iloc[train_index],X.iloc[test_index],y.iloc[train_index],y.iloc[test_index]\r\n",
        "      \r\n",
        "      alpha_val = alpha\r\n",
        "      lasso_model = Lasso(alpha=alpha_val)\r\n",
        "      lasso_model.fit(x_train, y_train)\r\n",
        "\r\n",
        "      lasso_model_Y_pred_test = ridge_model.predict(x_test)\r\n",
        "\r\n",
        "      test_mse = mean_squared_error(y_test,lasso_model_Y_pred_test, squared=False)\r\n",
        "      \r\n",
        "      rmses.append(test_mse)\r\n",
        "  \r\n",
        "  mean_rmses.append(np.mean(rmses))\r\n",
        "\r\n",
        "min_rmse_index = mean_rmses.index(min(mean_rmses))\r\n",
        "best_lambda_l_4 = alphas[min_rmse_index]\r\n",
        "min_error_l_4 = min(mean_rmses)\r\n",
        "\r\n",
        "print(\"Lasso Regression, best lambda: \", best_lambda_l_4)\r\n",
        "print(\"Lasso Regression, corresponding testing error: \", min_error_l_4)\r\n"
      ],
      "execution_count": 145,
      "outputs": [
        {
          "output_type": "stream",
          "text": [
            "Lasso Regression, best lambda:  0\n",
            "Lasso Regression, corresponding testing error:  7.86203213059908\n"
          ],
          "name": "stdout"
        }
      ]
    },
    {
      "cell_type": "markdown",
      "metadata": {
        "id": "oUm--6zCvB5J"
      },
      "source": [
        "### Comparison of Results obtained from Q-3 and Q-4"
      ]
    },
    {
      "cell_type": "code",
      "metadata": {
        "colab": {
          "base_uri": "https://localhost:8080/"
        },
        "id": "T_Oy9UIEw2nw",
        "outputId": "cd9c8c90-150c-4120-9ea3-ba64a32aec03"
      },
      "source": [
        "print(\"Ridge Regression with scaled data set, best lambda: \", best_lambda_r_3)\r\n",
        "print(\"Ridge Regression with scaled data set, corresponding testing error: \", min_error_r_3)\r\n",
        "print(\"\\n\")\r\n",
        "print(\"Ridge Regression with original data set, best lambda: \", best_lambda_r_4)\r\n",
        "print(\"Ridge Regression with original data set, corresponding testing error: \", min_error_r_4)\r\n",
        "print(\"\\n\")\r\n",
        "print(\"Lasso Regression with scaled data set, best lambda: \", best_lambda_l_3)\r\n",
        "print(\"Ridge Regression with scaled data set, corresponding testing error: \", min_error_l_3)\r\n",
        "print(\"\\n\")\r\n",
        "print(\"Ridge Regression with original data set, best lambda: \", best_lambda_l_4)\r\n",
        "print(\"Ridge Regression with original data set, corresponding testing error: \", min_error_l_4)\r\n"
      ],
      "execution_count": 147,
      "outputs": [
        {
          "output_type": "stream",
          "text": [
            "Ridge Regression with scaled data set, best lambda:  0.001\n",
            "Ridge Regression with scaled data set, corresponding testing error:  4.8700892651864365\n",
            "\n",
            "\n",
            "Ridge Regression with original data set, best lambda:  0\n",
            "Ridge Regression with original data set, corresponding testing error:  4.883826627394521\n",
            "\n",
            "\n",
            "Lasso Regression with scaled data set, best lambda:  0\n",
            "Ridge Regression with scaled data set, corresponding testing error:  9.722380074606637\n",
            "\n",
            "\n",
            "Ridge Regression with original data set, best lambda:  0\n",
            "Ridge Regression with original data set, corresponding testing error:  7.86203213059908\n"
          ],
          "name": "stdout"
        }
      ]
    },
    {
      "cell_type": "markdown",
      "metadata": {
        "id": "5O937B76wasw"
      },
      "source": [
        "Best lambda value for unscaled/original data for both ridge and lasso regression is 0, which is not surprising because when we remove scaling then these models gets affected by outliers in the dataset. Large values of all variables will not be penalized equally, features having higher values on average will be penalized more than other feature with same predictive importance but have smaller values on average."
      ]
    },
    {
      "cell_type": "markdown",
      "metadata": {
        "id": "6iEmZ6wI9gCJ"
      },
      "source": [
        "# Problem - 5"
      ]
    },
    {
      "cell_type": "markdown",
      "metadata": {
        "id": "dm9qMawp9ciX"
      },
      "source": [
        "Loading the E2006-tfidf dataset, downloaded from (http://www.csie.ntu.edu.tw/~cjlin/libsvmtools/datasets/regression.html)."
      ]
    },
    {
      "cell_type": "code",
      "metadata": {
        "id": "VyXuBDH99n4g"
      },
      "source": [
        "from sklearn.datasets import load_svmlight_file\r\n",
        "\r\n",
        "tfidf_data_train, tfidf_target_train = load_svmlight_file('./sample_data/E2006.train')\r\n",
        "tfidf_data_test, tfidf_target_test = load_svmlight_file('./sample_data/E2006.test')\r\n",
        "\r\n",
        "\r\n"
      ],
      "execution_count": 7,
      "outputs": []
    },
    {
      "cell_type": "markdown",
      "metadata": {
        "id": "waxos0sVCfl_"
      },
      "source": [
        "# Q-1: Solution of Ridge Regression and Lasso: Set the value of the regularization parameter alpha = 1, compute the optimal solution for ridge regression and lasso. Report the optimal solutions for both ridge regression and lasso."
      ]
    },
    {
      "cell_type": "markdown",
      "metadata": {
        "id": "lvtq-ynwDgBj"
      },
      "source": [
        "### Ridge Regression with alpha = 1"
      ]
    },
    {
      "cell_type": "code",
      "metadata": {
        "colab": {
          "base_uri": "https://localhost:8080/"
        },
        "id": "E5ZniDtxCikj",
        "outputId": "22328b69-a612-41d6-cc60-25bbd41c9e70"
      },
      "source": [
        "n = len(tfidf_target_train)\r\n",
        "alpha=1\r\n",
        "alpha_val = alpha * 2 * n\r\n",
        "ridge_model = Ridge(alpha=alpha_val)\r\n",
        "ridge_model.fit(tfidf_data_train, tfidf_target_train)\r\n",
        "\r\n",
        "print('Intercept: ',ridge_model.intercept_)\r\n",
        "print('Coefficients: \\n',ridge_model.coef_)"
      ],
      "execution_count": 8,
      "outputs": [
        {
          "output_type": "stream",
          "text": [
            "Intercept:  -3.079158838237557\n",
            "Coefficients: \n",
            " [1.28913349e-01 0.00000000e+00 0.00000000e+00 ... 2.25311432e-08\n",
            " 2.25311432e-08 2.25311432e-08]\n"
          ],
          "name": "stdout"
        }
      ]
    },
    {
      "cell_type": "markdown",
      "metadata": {
        "id": "rvWJ4vBYKtag"
      },
      "source": [
        "\r\n",
        "#Q-2: Training and testing error with different values of alpha: (i) Take the training data and testing data. (ii) For each value of alpha in [0, 0.001, 0.01,0.1, 1, 10, 100], run the ridge regression and lasso to obtain a model (w) and then compute the root mean square error on both the training and the testing data of the obtained model.(iii) Plot the error curves for root mean square error on both the training data and the testing data vs different values of alpha. You need to show the curves, and discuss your observations of the error curves, and report the best value of lambda and the corresponding testing error."
      ]
    },
    {
      "cell_type": "code",
      "metadata": {
        "id": "LhUuzw2uK1MW"
      },
      "source": [
        "alphas = [0, 0.001, 0.01, 0.1, 1, 10, 100]"
      ],
      "execution_count": 9,
      "outputs": []
    },
    {
      "cell_type": "markdown",
      "metadata": {
        "id": "NZxesYxKMRFI"
      },
      "source": [
        "### RMSE of Ridge Regression Model w.r.t different values of alpha."
      ]
    },
    {
      "cell_type": "code",
      "metadata": {
        "colab": {
          "base_uri": "https://localhost:8080/",
          "height": 936
        },
        "id": "Nxb35oJYMWi9",
        "outputId": "60c56c49-ff89-452a-f758-ba317accddea"
      },
      "source": [
        "train_mses = []\r\n",
        "test_mses = []\r\n",
        "\r\n",
        "\r\n",
        "X_train, X_test, Y_train, Y_test = train_test_split(tfidf_data_train, tfidf_target_train, train_size=0.7, test_size = 0.3, random_state = 5)\r\n",
        "\r\n",
        "n = len(Y_train)\r\n",
        "\r\n",
        "\r\n",
        "for alpha in alphas:\r\n",
        "  alpha_val = alpha * 2 * n\r\n",
        "  ridge_model = Ridge(alpha=alpha_val)\r\n",
        "  ridge_model.fit(X_train, Y_train)\r\n",
        "  ridge_model_Y_pred_train = ridge_model.predict(X_train)\r\n",
        "  ridge_model_Y_pred_test = ridge_model.predict(X_test)\r\n",
        "  \r\n",
        "  train_mse = mean_squared_error(Y_train,ridge_model_Y_pred_train, squared=False)\r\n",
        "  test_mse = mean_squared_error(Y_test,ridge_model_Y_pred_test, squared=False)\r\n",
        "\r\n",
        "  train_mses.append(train_mse)\r\n",
        "  test_mses.append(test_mse)\r\n",
        "\r\n",
        "plt.scatter(alphas,train_mses)\r\n",
        "plt.xlabel(\"Alpha\")\r\n",
        "plt.ylabel(\"RMSE\")\r\n",
        "plt.title(\"Training Data: Alpha vs RMSE\")\r\n",
        "plt.show()\r\n",
        "\r\n",
        "print(\"\\n\")\r\n",
        "\r\n",
        "print(\"Alpha: \", alphas)\r\n",
        "print(\"RMSE: \", train_mses)\r\n",
        "print(\"\\n\")\r\n",
        "\r\n",
        "min_rmse_index = train_mses.index(min(train_mses))\r\n",
        "best_lambda = alphas[min_rmse_index]\r\n",
        "\r\n",
        "print(\"Training Data, best lambda: \", best_lambda)\r\n",
        "print(\"Training Data, corresponding training error: \", min(train_mses))\r\n",
        "\r\n",
        "print(\"\\n\")\r\n",
        "\r\n",
        "plt.scatter(alphas,test_mses)\r\n",
        "plt.xlabel(\"Alpha\")\r\n",
        "plt.ylabel(\"RMSE\")\r\n",
        "plt.title(\"Testing Data: Alpha vs RMSE\")\r\n",
        "plt.show()\r\n",
        "\r\n",
        "print(\"\\n\")\r\n",
        "\r\n",
        "print(\"Alpha: \", alphas)\r\n",
        "print(\"RMSE: \", test_mses)\r\n",
        "\r\n",
        "print(\"\\n\")\r\n",
        "\r\n",
        "min_rmse_index = test_mses.index(min(test_mses))\r\n",
        "best_lambda = alphas[min_rmse_index]\r\n",
        "\r\n",
        "print(\"Testing Data, best lambda: \", best_lambda)\r\n",
        "print(\"Testing Data, corresponding testing error: \", min(test_mses))\r\n",
        "\r\n",
        "print(\"\\n\")\r\n"
      ],
      "execution_count": 10,
      "outputs": [
        {
          "output_type": "display_data",
          "data": {
            "image/png": "[encoded data removed]",
            "text/plain": [
              "<Figure size 432x288 with 1 Axes>"
            ]
          },
          "metadata": {
            "tags": [],
            "needs_background": "light"
          }
        },
        {
          "output_type": "stream",
          "text": [
            "\n",
            "\n",
            "Alpha:  [0, 0.001, 0.01, 0.1, 1, 10, 100]\n",
            "RMSE:  [0.0005961313413264107, 0.3654939135828476, 0.3665855578464263, 0.40928723034468045, 0.5661022619310162, 0.6190778652368568, 0.6254795829193477]\n",
            "\n",
            "\n",
            "Training Data, best lambda:  0\n",
            "Training Data, corresponding training error:  0.0005961313413264107\n",
            "\n",
            "\n"
          ],
          "name": "stdout"
        },
        {
          "output_type": "display_data",
          "data": {
            "image/png": "[encoded data removed]",
            "text/plain": [
              "<Figure size 432x288 with 1 Axes>"
            ]
          },
          "metadata": {
            "tags": [],
            "needs_background": "light"
          }
        },
        {
          "output_type": "stream",
          "text": [
            "\n",
            "\n",
            "Alpha:  [0, 0.001, 0.01, 0.1, 1, 10, 100]\n",
            "RMSE:  [0.5018725086659351, 0.3693340923327797, 0.37065246995900786, 0.414931959671767, 0.5732170617904243, 0.6264791188723389, 0.6329130534816999]\n",
            "\n",
            "\n",
            "Testing Data, best lambda:  0.001\n",
            "Testing Data, corresponding testing error:  0.3693340923327797\n",
            "\n",
            "\n"
          ],
          "name": "stdout"
        }
      ]
    },
    {
      "cell_type": "markdown",
      "metadata": {
        "id": "vrivod7KiZSy"
      },
      "source": [
        "###Discussion for above output:\r\n",
        "In training data the best lambda value is zero, which means that there is no need of penalizing. In other words the model that best overfits the training data will be the best since we are testing against trainining data values on which the model was trained.\r\n",
        "\r\n",
        "However, in case of testing data, the best lambda is 0.001 and smallest rmse value is greater than the smallest rmse value obtained for training data. This is surprising, it looks after penalizing varaibles the bias in the model has increased or the data in testing data is similar to the data in training data. This needs further investigation."
      ]
    },
    {
      "cell_type": "markdown",
      "metadata": {
        "id": "zmWd7LtQzR4e"
      },
      "source": [
        "### RMSE of Lasso Regression Model w.r.t different values of alpha."
      ]
    },
    {
      "cell_type": "code",
      "metadata": {
        "colab": {
          "base_uri": "https://localhost:8080/",
          "height": 936
        },
        "id": "2im7oII8Mc7I",
        "outputId": "87bcecc2-95f5-42e1-f505-58463d042cf5"
      },
      "source": [
        "import warnings\r\n",
        "warnings.filterwarnings('ignore')\r\n",
        "\r\n",
        "train_mses = []\r\n",
        "test_mses = []\r\n",
        "\r\n",
        "for alpha in alphas:\r\n",
        "\r\n",
        "  alpha_val = alpha\r\n",
        "  lasso_model = Lasso(alpha=alpha_val)\r\n",
        "  lasso_model.fit(X_train, Y_train)\r\n",
        "  lasso_model_Y_pred_train = lasso_model.predict(X_train)\r\n",
        "  lasso_model_Y_pred_test = lasso_model.predict(X_test)\r\n",
        "  \r\n",
        "  train_mse = mean_squared_error(Y_train,lasso_model_Y_pred_train, squared=False)\r\n",
        "  test_mse = mean_squared_error(Y_test,lasso_model_Y_pred_test, squared=False)\r\n",
        "\r\n",
        "  train_mses.append(train_mse)\r\n",
        "  test_mses.append(test_mse)\r\n",
        "\r\n",
        "plt.scatter(alphas,train_mses)\r\n",
        "plt.xlabel(\"Alpha\")\r\n",
        "plt.ylabel(\"RMSE\")\r\n",
        "plt.title(\"Training Data: Alpha vs RMSE\")\r\n",
        "plt.show()\r\n",
        "\r\n",
        "print(\"\\n\")\r\n",
        "\r\n",
        "print(\"Alpha: \", alphas)\r\n",
        "print(\"RMSE: \", train_mses)\r\n",
        "print(\"\\n\")\r\n",
        "\r\n",
        "min_rmse_index = train_mses.index(min(train_mses))\r\n",
        "best_lambda = alphas[min_rmse_index]\r\n",
        "\r\n",
        "print(\"Training Data, best lambda: \", best_lambda)\r\n",
        "print(\"Training Data, corresponding training error: \", min(train_mses))\r\n",
        "\r\n",
        "print(\"\\n\")\r\n",
        "\r\n",
        "plt.scatter(alphas,test_mses)\r\n",
        "plt.xlabel(\"Alpha\")\r\n",
        "plt.ylabel(\"RMSE\")\r\n",
        "plt.title(\"Testing Data: Alpha vs RMSE\")\r\n",
        "plt.show()\r\n",
        "\r\n",
        "print(\"\\n\")\r\n",
        "\r\n",
        "print(\"Alpha: \", alphas)\r\n",
        "print(\"RMSE: \", test_mses)\r\n",
        "\r\n",
        "print(\"\\n\")\r\n",
        "\r\n",
        "min_rmse_index = test_mses.index(min(test_mses))\r\n",
        "best_lambda = alphas[min_rmse_index]\r\n",
        "\r\n",
        "print(\"Testing Data, best lambda: \", best_lambda)\r\n",
        "print(\"Testing Data, corresponding testing error: \", min(test_mses))\r\n",
        "\r\n",
        "print(\"\\n\")"
      ],
      "execution_count": 11,
      "outputs": [
        {
          "output_type": "display_data",
          "data": {
            "image/png": "[encoded data removed]",
            "text/plain": [
              "<Figure size 432x288 with 1 Axes>"
            ]
          },
          "metadata": {
            "tags": [],
            "needs_background": "light"
          }
        },
        {
          "output_type": "stream",
          "text": [
            "\n",
            "\n",
            "Alpha:  [0, 0.001, 0.01, 0.1, 1, 10, 100]\n",
            "RMSE:  [0.00214377608339529, 0.36558242105446503, 0.36596632684675273, 0.402512027834824, 0.6262060776651692, 0.6262060776651692, 0.6262060776651692]\n",
            "\n",
            "\n",
            "Training Data, best lambda:  0\n",
            "Training Data, corresponding training error:  0.00214377608339529\n",
            "\n",
            "\n"
          ],
          "name": "stdout"
        },
        {
          "output_type": "display_data",
          "data": {
            "image/png": "[encoded data removed]",
            "text/plain": [
              "<Figure size 432x288 with 1 Axes>"
            ]
          },
          "metadata": {
            "tags": [],
            "needs_background": "light"
          }
        },
        {
          "output_type": "stream",
          "text": [
            "\n",
            "\n",
            "Alpha:  [0, 0.001, 0.01, 0.1, 1, 10, 100]\n",
            "RMSE:  [0.8531956308093962, 0.3693386571083639, 0.36990299192384, 0.4080249081642095, 0.6336431780299009, 0.6336431780299009, 0.6336431780299009]\n",
            "\n",
            "\n",
            "Testing Data, best lambda:  0.001\n",
            "Testing Data, corresponding testing error:  0.3693386571083639\n",
            "\n",
            "\n"
          ],
          "name": "stdout"
        }
      ]
    },
    {
      "cell_type": "markdown",
      "metadata": {
        "id": "Z8lM69nmD8-x"
      },
      "source": [
        "# Discussion for above output:\r\n",
        "In training data, the results are identical to results obtained for ridge regression. The best lambda value is zero, which means that there is no need of penalizing. In other words the model that best overfits the training data will be the best.\r\n",
        "\r\n",
        "In case of testing data, the best lambda value is 0.001, similar to one we obtained for ridge regression however, the corresponding rmse value is greater than the one obtained for ridge. We can say that lasso regression removes the features in the process which are useful for performing prediction."
      ]
    },
    {
      "cell_type": "markdown",
      "metadata": {
        "id": "Tm9PK09E6pWD"
      },
      "source": [
        "# Q-3: Cross-validation: "
      ]
    },
    {
      "cell_type": "markdown",
      "metadata": {
        "id": "Uh8AlfiZMCU_"
      },
      "source": [
        "### Ridge Regression"
      ]
    },
    {
      "cell_type": "code",
      "metadata": {
        "colab": {
          "base_uri": "https://localhost:8080/"
        },
        "id": "Ck_JPXR-67h_",
        "outputId": "d4698ad1-559a-4bdf-fd7a-0e365f585c7b"
      },
      "source": [
        "n = len(tfidf_target_train)\r\n",
        "\r\n",
        "mean_rmses = []\r\n",
        "for alpha in alphas:\r\n",
        "  rmses = []\r\n",
        "  kf = KFold(n_splits=5, random_state=10, shuffle=True)\r\n",
        "  \r\n",
        "  for train, test in kf.split(tfidf_data_train):\r\n",
        "      x = tfidf_data_train[train]\r\n",
        "      y = tfidf_target_train[train]\r\n",
        "\r\n",
        "      n = len(y)\r\n",
        "\r\n",
        "      alpha_val = alpha * 2 * n\r\n",
        "      model = Ridge(alpha=alpha_val)\r\n",
        "      \r\n",
        "      model.fit(x, y)\r\n",
        "      pred = model.predict(tfidf_data_train[test])\r\n",
        "\r\n",
        "      test_mse = mean_squared_error(tfidf_target_train[test],pred, squared=False)\r\n",
        "      \r\n",
        "      rmses.append(test_mse)\r\n",
        "\r\n",
        "  mean_rmses.append(np.mean(rmses))\r\n",
        "\r\n",
        "min_rmse_index = mean_rmses.index(min(mean_rmses))\r\n",
        "best_lambda_r_3 = alphas[min_rmse_index]\r\n",
        "min_error_r_3 = min(mean_rmses)\r\n",
        "print(\"Ridge Regression, best lambda: \", best_lambda_r_3)\r\n",
        "print(\"Ridge Regression, corresponding testing error: \", min_error_r_3)"
      ],
      "execution_count": 15,
      "outputs": [
        {
          "output_type": "stream",
          "text": [
            "Ridge Regression, best lambda:  0.001\n",
            "Ridge Regression, corresponding testing error:  0.36650650937608076\n"
          ],
          "name": "stdout"
        }
      ]
    },
    {
      "cell_type": "markdown",
      "metadata": {
        "id": "PtK_DfEfHP1z"
      },
      "source": [
        "### Lasso Regression"
      ]
    },
    {
      "cell_type": "code",
      "metadata": {
        "colab": {
          "base_uri": "https://localhost:8080/"
        },
        "id": "LXAqcxyPHSoa",
        "outputId": "b2347034-d06e-4a55-b04d-3aa12c4db5f8"
      },
      "source": [
        "n = len(tfidf_target_train)\r\n",
        "\r\n",
        "mean_rmses = []\r\n",
        "for alpha in alphas:\r\n",
        "  rmses = []\r\n",
        "  kf = KFold(n_splits=5, random_state=10, shuffle=True)\r\n",
        "  \r\n",
        "  for train, test in kf.split(tfidf_data_train):\r\n",
        "      x = tfidf_data_train[train]\r\n",
        "      y = tfidf_target_train[train]\r\n",
        "\r\n",
        "      alpha_val = alpha      \r\n",
        "      model = Lasso(alpha=alpha_val)\r\n",
        "      \r\n",
        "      model.fit(x, y)\r\n",
        "      pred = model.predict(tfidf_data_train[test])\r\n",
        "\r\n",
        "      test_mse = mean_squared_error(tfidf_target_train[test],pred, squared=False)\r\n",
        "      \r\n",
        "      rmses.append(test_mse)\r\n",
        "\r\n",
        "  mean_rmses.append(np.mean(rmses))\r\n",
        "\r\n",
        "min_rmse_index = mean_rmses.index(min(mean_rmses))\r\n",
        "best_lambda_l_3 = alphas[min_rmse_index]\r\n",
        "min_error_l_3 = min(mean_rmses)\r\n",
        "print(\"Ridge Regression, best lambda: \", best_lambda_l_3)\r\n",
        "print(\"Ridge Regression, corresponding testing error: \", min_error_l_3)"
      ],
      "execution_count": 16,
      "outputs": [
        {
          "output_type": "stream",
          "text": [
            "Ridge Regression, best lambda:  0.001\n",
            "Ridge Regression, corresponding testing error:  0.3665259287949114\n"
          ],
          "name": "stdout"
        }
      ]
    }
  ]
}