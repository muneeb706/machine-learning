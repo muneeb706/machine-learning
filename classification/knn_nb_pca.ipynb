{
  "nbformat": 4,
  "nbformat_minor": 0,
  "metadata": {
    "colab": {
      "name": "knn-nb-pca.ipynb",
      "provenance": [],
      "collapsed_sections": [],
      "authorship_tag": "ABX9TyMbnm6HAPc+6ugFS3xanHNp",
      "include_colab_link": true
    },
    "kernelspec": {
      "name": "python3",
      "display_name": "Python 3"
    }
  },
  "cells": [
    {
      "cell_type": "markdown",
      "metadata": {
        "id": "view-in-github",
        "colab_type": "text"
      },
      "source": [
        "<a href=\"https://colab.research.google.com/github/muneeb706/machine-learning/blob/main/knn_nb_pca.ipynb\" target=\"_parent\"><img src=\"https://colab.research.google.com/assets/colab-badge.svg\" alt=\"Open In Colab\"/></a>"
      ]
    },
    {
      "cell_type": "code",
      "metadata": {
        "id": "G45F_eyn4UBP",
        "colab": {
          "base_uri": "https://localhost:8080/"
        },
        "outputId": "99fb4766-f352-41c3-a309-5ed770ab7bd4"
      },
      "source": [
        "!pip install sklearn"
      ],
      "execution_count": 1,
      "outputs": [
        {
          "output_type": "stream",
          "text": [
            "Requirement already satisfied: sklearn in /usr/local/lib/python3.7/dist-packages (0.0)\n",
            "Requirement already satisfied: scikit-learn in /usr/local/lib/python3.7/dist-packages (from sklearn) (0.22.2.post1)\n",
            "Requirement already satisfied: numpy>=1.11.0 in /usr/local/lib/python3.7/dist-packages (from scikit-learn->sklearn) (1.19.5)\n",
            "Requirement already satisfied: scipy>=0.17.0 in /usr/local/lib/python3.7/dist-packages (from scikit-learn->sklearn) (1.4.1)\n",
            "Requirement already satisfied: joblib>=0.11 in /usr/local/lib/python3.7/dist-packages (from scikit-learn->sklearn) (1.0.1)\n"
          ],
          "name": "stdout"
        }
      ]
    },
    {
      "cell_type": "code",
      "metadata": {
        "id": "xHAt-k1C_InZ"
      },
      "source": [
        "import os\n",
        "import sys\n",
        "\n",
        "import numpy as np\n",
        "import pandas as pd\n",
        "\n",
        "from sklearn.model_selection import LeaveOneOut\n",
        "\n",
        "from sklearn.neighbors import KNeighborsClassifier"
      ],
      "execution_count": 2,
      "outputs": []
    },
    {
      "cell_type": "markdown",
      "metadata": {
        "id": "q1EMo2vF_p47"
      },
      "source": [
        "# Problem 1: KNN Classifier\n",
        "\n",
        "You are asked to build a k-Nearest Neighbor (kNN) classifier. The data set for evaluation is the\n",
        "heart data set. More information about the data can be found here https://archive.ics.uci.\n",
        "edu/ml/datasets/Statlog+(Heart). The data set is included in the provided data folder. In\n",
        "the heart data folder, there are three files: \\trainSet.txt\", \\trainLabels.txt\", and \\test.txt\". Each\n",
        "row of \\trainSet.txt\" corresponds to a data point whose class label is provided in the same row of\n",
        "\\trainLabels.txt\". Each row of \\testSet.txt\" corresponds to a data point whose class label needs\n",
        "to be predicted. You will train a classification model using \\trainSet.txt\" and \\trainLabels.txt\",\n",
        "and use it to predict the class labels for the data points in \\testSet.txt\".\n",
        "Use the leave one out cross validation on the training data to select the best k among f1; 2; : : : ; 10g.\n",
        "Report the averaged leave-one-out error (averaged over all training data points) for each k 2\n",
        "f1; 2; : : : ; 10g and the best k used for predicting the class labels for test instances. You should also\n",
        "report the predicted labels for the testSet."
      ]
    },
    {
      "cell_type": "markdown",
      "metadata": {
        "id": "mPVO8fUA_yv3"
      },
      "source": [
        "Loading the heart dataset, downloaded from (https://archive.ics.uci.edu/ml/datasets/Statlog+(Heart))"
      ]
    },
    {
      "cell_type": "code",
      "metadata": {
        "colab": {
          "base_uri": "https://localhost:8080/",
          "height": 198
        },
        "id": "RjhVEPTh_xQw",
        "outputId": "778ae60f-449a-4100-fff0-f9d1f0e6fb6d"
      },
      "source": [
        "train_data = pd.read_csv('./sample_data/heart_trainSet.txt', sep=\",\", header=None)\n",
        "train_data.columns = [\"column-1\", \"column-2\", \"column-3\", \"column-4\", \n",
        "                            \"column-5\", \"column-6\", \"column-7\", \"column-8\", \"column-9\", \n",
        "                            \"column-10\", \"column-11\", \"column-12\", \"column-13\"]\n",
        "train_data.head()"
      ],
      "execution_count": 3,
      "outputs": [
        {
          "output_type": "execute_result",
          "data": {
            "text/html": [
              "<div>\n",
              "<style scoped>\n",
              "    .dataframe tbody tr th:only-of-type {\n",
              "        vertical-align: middle;\n",
              "    }\n",
              "\n",
              "    .dataframe tbody tr th {\n",
              "        vertical-align: top;\n",
              "    }\n",
              "\n",
              "    .dataframe thead th {\n",
              "        text-align: right;\n",
              "    }\n",
              "</style>\n",
              "<table border=\"1\" class=\"dataframe\">\n",
              "  <thead>\n",
              "    <tr style=\"text-align: right;\">\n",
              "      <th></th>\n",
              "      <th>column-1</th>\n",
              "      <th>column-2</th>\n",
              "      <th>column-3</th>\n",
              "      <th>column-4</th>\n",
              "      <th>column-5</th>\n",
              "      <th>column-6</th>\n",
              "      <th>column-7</th>\n",
              "      <th>column-8</th>\n",
              "      <th>column-9</th>\n",
              "      <th>column-10</th>\n",
              "      <th>column-11</th>\n",
              "      <th>column-12</th>\n",
              "      <th>column-13</th>\n",
              "    </tr>\n",
              "  </thead>\n",
              "  <tbody>\n",
              "    <tr>\n",
              "      <th>0</th>\n",
              "      <td>0.041667</td>\n",
              "      <td>1</td>\n",
              "      <td>1.00000</td>\n",
              "      <td>-0.47170</td>\n",
              "      <td>-0.26941</td>\n",
              "      <td>-1</td>\n",
              "      <td>1</td>\n",
              "      <td>-0.312980</td>\n",
              "      <td>1</td>\n",
              "      <td>0.032258</td>\n",
              "      <td>0</td>\n",
              "      <td>0.33333</td>\n",
              "      <td>-1.0</td>\n",
              "    </tr>\n",
              "    <tr>\n",
              "      <th>1</th>\n",
              "      <td>0.208330</td>\n",
              "      <td>1</td>\n",
              "      <td>1.00000</td>\n",
              "      <td>-0.88679</td>\n",
              "      <td>-0.50685</td>\n",
              "      <td>-1</td>\n",
              "      <td>-1</td>\n",
              "      <td>0.297710</td>\n",
              "      <td>-1</td>\n",
              "      <td>-0.967740</td>\n",
              "      <td>-1</td>\n",
              "      <td>-0.33333</td>\n",
              "      <td>1.0</td>\n",
              "    </tr>\n",
              "    <tr>\n",
              "      <th>2</th>\n",
              "      <td>0.583330</td>\n",
              "      <td>1</td>\n",
              "      <td>1.00000</td>\n",
              "      <td>-0.88679</td>\n",
              "      <td>-0.21005</td>\n",
              "      <td>-1</td>\n",
              "      <td>1</td>\n",
              "      <td>-0.175570</td>\n",
              "      <td>1</td>\n",
              "      <td>-0.709680</td>\n",
              "      <td>0</td>\n",
              "      <td>0.33333</td>\n",
              "      <td>-1.0</td>\n",
              "    </tr>\n",
              "    <tr>\n",
              "      <th>3</th>\n",
              "      <td>0.000000</td>\n",
              "      <td>-1</td>\n",
              "      <td>1.00000</td>\n",
              "      <td>-0.32076</td>\n",
              "      <td>-0.36986</td>\n",
              "      <td>-1</td>\n",
              "      <td>1</td>\n",
              "      <td>0.099237</td>\n",
              "      <td>-1</td>\n",
              "      <td>-0.870970</td>\n",
              "      <td>0</td>\n",
              "      <td>-1.00000</td>\n",
              "      <td>-1.0</td>\n",
              "    </tr>\n",
              "    <tr>\n",
              "      <th>4</th>\n",
              "      <td>0.166670</td>\n",
              "      <td>1</td>\n",
              "      <td>0.33333</td>\n",
              "      <td>-0.35849</td>\n",
              "      <td>-0.52968</td>\n",
              "      <td>-1</td>\n",
              "      <td>1</td>\n",
              "      <td>0.206110</td>\n",
              "      <td>-1</td>\n",
              "      <td>-0.870970</td>\n",
              "      <td>0</td>\n",
              "      <td>-0.33333</td>\n",
              "      <td>1.0</td>\n",
              "    </tr>\n",
              "  </tbody>\n",
              "</table>\n",
              "</div>"
            ],
            "text/plain": [
              "   column-1  column-2  column-3  ...  column-11  column-12  column-13\n",
              "0  0.041667         1   1.00000  ...          0    0.33333       -1.0\n",
              "1  0.208330         1   1.00000  ...         -1   -0.33333        1.0\n",
              "2  0.583330         1   1.00000  ...          0    0.33333       -1.0\n",
              "3  0.000000        -1   1.00000  ...          0   -1.00000       -1.0\n",
              "4  0.166670         1   0.33333  ...          0   -0.33333        1.0\n",
              "\n",
              "[5 rows x 13 columns]"
            ]
          },
          "metadata": {
            "tags": []
          },
          "execution_count": 3
        }
      ]
    },
    {
      "cell_type": "code",
      "metadata": {
        "colab": {
          "base_uri": "https://localhost:8080/",
          "height": 198
        },
        "id": "smrY4PxXEacf",
        "outputId": "01c5a8ba-2850-4a24-cdef-b34b7686ef8a"
      },
      "source": [
        "train_data_labels = pd.read_csv('./sample_data/heart_trainLabels.txt', sep=\",\", header=None)\n",
        "train_data_labels.columns = [\"target\"]\n",
        "train_data_labels.head()"
      ],
      "execution_count": 4,
      "outputs": [
        {
          "output_type": "execute_result",
          "data": {
            "text/html": [
              "<div>\n",
              "<style scoped>\n",
              "    .dataframe tbody tr th:only-of-type {\n",
              "        vertical-align: middle;\n",
              "    }\n",
              "\n",
              "    .dataframe tbody tr th {\n",
              "        vertical-align: top;\n",
              "    }\n",
              "\n",
              "    .dataframe thead th {\n",
              "        text-align: right;\n",
              "    }\n",
              "</style>\n",
              "<table border=\"1\" class=\"dataframe\">\n",
              "  <thead>\n",
              "    <tr style=\"text-align: right;\">\n",
              "      <th></th>\n",
              "      <th>target</th>\n",
              "    </tr>\n",
              "  </thead>\n",
              "  <tbody>\n",
              "    <tr>\n",
              "      <th>0</th>\n",
              "      <td>1</td>\n",
              "    </tr>\n",
              "    <tr>\n",
              "      <th>1</th>\n",
              "      <td>1</td>\n",
              "    </tr>\n",
              "    <tr>\n",
              "      <th>2</th>\n",
              "      <td>1</td>\n",
              "    </tr>\n",
              "    <tr>\n",
              "      <th>3</th>\n",
              "      <td>-1</td>\n",
              "    </tr>\n",
              "    <tr>\n",
              "      <th>4</th>\n",
              "      <td>1</td>\n",
              "    </tr>\n",
              "  </tbody>\n",
              "</table>\n",
              "</div>"
            ],
            "text/plain": [
              "   target\n",
              "0       1\n",
              "1       1\n",
              "2       1\n",
              "3      -1\n",
              "4       1"
            ]
          },
          "metadata": {
            "tags": []
          },
          "execution_count": 4
        }
      ]
    },
    {
      "cell_type": "code",
      "metadata": {
        "colab": {
          "base_uri": "https://localhost:8080/",
          "height": 198
        },
        "id": "dVsHXyzeFEj2",
        "outputId": "a784cdb7-037b-4a2b-8acf-664267f6d732"
      },
      "source": [
        "test_data = pd.read_csv('./sample_data/heart_testSet.txt', sep=\",\", header=None)\n",
        "test_data.columns = [\"column-1\", \"column-2\", \"column-3\", \"column-4\", \n",
        "                            \"column-5\", \"column-6\", \"column-7\", \"column-8\", \"column-9\", \n",
        "                            \"column-10\", \"column-11\", \"column-12\", \"column-13\"]\n",
        "test_data.head()"
      ],
      "execution_count": 5,
      "outputs": [
        {
          "output_type": "execute_result",
          "data": {
            "text/html": [
              "<div>\n",
              "<style scoped>\n",
              "    .dataframe tbody tr th:only-of-type {\n",
              "        vertical-align: middle;\n",
              "    }\n",
              "\n",
              "    .dataframe tbody tr th {\n",
              "        vertical-align: top;\n",
              "    }\n",
              "\n",
              "    .dataframe thead th {\n",
              "        text-align: right;\n",
              "    }\n",
              "</style>\n",
              "<table border=\"1\" class=\"dataframe\">\n",
              "  <thead>\n",
              "    <tr style=\"text-align: right;\">\n",
              "      <th></th>\n",
              "      <th>column-1</th>\n",
              "      <th>column-2</th>\n",
              "      <th>column-3</th>\n",
              "      <th>column-4</th>\n",
              "      <th>column-5</th>\n",
              "      <th>column-6</th>\n",
              "      <th>column-7</th>\n",
              "      <th>column-8</th>\n",
              "      <th>column-9</th>\n",
              "      <th>column-10</th>\n",
              "      <th>column-11</th>\n",
              "      <th>column-12</th>\n",
              "      <th>column-13</th>\n",
              "    </tr>\n",
              "  </thead>\n",
              "  <tbody>\n",
              "    <tr>\n",
              "      <th>0</th>\n",
              "      <td>0.291670</td>\n",
              "      <td>-1</td>\n",
              "      <td>1.00000</td>\n",
              "      <td>0.20755</td>\n",
              "      <td>-0.18265</td>\n",
              "      <td>-1</td>\n",
              "      <td>1</td>\n",
              "      <td>0.374050</td>\n",
              "      <td>-1</td>\n",
              "      <td>-1.000000</td>\n",
              "      <td>-1</td>\n",
              "      <td>-1.00000</td>\n",
              "      <td>-1.0</td>\n",
              "    </tr>\n",
              "    <tr>\n",
              "      <th>1</th>\n",
              "      <td>0.166670</td>\n",
              "      <td>1</td>\n",
              "      <td>-0.33333</td>\n",
              "      <td>-0.43396</td>\n",
              "      <td>-0.38356</td>\n",
              "      <td>-1</td>\n",
              "      <td>-1</td>\n",
              "      <td>0.068702</td>\n",
              "      <td>-1</td>\n",
              "      <td>-0.903230</td>\n",
              "      <td>-1</td>\n",
              "      <td>-1.00000</td>\n",
              "      <td>1.0</td>\n",
              "    </tr>\n",
              "    <tr>\n",
              "      <th>2</th>\n",
              "      <td>-0.291670</td>\n",
              "      <td>1</td>\n",
              "      <td>1.00000</td>\n",
              "      <td>-0.13207</td>\n",
              "      <td>-0.15525</td>\n",
              "      <td>-1</td>\n",
              "      <td>-1</td>\n",
              "      <td>-0.251910</td>\n",
              "      <td>1</td>\n",
              "      <td>-0.419350</td>\n",
              "      <td>0</td>\n",
              "      <td>0.33333</td>\n",
              "      <td>1.0</td>\n",
              "    </tr>\n",
              "    <tr>\n",
              "      <th>3</th>\n",
              "      <td>-0.500000</td>\n",
              "      <td>1</td>\n",
              "      <td>0.33333</td>\n",
              "      <td>-0.32076</td>\n",
              "      <td>-0.59817</td>\n",
              "      <td>-1</td>\n",
              "      <td>1</td>\n",
              "      <td>0.480920</td>\n",
              "      <td>-1</td>\n",
              "      <td>-0.354840</td>\n",
              "      <td>0</td>\n",
              "      <td>-1.00000</td>\n",
              "      <td>-1.0</td>\n",
              "    </tr>\n",
              "    <tr>\n",
              "      <th>4</th>\n",
              "      <td>0.041667</td>\n",
              "      <td>1</td>\n",
              "      <td>1.00000</td>\n",
              "      <td>-0.69811</td>\n",
              "      <td>-0.48402</td>\n",
              "      <td>-1</td>\n",
              "      <td>-1</td>\n",
              "      <td>-0.160310</td>\n",
              "      <td>1</td>\n",
              "      <td>-0.096774</td>\n",
              "      <td>0</td>\n",
              "      <td>-0.33333</td>\n",
              "      <td>1.0</td>\n",
              "    </tr>\n",
              "  </tbody>\n",
              "</table>\n",
              "</div>"
            ],
            "text/plain": [
              "   column-1  column-2  column-3  ...  column-11  column-12  column-13\n",
              "0  0.291670        -1   1.00000  ...         -1   -1.00000       -1.0\n",
              "1  0.166670         1  -0.33333  ...         -1   -1.00000        1.0\n",
              "2 -0.291670         1   1.00000  ...          0    0.33333        1.0\n",
              "3 -0.500000         1   0.33333  ...          0   -1.00000       -1.0\n",
              "4  0.041667         1   1.00000  ...          0   -0.33333        1.0\n",
              "\n",
              "[5 rows x 13 columns]"
            ]
          },
          "metadata": {
            "tags": []
          },
          "execution_count": 5
        }
      ]
    },
    {
      "cell_type": "markdown",
      "metadata": {
        "id": "nhbaNeYLIaYy"
      },
      "source": [
        "Leave One Out Cross Validation for each k = [1,2,.....10]"
      ]
    },
    {
      "cell_type": "code",
      "metadata": {
        "colab": {
          "base_uri": "https://localhost:8080/"
        },
        "id": "SVoDF-TSIcnN",
        "outputId": "d8733973-4874-40b7-8e4f-de1573ff6351"
      },
      "source": [
        "ks = [1,2,3,4,5,6,7,8,9,10]\n",
        "loo = LeaveOneOut()\n",
        "mean_errors = []\n",
        "for k in ks:\n",
        "  neigh = KNeighborsClassifier(n_neighbors=k)\n",
        "  errors = []\n",
        "  for train_index, test_index in loo.split(train_data):\n",
        "    X_train, X_test = train_data.iloc[train_index,0:], train_data.iloc[test_index,0:]\n",
        "    y_train, y_test = train_data_labels.iloc[train_index,0], train_data_labels.iloc[test_index,0]\n",
        "    neigh.fit(X_train, y_train)\n",
        "    accuracy = neigh.score(X_test, y_test)\n",
        "    errors.append(1 - accuracy)\n",
        "\n",
        "  mean_errors.append(np.mean(errors))\n",
        "  \n",
        "min_error_index = mean_errors.index(min(mean_errors))\n",
        "best_k = ks[min_error_index]\n",
        "\n",
        "print(\"Leave One out errors: \", mean_errors)\n",
        "print(\"Best K: \", best_k)\n",
        "print(\"Corresponding leave one out error: \", min(mean_errors))"
      ],
      "execution_count": 6,
      "outputs": [
        {
          "output_type": "stream",
          "text": [
            "Leave One out errors:  [0.22633744855967078, 0.22633744855967078, 0.1728395061728395, 0.18518518518518517, 0.18106995884773663, 0.1646090534979424, 0.16872427983539096, 0.18106995884773663, 0.18106995884773663, 0.17695473251028807]\n",
            "Best K:  6\n",
            "Corresponding leave one out error:  0.1646090534979424\n"
          ],
          "name": "stdout"
        }
      ]
    },
    {
      "cell_type": "markdown",
      "metadata": {
        "id": "JCwgW6VuUszg"
      },
      "source": [
        "Predicitng labels for the test using best value of k obtained in previous step."
      ]
    },
    {
      "cell_type": "code",
      "metadata": {
        "colab": {
          "base_uri": "https://localhost:8080/"
        },
        "id": "yS_sLlUdU0My",
        "outputId": "d1d0ed37-f2d8-4cd7-a247-82aeeb82ad57"
      },
      "source": [
        " best_neigh = KNeighborsClassifier(n_neighbors=best_k)\n",
        " best_neigh.fit(train_data.iloc[:,:], train_data_labels.iloc[:,0])\n",
        " best_neigh.predict(test_data.iloc[:,:])"
      ],
      "execution_count": 7,
      "outputs": [
        {
          "output_type": "execute_result",
          "data": {
            "text/plain": [
              "array([-1, -1,  1, -1,  1, -1, -1,  1, -1,  1,  1,  1, -1, -1, -1,  1,  1,\n",
              "       -1, -1, -1,  1,  1,  1,  1, -1, -1, -1])"
            ]
          },
          "metadata": {
            "tags": []
          },
          "execution_count": 7
        }
      ]
    },
    {
      "cell_type": "markdown",
      "metadata": {
        "id": "bx_rejniVoYV"
      },
      "source": [
        "# Problem 2 (b): Naive Bayes for Text Classification\n",
        "\n",
        "The data set for training and evaluation is the 20NewsGroup data, which is included in\n",
        "the provided data folder. You will find six text files in this data set: train.data, train.label,\n",
        "train.map, test.data, test.label, and test.map, where the first three files are used for training\n",
        "and the last three files are for testing. In the train.data file, you will find the word histograms\n",
        "of all documents; each row is a tuple of format (document-id, word-id, word-occurrence). The\n",
        "class labels of training documents can be found in train.label with the order corresponding to\n",
        "training documents' id, and the topic of each class can be found in train.map. Similarly, the\n",
        "word histograms and the class assignments of test documents can be found in test.data and\n",
        "test.label, respectively. In this problem, you need to train a Naive Bayes classifier with the\n",
        "Laplace smoothing using the training data and apply the learned classifier to predict the class\n",
        "labels for the test documents."
      ]
    },
    {
      "cell_type": "code",
      "metadata": {
        "id": "4lTbUGjqcjba"
      },
      "source": [
        "import numpy as np\n",
        "import pandas as pd"
      ],
      "execution_count": 8,
      "outputs": []
    },
    {
      "cell_type": "markdown",
      "metadata": {
        "id": "9p1AQSFHbxps"
      },
      "source": [
        "Loading 20 News Group Dataset."
      ]
    },
    {
      "cell_type": "code",
      "metadata": {
        "colab": {
          "base_uri": "https://localhost:8080/",
          "height": 198
        },
        "id": "_8IfeGrCVuFl",
        "outputId": "f441f31f-19ea-461b-8d2d-f2f5485cfaf9"
      },
      "source": [
        "ng_train_data = pd.read_csv('./sample_data/train.data', sep=\" \", header=None)\n",
        "ng_train_data.columns = [\"document-id\", \"word-id\", \"word-occurrence\"]\n",
        "ng_train_data.head()"
      ],
      "execution_count": 9,
      "outputs": [
        {
          "output_type": "execute_result",
          "data": {
            "text/html": [
              "<div>\n",
              "<style scoped>\n",
              "    .dataframe tbody tr th:only-of-type {\n",
              "        vertical-align: middle;\n",
              "    }\n",
              "\n",
              "    .dataframe tbody tr th {\n",
              "        vertical-align: top;\n",
              "    }\n",
              "\n",
              "    .dataframe thead th {\n",
              "        text-align: right;\n",
              "    }\n",
              "</style>\n",
              "<table border=\"1\" class=\"dataframe\">\n",
              "  <thead>\n",
              "    <tr style=\"text-align: right;\">\n",
              "      <th></th>\n",
              "      <th>document-id</th>\n",
              "      <th>word-id</th>\n",
              "      <th>word-occurrence</th>\n",
              "    </tr>\n",
              "  </thead>\n",
              "  <tbody>\n",
              "    <tr>\n",
              "      <th>0</th>\n",
              "      <td>1</td>\n",
              "      <td>1</td>\n",
              "      <td>4</td>\n",
              "    </tr>\n",
              "    <tr>\n",
              "      <th>1</th>\n",
              "      <td>1</td>\n",
              "      <td>2</td>\n",
              "      <td>2</td>\n",
              "    </tr>\n",
              "    <tr>\n",
              "      <th>2</th>\n",
              "      <td>1</td>\n",
              "      <td>3</td>\n",
              "      <td>10</td>\n",
              "    </tr>\n",
              "    <tr>\n",
              "      <th>3</th>\n",
              "      <td>1</td>\n",
              "      <td>4</td>\n",
              "      <td>4</td>\n",
              "    </tr>\n",
              "    <tr>\n",
              "      <th>4</th>\n",
              "      <td>1</td>\n",
              "      <td>5</td>\n",
              "      <td>2</td>\n",
              "    </tr>\n",
              "  </tbody>\n",
              "</table>\n",
              "</div>"
            ],
            "text/plain": [
              "   document-id  word-id  word-occurrence\n",
              "0            1        1                4\n",
              "1            1        2                2\n",
              "2            1        3               10\n",
              "3            1        4                4\n",
              "4            1        5                2"
            ]
          },
          "metadata": {
            "tags": []
          },
          "execution_count": 9
        }
      ]
    },
    {
      "cell_type": "code",
      "metadata": {
        "colab": {
          "base_uri": "https://localhost:8080/",
          "height": 198
        },
        "id": "PThw1FUTcyI2",
        "outputId": "cec48912-a60e-47b9-8c7e-1b0e43b8dc7c"
      },
      "source": [
        "ng_train_labels = pd.read_csv('./sample_data/train.label', sep=\" \", header=None)\n",
        "ng_train_labels.columns = [\"target\"]\n",
        "ng_train_labels.head()"
      ],
      "execution_count": 10,
      "outputs": [
        {
          "output_type": "execute_result",
          "data": {
            "text/html": [
              "<div>\n",
              "<style scoped>\n",
              "    .dataframe tbody tr th:only-of-type {\n",
              "        vertical-align: middle;\n",
              "    }\n",
              "\n",
              "    .dataframe tbody tr th {\n",
              "        vertical-align: top;\n",
              "    }\n",
              "\n",
              "    .dataframe thead th {\n",
              "        text-align: right;\n",
              "    }\n",
              "</style>\n",
              "<table border=\"1\" class=\"dataframe\">\n",
              "  <thead>\n",
              "    <tr style=\"text-align: right;\">\n",
              "      <th></th>\n",
              "      <th>target</th>\n",
              "    </tr>\n",
              "  </thead>\n",
              "  <tbody>\n",
              "    <tr>\n",
              "      <th>0</th>\n",
              "      <td>1</td>\n",
              "    </tr>\n",
              "    <tr>\n",
              "      <th>1</th>\n",
              "      <td>1</td>\n",
              "    </tr>\n",
              "    <tr>\n",
              "      <th>2</th>\n",
              "      <td>1</td>\n",
              "    </tr>\n",
              "    <tr>\n",
              "      <th>3</th>\n",
              "      <td>1</td>\n",
              "    </tr>\n",
              "    <tr>\n",
              "      <th>4</th>\n",
              "      <td>1</td>\n",
              "    </tr>\n",
              "  </tbody>\n",
              "</table>\n",
              "</div>"
            ],
            "text/plain": [
              "   target\n",
              "0       1\n",
              "1       1\n",
              "2       1\n",
              "3       1\n",
              "4       1"
            ]
          },
          "metadata": {
            "tags": []
          },
          "execution_count": 10
        }
      ]
    },
    {
      "cell_type": "code",
      "metadata": {
        "colab": {
          "base_uri": "https://localhost:8080/",
          "height": 198
        },
        "id": "ClPfLAtadBch",
        "outputId": "5d2bf369-da2d-4744-d6d3-32f715725cd6"
      },
      "source": [
        "ng_labels_map = pd.read_csv('./sample_data/train.map', sep=\" \", header=None)\n",
        "ng_labels_map.columns = [\"category-name\", \"category-id\"]\n",
        "ng_labels_map.head()"
      ],
      "execution_count": 11,
      "outputs": [
        {
          "output_type": "execute_result",
          "data": {
            "text/html": [
              "<div>\n",
              "<style scoped>\n",
              "    .dataframe tbody tr th:only-of-type {\n",
              "        vertical-align: middle;\n",
              "    }\n",
              "\n",
              "    .dataframe tbody tr th {\n",
              "        vertical-align: top;\n",
              "    }\n",
              "\n",
              "    .dataframe thead th {\n",
              "        text-align: right;\n",
              "    }\n",
              "</style>\n",
              "<table border=\"1\" class=\"dataframe\">\n",
              "  <thead>\n",
              "    <tr style=\"text-align: right;\">\n",
              "      <th></th>\n",
              "      <th>category-name</th>\n",
              "      <th>category-id</th>\n",
              "    </tr>\n",
              "  </thead>\n",
              "  <tbody>\n",
              "    <tr>\n",
              "      <th>0</th>\n",
              "      <td>alt.atheism</td>\n",
              "      <td>1</td>\n",
              "    </tr>\n",
              "    <tr>\n",
              "      <th>1</th>\n",
              "      <td>comp.graphics</td>\n",
              "      <td>2</td>\n",
              "    </tr>\n",
              "    <tr>\n",
              "      <th>2</th>\n",
              "      <td>comp.os.ms-windows.misc</td>\n",
              "      <td>3</td>\n",
              "    </tr>\n",
              "    <tr>\n",
              "      <th>3</th>\n",
              "      <td>comp.sys.ibm.pc.hardware</td>\n",
              "      <td>4</td>\n",
              "    </tr>\n",
              "    <tr>\n",
              "      <th>4</th>\n",
              "      <td>comp.sys.mac.hardware</td>\n",
              "      <td>5</td>\n",
              "    </tr>\n",
              "  </tbody>\n",
              "</table>\n",
              "</div>"
            ],
            "text/plain": [
              "              category-name  category-id\n",
              "0               alt.atheism            1\n",
              "1             comp.graphics            2\n",
              "2   comp.os.ms-windows.misc            3\n",
              "3  comp.sys.ibm.pc.hardware            4\n",
              "4     comp.sys.mac.hardware            5"
            ]
          },
          "metadata": {
            "tags": []
          },
          "execution_count": 11
        }
      ]
    },
    {
      "cell_type": "code",
      "metadata": {
        "colab": {
          "base_uri": "https://localhost:8080/",
          "height": 198
        },
        "id": "7OqQTKF1dbkg",
        "outputId": "260e69c9-7f42-4d0a-da12-8a7fbf2097ec"
      },
      "source": [
        "ng_test_data = pd.read_csv('./sample_data/test.data', sep=\" \", header=None)\n",
        "ng_test_data.columns = [\"document-id\", \"word-id\", \"word-occurrence\"]\n",
        "ng_test_data.head()"
      ],
      "execution_count": 14,
      "outputs": [
        {
          "output_type": "execute_result",
          "data": {
            "text/html": [
              "<div>\n",
              "<style scoped>\n",
              "    .dataframe tbody tr th:only-of-type {\n",
              "        vertical-align: middle;\n",
              "    }\n",
              "\n",
              "    .dataframe tbody tr th {\n",
              "        vertical-align: top;\n",
              "    }\n",
              "\n",
              "    .dataframe thead th {\n",
              "        text-align: right;\n",
              "    }\n",
              "</style>\n",
              "<table border=\"1\" class=\"dataframe\">\n",
              "  <thead>\n",
              "    <tr style=\"text-align: right;\">\n",
              "      <th></th>\n",
              "      <th>document-id</th>\n",
              "      <th>word-id</th>\n",
              "      <th>word-occurrence</th>\n",
              "    </tr>\n",
              "  </thead>\n",
              "  <tbody>\n",
              "    <tr>\n",
              "      <th>0</th>\n",
              "      <td>1</td>\n",
              "      <td>3</td>\n",
              "      <td>1</td>\n",
              "    </tr>\n",
              "    <tr>\n",
              "      <th>1</th>\n",
              "      <td>1</td>\n",
              "      <td>10</td>\n",
              "      <td>1</td>\n",
              "    </tr>\n",
              "    <tr>\n",
              "      <th>2</th>\n",
              "      <td>1</td>\n",
              "      <td>12</td>\n",
              "      <td>8</td>\n",
              "    </tr>\n",
              "    <tr>\n",
              "      <th>3</th>\n",
              "      <td>1</td>\n",
              "      <td>17</td>\n",
              "      <td>1</td>\n",
              "    </tr>\n",
              "    <tr>\n",
              "      <th>4</th>\n",
              "      <td>1</td>\n",
              "      <td>23</td>\n",
              "      <td>8</td>\n",
              "    </tr>\n",
              "  </tbody>\n",
              "</table>\n",
              "</div>"
            ],
            "text/plain": [
              "   document-id  word-id  word-occurrence\n",
              "0            1        3                1\n",
              "1            1       10                1\n",
              "2            1       12                8\n",
              "3            1       17                1\n",
              "4            1       23                8"
            ]
          },
          "metadata": {
            "tags": []
          },
          "execution_count": 14
        }
      ]
    },
    {
      "cell_type": "code",
      "metadata": {
        "colab": {
          "base_uri": "https://localhost:8080/",
          "height": 198
        },
        "id": "jhjIE1yydtpd",
        "outputId": "715d1858-5795-43c3-ce0a-69c6fd706a13"
      },
      "source": [
        "ng_test_labels = pd.read_csv('./sample_data/test.label', sep=\" \", header=None)\n",
        "ng_test_labels.columns = [\"target\"]\n",
        "ng_test_labels.head()"
      ],
      "execution_count": 15,
      "outputs": [
        {
          "output_type": "execute_result",
          "data": {
            "text/html": [
              "<div>\n",
              "<style scoped>\n",
              "    .dataframe tbody tr th:only-of-type {\n",
              "        vertical-align: middle;\n",
              "    }\n",
              "\n",
              "    .dataframe tbody tr th {\n",
              "        vertical-align: top;\n",
              "    }\n",
              "\n",
              "    .dataframe thead th {\n",
              "        text-align: right;\n",
              "    }\n",
              "</style>\n",
              "<table border=\"1\" class=\"dataframe\">\n",
              "  <thead>\n",
              "    <tr style=\"text-align: right;\">\n",
              "      <th></th>\n",
              "      <th>target</th>\n",
              "    </tr>\n",
              "  </thead>\n",
              "  <tbody>\n",
              "    <tr>\n",
              "      <th>0</th>\n",
              "      <td>1</td>\n",
              "    </tr>\n",
              "    <tr>\n",
              "      <th>1</th>\n",
              "      <td>1</td>\n",
              "    </tr>\n",
              "    <tr>\n",
              "      <th>2</th>\n",
              "      <td>1</td>\n",
              "    </tr>\n",
              "    <tr>\n",
              "      <th>3</th>\n",
              "      <td>1</td>\n",
              "    </tr>\n",
              "    <tr>\n",
              "      <th>4</th>\n",
              "      <td>1</td>\n",
              "    </tr>\n",
              "  </tbody>\n",
              "</table>\n",
              "</div>"
            ],
            "text/plain": [
              "   target\n",
              "0       1\n",
              "1       1\n",
              "2       1\n",
              "3       1\n",
              "4       1"
            ]
          },
          "metadata": {
            "tags": []
          },
          "execution_count": 15
        }
      ]
    },
    {
      "cell_type": "markdown",
      "metadata": {
        "id": "EuwPEWiRfiMl"
      },
      "source": [
        "Generating documents based on data."
      ]
    },
    {
      "cell_type": "code",
      "metadata": {
        "colab": {
          "base_uri": "https://localhost:8080/"
        },
        "id": "366csUIJf_zN",
        "outputId": "0798c2c8-8ef1-488d-b673-94cbaa98994f"
      },
      "source": [
        "#key = docid, value=\"document text\"\n",
        "train_docs = {}\n",
        "words = []\n",
        "for index, row in ng_train_data.iterrows():\n",
        "    doc_id = row['document-id']\n",
        "    word_id = str(row['word-id'])\n",
        "    word_freq = row['word-occurrence']\n",
        "    if doc_id not in train_docs.keys():\n",
        "      train_docs[doc_id] = \"\"\n",
        "    \n",
        "    if word_id not in words:\n",
        "        words.append(word_id)\n",
        "      \n",
        "    for i in range(0,word_freq):\n",
        "      word =  word_id + \" \"\n",
        "      train_docs[doc_id] += word\n",
        "\n",
        "print(\"Nmber of unique words: \", len(words))\n",
        "print(\"Number of Training Documents: \", (len(train_docs.keys())))\n"
      ],
      "execution_count": 16,
      "outputs": [
        {
          "output_type": "stream",
          "text": [
            "Nmber of unique words:  53975\n",
            "Number of Training Documents:  11269\n"
          ],
          "name": "stdout"
        }
      ]
    },
    {
      "cell_type": "code",
      "metadata": {
        "colab": {
          "base_uri": "https://localhost:8080/"
        },
        "id": "j8Kl4yuZtfRb",
        "outputId": "11f8c0ab-aeaf-474e-f93a-bccb94edee8f"
      },
      "source": [
        "#key = docid, value=\"document text\"\n",
        "test_docs = {}\n",
        "for index, row in ng_test_data.iterrows():\n",
        "    doc_id = row['document-id']\n",
        "    word_id = str(row['word-id'])\n",
        "    word_freq = row['word-occurrence']\n",
        "    if doc_id not in test_docs.keys():\n",
        "      test_docs[doc_id] = \"\"\n",
        "    \n",
        "    for i in range(0,word_freq):\n",
        "      word =  word_id + \" \"\n",
        "      test_docs[doc_id] += word\n",
        "\n",
        "print(\"Number of Testing Documents: \", (len(test_docs.keys())))"
      ],
      "execution_count": 17,
      "outputs": [
        {
          "output_type": "stream",
          "text": [
            "Number of Testing Documents:  7505\n"
          ],
          "name": "stdout"
        }
      ]
    },
    {
      "cell_type": "markdown",
      "metadata": {
        "id": "onQQD3Fox9Pd"
      },
      "source": [
        "Extracting TF-IDF vectors."
      ]
    },
    {
      "cell_type": "code",
      "metadata": {
        "colab": {
          "base_uri": "https://localhost:8080/"
        },
        "id": "7DexTXigh00H",
        "outputId": "3f2af056-b720-41ac-c853-81e91c73fc2d"
      },
      "source": [
        "from sklearn.feature_extraction.text import TfidfVectorizer\n",
        "\n",
        "# removing stop words as we are dealing with word ids, we don't know which ones are stop words\n",
        "vectorizer = TfidfVectorizer(stop_words = None, min_df=0)\n",
        "train_vectors = vectorizer.fit_transform(train_docs.values())\n",
        "train_vectors.shape"
      ],
      "execution_count": 18,
      "outputs": [
        {
          "output_type": "execute_result",
          "data": {
            "text/plain": [
              "(11269, 53966)"
            ]
          },
          "metadata": {
            "tags": []
          },
          "execution_count": 18
        }
      ]
    },
    {
      "cell_type": "code",
      "metadata": {
        "colab": {
          "base_uri": "https://localhost:8080/"
        },
        "id": "k1V7QUV5yJ-C",
        "outputId": "1a1cc3e5-6e2d-45f3-a2a4-83cbbc5f6d00"
      },
      "source": [
        "test_vectors = vectorizer.transform(test_docs.values())\n",
        "test_vectors.shape"
      ],
      "execution_count": 19,
      "outputs": [
        {
          "output_type": "execute_result",
          "data": {
            "text/plain": [
              "(7505, 53966)"
            ]
          },
          "metadata": {
            "tags": []
          },
          "execution_count": 19
        }
      ]
    },
    {
      "cell_type": "markdown",
      "metadata": {
        "id": "B2FHA4C8ywcT"
      },
      "source": [
        "Training and predicting using Naive Bayes Classifier"
      ]
    },
    {
      "cell_type": "markdown",
      "metadata": {
        "id": "ejsRawYL3fRQ"
      },
      "source": [
        "Calculating Classification Accuracy."
      ]
    },
    {
      "cell_type": "code",
      "metadata": {
        "id": "zdwF-lNpy0ES"
      },
      "source": [
        "from sklearn.naive_bayes import MultinomialNB\n",
        "\n",
        "clf = MultinomialNB(alpha=.01)\n",
        "clf.fit(train_vectors, ng_train_labels['target'].values)\n",
        "preds = clf.predict(test_vectors)"
      ],
      "execution_count": 20,
      "outputs": []
    },
    {
      "cell_type": "markdown",
      "metadata": {
        "id": "wr8G3weZ4jNc"
      },
      "source": [
        "Mapping labels with their names and exporting them to text files."
      ]
    },
    {
      "cell_type": "code",
      "metadata": {
        "id": "vU9mF-VF4oGv"
      },
      "source": [
        "predictions = []\n",
        "for pred in preds:\n",
        "  category_name = ng_labels_map[ng_labels_map['category-id'] == pred]['category-name']\n",
        "  predictions.append(str(pred)+\" : \"+ category_name.values[0])\n",
        "\n",
        "with open('category_predictions.txt', 'w') as f:\n",
        "    for prediction in predictions:\n",
        "        f.write(\"%s\\n\" % prediction)"
      ],
      "execution_count": 21,
      "outputs": []
    },
    {
      "cell_type": "code",
      "metadata": {
        "colab": {
          "base_uri": "https://localhost:8080/"
        },
        "id": "gEX9ujTQ3WZU",
        "outputId": "e0a3b25b-d073-49fc-b774-3b07065e7638"
      },
      "source": [
        "test_labels = ng_test_labels[\"target\"].values\n",
        "index=0\n",
        "misclassified = 0\n",
        "for pred in preds:\n",
        "  if pred != test_labels[index]:\n",
        "    misclassified+=1\n",
        "  index+=1\n",
        "\n",
        "accuracy = 1-(misclassified/len(test_labels))\n",
        "print(\"Classification Accuracy: \", accuracy*100)"
      ],
      "execution_count": 22,
      "outputs": [
        {
          "output_type": "stream",
          "text": [
            "Classification Accuracy:  81.83877415056628\n"
          ],
          "name": "stdout"
        }
      ]
    },
    {
      "cell_type": "markdown",
      "metadata": {
        "id": "mvUN7ZLPOIYj"
      },
      "source": [
        "# Problem 3: PCA\n",
        "\n",
        "You are asked to build a k-Nearest Neighbor (kNN) classifier based on dimenationality reduced\n",
        "data by PCA. The data set for evaluation is the gisette data set. More information about the\n",
        "data can be found here https://archive.ics.uci.edu/ml/datasets/Gisette. The data set is\n",
        "included in the provided data folder. The data is in the same format as that in Problem 1. You will\n",
        "train a classification model using \\trainSet.txt\" and \\trainLabels.txt\", and use it to predict the\n",
        "class labels for the data points in \\testSet.txt\". First, train a kNN based on the original features\n",
        "and then conduct PCA on the data and learn a kNN model using the reduced data. Report the\n",
        "performance of both models on the testing data. For learning both models, you should also conduct\n",
        "cross-validation (of your choice) to select the best k. Describe the cross-validation approach and\n",
        "report the best value of k for both models."
      ]
    },
    {
      "cell_type": "code",
      "metadata": {
        "id": "Wj3rrraWOOLb"
      },
      "source": [
        "import numpy as np\n",
        "import pandas as pd"
      ],
      "execution_count": 5,
      "outputs": []
    },
    {
      "cell_type": "markdown",
      "metadata": {
        "id": "PGg_C9r6OXG_"
      },
      "source": [
        "Loading datasets."
      ]
    },
    {
      "cell_type": "code",
      "metadata": {
        "colab": {
          "base_uri": "https://localhost:8080/",
          "height": 247
        },
        "id": "HS1wmLSgOZGe",
        "outputId": "be341103-b33a-4dab-e6a6-d58a7de0b78c"
      },
      "source": [
        "gisette_train_data = pd.read_csv('./sample_data/gisette_trainSet.txt', sep=\" \", header=None)\n",
        "gisette_train_data.head()"
      ],
      "execution_count": 6,
      "outputs": [
        {
          "output_type": "execute_result",
          "data": {
            "text/html": [
              "<div>\n",
              "<style scoped>\n",
              "    .dataframe tbody tr th:only-of-type {\n",
              "        vertical-align: middle;\n",
              "    }\n",
              "\n",
              "    .dataframe tbody tr th {\n",
              "        vertical-align: top;\n",
              "    }\n",
              "\n",
              "    .dataframe thead th {\n",
              "        text-align: right;\n",
              "    }\n",
              "</style>\n",
              "<table border=\"1\" class=\"dataframe\">\n",
              "  <thead>\n",
              "    <tr style=\"text-align: right;\">\n",
              "      <th></th>\n",
              "      <th>0</th>\n",
              "      <th>1</th>\n",
              "      <th>2</th>\n",
              "      <th>3</th>\n",
              "      <th>4</th>\n",
              "      <th>5</th>\n",
              "      <th>6</th>\n",
              "      <th>7</th>\n",
              "      <th>8</th>\n",
              "      <th>9</th>\n",
              "      <th>10</th>\n",
              "      <th>11</th>\n",
              "      <th>12</th>\n",
              "      <th>13</th>\n",
              "      <th>14</th>\n",
              "      <th>15</th>\n",
              "      <th>16</th>\n",
              "      <th>17</th>\n",
              "      <th>18</th>\n",
              "      <th>19</th>\n",
              "      <th>20</th>\n",
              "      <th>21</th>\n",
              "      <th>22</th>\n",
              "      <th>23</th>\n",
              "      <th>24</th>\n",
              "      <th>25</th>\n",
              "      <th>26</th>\n",
              "      <th>27</th>\n",
              "      <th>28</th>\n",
              "      <th>29</th>\n",
              "      <th>30</th>\n",
              "      <th>31</th>\n",
              "      <th>32</th>\n",
              "      <th>33</th>\n",
              "      <th>34</th>\n",
              "      <th>35</th>\n",
              "      <th>36</th>\n",
              "      <th>37</th>\n",
              "      <th>38</th>\n",
              "      <th>39</th>\n",
              "      <th>...</th>\n",
              "      <th>4960</th>\n",
              "      <th>4961</th>\n",
              "      <th>4962</th>\n",
              "      <th>4963</th>\n",
              "      <th>4964</th>\n",
              "      <th>4965</th>\n",
              "      <th>4966</th>\n",
              "      <th>4967</th>\n",
              "      <th>4968</th>\n",
              "      <th>4969</th>\n",
              "      <th>4970</th>\n",
              "      <th>4971</th>\n",
              "      <th>4972</th>\n",
              "      <th>4973</th>\n",
              "      <th>4974</th>\n",
              "      <th>4975</th>\n",
              "      <th>4976</th>\n",
              "      <th>4977</th>\n",
              "      <th>4978</th>\n",
              "      <th>4979</th>\n",
              "      <th>4980</th>\n",
              "      <th>4981</th>\n",
              "      <th>4982</th>\n",
              "      <th>4983</th>\n",
              "      <th>4984</th>\n",
              "      <th>4985</th>\n",
              "      <th>4986</th>\n",
              "      <th>4987</th>\n",
              "      <th>4988</th>\n",
              "      <th>4989</th>\n",
              "      <th>4990</th>\n",
              "      <th>4991</th>\n",
              "      <th>4992</th>\n",
              "      <th>4993</th>\n",
              "      <th>4994</th>\n",
              "      <th>4995</th>\n",
              "      <th>4996</th>\n",
              "      <th>4997</th>\n",
              "      <th>4998</th>\n",
              "      <th>4999</th>\n",
              "    </tr>\n",
              "  </thead>\n",
              "  <tbody>\n",
              "    <tr>\n",
              "      <th>0</th>\n",
              "      <td>0.1011</td>\n",
              "      <td>-1.0</td>\n",
              "      <td>-0.009009</td>\n",
              "      <td>-1.0</td>\n",
              "      <td>-1.0</td>\n",
              "      <td>-1.0</td>\n",
              "      <td>-1.0</td>\n",
              "      <td>0.95395</td>\n",
              "      <td>-1.0</td>\n",
              "      <td>-1.00000</td>\n",
              "      <td>-1.0</td>\n",
              "      <td>-1.0</td>\n",
              "      <td>0.96797</td>\n",
              "      <td>-1.0</td>\n",
              "      <td>0.99199</td>\n",
              "      <td>-1.00000</td>\n",
              "      <td>0.96797</td>\n",
              "      <td>-1.0</td>\n",
              "      <td>-1</td>\n",
              "      <td>0.96797</td>\n",
              "      <td>-1.0</td>\n",
              "      <td>-1</td>\n",
              "      <td>-1.0</td>\n",
              "      <td>-1.000000</td>\n",
              "      <td>-1.0</td>\n",
              "      <td>0.96797</td>\n",
              "      <td>-1.0</td>\n",
              "      <td>-1.00000</td>\n",
              "      <td>-1</td>\n",
              "      <td>-1.0</td>\n",
              "      <td>-1.0</td>\n",
              "      <td>-1.0</td>\n",
              "      <td>-1.0</td>\n",
              "      <td>-1.0</td>\n",
              "      <td>-1.00000</td>\n",
              "      <td>-1.0000</td>\n",
              "      <td>-1.0</td>\n",
              "      <td>-1.0</td>\n",
              "      <td>0.98398</td>\n",
              "      <td>0.96797</td>\n",
              "      <td>...</td>\n",
              "      <td>-1.0</td>\n",
              "      <td>-1.0</td>\n",
              "      <td>-1.0</td>\n",
              "      <td>0.027027</td>\n",
              "      <td>0</td>\n",
              "      <td>0.067067</td>\n",
              "      <td>0.62362</td>\n",
              "      <td>-1.00000</td>\n",
              "      <td>-1.00000</td>\n",
              "      <td>-1.0</td>\n",
              "      <td>0.96797</td>\n",
              "      <td>-1.00000</td>\n",
              "      <td>-1.0</td>\n",
              "      <td>-1.0</td>\n",
              "      <td>-1.0</td>\n",
              "      <td>-1.0</td>\n",
              "      <td>0.96797</td>\n",
              "      <td>0.98398</td>\n",
              "      <td>-1.00000</td>\n",
              "      <td>-1.00000</td>\n",
              "      <td>-1.0</td>\n",
              "      <td>0.96797</td>\n",
              "      <td>-1.0</td>\n",
              "      <td>-1.00000</td>\n",
              "      <td>-1.00000</td>\n",
              "      <td>-1.0</td>\n",
              "      <td>-1.0</td>\n",
              "      <td>-1.0</td>\n",
              "      <td>-1.0</td>\n",
              "      <td>-1.00000</td>\n",
              "      <td>-1.00000</td>\n",
              "      <td>-1.000000</td>\n",
              "      <td>-1.0</td>\n",
              "      <td>0.98398</td>\n",
              "      <td>0.98398</td>\n",
              "      <td>-1.0</td>\n",
              "      <td>-1.00000</td>\n",
              "      <td>-1.0</td>\n",
              "      <td>-1.0</td>\n",
              "      <td>0.96797</td>\n",
              "    </tr>\n",
              "    <tr>\n",
              "      <th>1</th>\n",
              "      <td>-1.0000</td>\n",
              "      <td>-1.0</td>\n",
              "      <td>-1.000000</td>\n",
              "      <td>-1.0</td>\n",
              "      <td>-1.0</td>\n",
              "      <td>-1.0</td>\n",
              "      <td>-1.0</td>\n",
              "      <td>0.95395</td>\n",
              "      <td>-1.0</td>\n",
              "      <td>-1.00000</td>\n",
              "      <td>-1.0</td>\n",
              "      <td>-1.0</td>\n",
              "      <td>-1.00000</td>\n",
              "      <td>-1.0</td>\n",
              "      <td>0.16917</td>\n",
              "      <td>-1.00000</td>\n",
              "      <td>-1.00000</td>\n",
              "      <td>-1.0</td>\n",
              "      <td>-1</td>\n",
              "      <td>-1.00000</td>\n",
              "      <td>-1.0</td>\n",
              "      <td>-1</td>\n",
              "      <td>-1.0</td>\n",
              "      <td>-1.000000</td>\n",
              "      <td>-1.0</td>\n",
              "      <td>0.96797</td>\n",
              "      <td>-1.0</td>\n",
              "      <td>-1.00000</td>\n",
              "      <td>-1</td>\n",
              "      <td>-1.0</td>\n",
              "      <td>-1.0</td>\n",
              "      <td>-1.0</td>\n",
              "      <td>-1.0</td>\n",
              "      <td>-1.0</td>\n",
              "      <td>-1.00000</td>\n",
              "      <td>0.7978</td>\n",
              "      <td>-1.0</td>\n",
              "      <td>-1.0</td>\n",
              "      <td>-1.00000</td>\n",
              "      <td>-1.00000</td>\n",
              "      <td>...</td>\n",
              "      <td>-1.0</td>\n",
              "      <td>-1.0</td>\n",
              "      <td>-1.0</td>\n",
              "      <td>0.865870</td>\n",
              "      <td>0</td>\n",
              "      <td>-1.000000</td>\n",
              "      <td>0.52953</td>\n",
              "      <td>0.65766</td>\n",
              "      <td>-1.00000</td>\n",
              "      <td>-1.0</td>\n",
              "      <td>-1.00000</td>\n",
              "      <td>0.96797</td>\n",
              "      <td>-1.0</td>\n",
              "      <td>-1.0</td>\n",
              "      <td>-1.0</td>\n",
              "      <td>-1.0</td>\n",
              "      <td>-1.00000</td>\n",
              "      <td>0.98398</td>\n",
              "      <td>-1.00000</td>\n",
              "      <td>-1.00000</td>\n",
              "      <td>-1.0</td>\n",
              "      <td>-1.00000</td>\n",
              "      <td>-1.0</td>\n",
              "      <td>-1.00000</td>\n",
              "      <td>-1.00000</td>\n",
              "      <td>-1.0</td>\n",
              "      <td>-1.0</td>\n",
              "      <td>-1.0</td>\n",
              "      <td>-1.0</td>\n",
              "      <td>-1.00000</td>\n",
              "      <td>-1.00000</td>\n",
              "      <td>-0.049049</td>\n",
              "      <td>-1.0</td>\n",
              "      <td>0.98398</td>\n",
              "      <td>-1.00000</td>\n",
              "      <td>-1.0</td>\n",
              "      <td>0.98398</td>\n",
              "      <td>-1.0</td>\n",
              "      <td>-1.0</td>\n",
              "      <td>-1.00000</td>\n",
              "    </tr>\n",
              "    <tr>\n",
              "      <th>2</th>\n",
              "      <td>-1.0000</td>\n",
              "      <td>-1.0</td>\n",
              "      <td>-1.000000</td>\n",
              "      <td>-1.0</td>\n",
              "      <td>-1.0</td>\n",
              "      <td>-1.0</td>\n",
              "      <td>-1.0</td>\n",
              "      <td>-1.00000</td>\n",
              "      <td>-1.0</td>\n",
              "      <td>-1.00000</td>\n",
              "      <td>-1.0</td>\n",
              "      <td>-1.0</td>\n",
              "      <td>0.96797</td>\n",
              "      <td>-1.0</td>\n",
              "      <td>0.99199</td>\n",
              "      <td>0.96797</td>\n",
              "      <td>0.95395</td>\n",
              "      <td>-1.0</td>\n",
              "      <td>-1</td>\n",
              "      <td>-1.00000</td>\n",
              "      <td>-1.0</td>\n",
              "      <td>-1</td>\n",
              "      <td>-1.0</td>\n",
              "      <td>-1.000000</td>\n",
              "      <td>-1.0</td>\n",
              "      <td>0.96797</td>\n",
              "      <td>-1.0</td>\n",
              "      <td>0.48548</td>\n",
              "      <td>-1</td>\n",
              "      <td>-1.0</td>\n",
              "      <td>-1.0</td>\n",
              "      <td>-1.0</td>\n",
              "      <td>-1.0</td>\n",
              "      <td>-1.0</td>\n",
              "      <td>-1.00000</td>\n",
              "      <td>-1.0000</td>\n",
              "      <td>-1.0</td>\n",
              "      <td>-1.0</td>\n",
              "      <td>-1.00000</td>\n",
              "      <td>-1.00000</td>\n",
              "      <td>...</td>\n",
              "      <td>-1.0</td>\n",
              "      <td>-1.0</td>\n",
              "      <td>-1.0</td>\n",
              "      <td>0.983980</td>\n",
              "      <td>0</td>\n",
              "      <td>-1.000000</td>\n",
              "      <td>0.98398</td>\n",
              "      <td>-1.00000</td>\n",
              "      <td>-1.00000</td>\n",
              "      <td>-1.0</td>\n",
              "      <td>-1.00000</td>\n",
              "      <td>-1.00000</td>\n",
              "      <td>-1.0</td>\n",
              "      <td>-1.0</td>\n",
              "      <td>-1.0</td>\n",
              "      <td>-1.0</td>\n",
              "      <td>-1.00000</td>\n",
              "      <td>0.16917</td>\n",
              "      <td>-1.00000</td>\n",
              "      <td>-1.00000</td>\n",
              "      <td>-1.0</td>\n",
              "      <td>-1.00000</td>\n",
              "      <td>-1.0</td>\n",
              "      <td>0.88188</td>\n",
              "      <td>-1.00000</td>\n",
              "      <td>-1.0</td>\n",
              "      <td>-1.0</td>\n",
              "      <td>-1.0</td>\n",
              "      <td>-1.0</td>\n",
              "      <td>0.23323</td>\n",
              "      <td>-1.00000</td>\n",
              "      <td>-1.000000</td>\n",
              "      <td>-1.0</td>\n",
              "      <td>-1.00000</td>\n",
              "      <td>-1.00000</td>\n",
              "      <td>-1.0</td>\n",
              "      <td>-1.00000</td>\n",
              "      <td>-1.0</td>\n",
              "      <td>-1.0</td>\n",
              "      <td>-1.00000</td>\n",
              "    </tr>\n",
              "    <tr>\n",
              "      <th>3</th>\n",
              "      <td>-1.0000</td>\n",
              "      <td>-1.0</td>\n",
              "      <td>0.485480</td>\n",
              "      <td>-1.0</td>\n",
              "      <td>-1.0</td>\n",
              "      <td>-1.0</td>\n",
              "      <td>-1.0</td>\n",
              "      <td>0.36937</td>\n",
              "      <td>-1.0</td>\n",
              "      <td>0.91391</td>\n",
              "      <td>-1.0</td>\n",
              "      <td>-1.0</td>\n",
              "      <td>0.96797</td>\n",
              "      <td>-1.0</td>\n",
              "      <td>0.98398</td>\n",
              "      <td>0.63363</td>\n",
              "      <td>0.96797</td>\n",
              "      <td>-1.0</td>\n",
              "      <td>-1</td>\n",
              "      <td>-1.00000</td>\n",
              "      <td>-1.0</td>\n",
              "      <td>-1</td>\n",
              "      <td>-1.0</td>\n",
              "      <td>-1.000000</td>\n",
              "      <td>-1.0</td>\n",
              "      <td>0.37137</td>\n",
              "      <td>-1.0</td>\n",
              "      <td>0.53554</td>\n",
              "      <td>-1</td>\n",
              "      <td>-1.0</td>\n",
              "      <td>-1.0</td>\n",
              "      <td>-1.0</td>\n",
              "      <td>-1.0</td>\n",
              "      <td>-1.0</td>\n",
              "      <td>0.98398</td>\n",
              "      <td>-1.0000</td>\n",
              "      <td>-1.0</td>\n",
              "      <td>-1.0</td>\n",
              "      <td>-1.00000</td>\n",
              "      <td>-1.00000</td>\n",
              "      <td>...</td>\n",
              "      <td>-1.0</td>\n",
              "      <td>-1.0</td>\n",
              "      <td>-1.0</td>\n",
              "      <td>0.497500</td>\n",
              "      <td>0</td>\n",
              "      <td>-1.000000</td>\n",
              "      <td>0.45946</td>\n",
              "      <td>-1.00000</td>\n",
              "      <td>0.98398</td>\n",
              "      <td>-1.0</td>\n",
              "      <td>0.61762</td>\n",
              "      <td>-1.00000</td>\n",
              "      <td>-1.0</td>\n",
              "      <td>-1.0</td>\n",
              "      <td>-1.0</td>\n",
              "      <td>-1.0</td>\n",
              "      <td>-1.00000</td>\n",
              "      <td>0.98398</td>\n",
              "      <td>-1.00000</td>\n",
              "      <td>0.74975</td>\n",
              "      <td>-1.0</td>\n",
              "      <td>0.71972</td>\n",
              "      <td>-1.0</td>\n",
              "      <td>-1.00000</td>\n",
              "      <td>-1.00000</td>\n",
              "      <td>-1.0</td>\n",
              "      <td>-1.0</td>\n",
              "      <td>-1.0</td>\n",
              "      <td>-1.0</td>\n",
              "      <td>-1.00000</td>\n",
              "      <td>-1.00000</td>\n",
              "      <td>-1.000000</td>\n",
              "      <td>-1.0</td>\n",
              "      <td>-1.00000</td>\n",
              "      <td>-1.00000</td>\n",
              "      <td>-1.0</td>\n",
              "      <td>0.34935</td>\n",
              "      <td>-1.0</td>\n",
              "      <td>-1.0</td>\n",
              "      <td>0.67768</td>\n",
              "    </tr>\n",
              "    <tr>\n",
              "      <th>4</th>\n",
              "      <td>-1.0000</td>\n",
              "      <td>-1.0</td>\n",
              "      <td>-1.000000</td>\n",
              "      <td>-1.0</td>\n",
              "      <td>-1.0</td>\n",
              "      <td>-1.0</td>\n",
              "      <td>-1.0</td>\n",
              "      <td>0.21722</td>\n",
              "      <td>-1.0</td>\n",
              "      <td>0.95996</td>\n",
              "      <td>-1.0</td>\n",
              "      <td>-1.0</td>\n",
              "      <td>-1.00000</td>\n",
              "      <td>-1.0</td>\n",
              "      <td>0.94595</td>\n",
              "      <td>-1.00000</td>\n",
              "      <td>-1.00000</td>\n",
              "      <td>-1.0</td>\n",
              "      <td>-1</td>\n",
              "      <td>-1.00000</td>\n",
              "      <td>-1.0</td>\n",
              "      <td>-1</td>\n",
              "      <td>-1.0</td>\n",
              "      <td>-0.039039</td>\n",
              "      <td>-1.0</td>\n",
              "      <td>-1.00000</td>\n",
              "      <td>-1.0</td>\n",
              "      <td>-1.00000</td>\n",
              "      <td>-1</td>\n",
              "      <td>-1.0</td>\n",
              "      <td>-1.0</td>\n",
              "      <td>-1.0</td>\n",
              "      <td>-1.0</td>\n",
              "      <td>-1.0</td>\n",
              "      <td>-1.00000</td>\n",
              "      <td>-1.0000</td>\n",
              "      <td>-1.0</td>\n",
              "      <td>-1.0</td>\n",
              "      <td>0.98398</td>\n",
              "      <td>-1.00000</td>\n",
              "      <td>...</td>\n",
              "      <td>-1.0</td>\n",
              "      <td>-1.0</td>\n",
              "      <td>-1.0</td>\n",
              "      <td>-1.000000</td>\n",
              "      <td>0</td>\n",
              "      <td>-1.000000</td>\n",
              "      <td>-1.00000</td>\n",
              "      <td>-1.00000</td>\n",
              "      <td>-1.00000</td>\n",
              "      <td>-1.0</td>\n",
              "      <td>-1.00000</td>\n",
              "      <td>-1.00000</td>\n",
              "      <td>-1.0</td>\n",
              "      <td>-1.0</td>\n",
              "      <td>-1.0</td>\n",
              "      <td>-1.0</td>\n",
              "      <td>-1.00000</td>\n",
              "      <td>-1.00000</td>\n",
              "      <td>0.35135</td>\n",
              "      <td>0.56156</td>\n",
              "      <td>-1.0</td>\n",
              "      <td>-1.00000</td>\n",
              "      <td>-1.0</td>\n",
              "      <td>-1.00000</td>\n",
              "      <td>0.96797</td>\n",
              "      <td>-1.0</td>\n",
              "      <td>-1.0</td>\n",
              "      <td>-1.0</td>\n",
              "      <td>-1.0</td>\n",
              "      <td>-1.00000</td>\n",
              "      <td>0.98398</td>\n",
              "      <td>-1.000000</td>\n",
              "      <td>-1.0</td>\n",
              "      <td>0.65766</td>\n",
              "      <td>-1.00000</td>\n",
              "      <td>-1.0</td>\n",
              "      <td>-1.00000</td>\n",
              "      <td>-1.0</td>\n",
              "      <td>-1.0</td>\n",
              "      <td>-1.00000</td>\n",
              "    </tr>\n",
              "  </tbody>\n",
              "</table>\n",
              "<p>5 rows × 5000 columns</p>\n",
              "</div>"
            ],
            "text/plain": [
              "     0     1         2     3     4     ...  4995     4996  4997  4998     4999\n",
              "0  0.1011  -1.0 -0.009009  -1.0  -1.0  ...  -1.0 -1.00000  -1.0  -1.0  0.96797\n",
              "1 -1.0000  -1.0 -1.000000  -1.0  -1.0  ...  -1.0  0.98398  -1.0  -1.0 -1.00000\n",
              "2 -1.0000  -1.0 -1.000000  -1.0  -1.0  ...  -1.0 -1.00000  -1.0  -1.0 -1.00000\n",
              "3 -1.0000  -1.0  0.485480  -1.0  -1.0  ...  -1.0  0.34935  -1.0  -1.0  0.67768\n",
              "4 -1.0000  -1.0 -1.000000  -1.0  -1.0  ...  -1.0 -1.00000  -1.0  -1.0 -1.00000\n",
              "\n",
              "[5 rows x 5000 columns]"
            ]
          },
          "metadata": {
            "tags": []
          },
          "execution_count": 6
        }
      ]
    },
    {
      "cell_type": "code",
      "metadata": {
        "colab": {
          "base_uri": "https://localhost:8080/",
          "height": 198
        },
        "id": "xwJ82subQMCr",
        "outputId": "4cf77068-44ff-4ea6-af94-a90c0afa2f21"
      },
      "source": [
        "gisette_train_labels = pd.read_csv('./sample_data/gisette_trainLabels.txt', sep=\",\", header=None)\n",
        "gisette_train_labels.columns = [\"target\"]\n",
        "gisette_train_labels.head()"
      ],
      "execution_count": 7,
      "outputs": [
        {
          "output_type": "execute_result",
          "data": {
            "text/html": [
              "<div>\n",
              "<style scoped>\n",
              "    .dataframe tbody tr th:only-of-type {\n",
              "        vertical-align: middle;\n",
              "    }\n",
              "\n",
              "    .dataframe tbody tr th {\n",
              "        vertical-align: top;\n",
              "    }\n",
              "\n",
              "    .dataframe thead th {\n",
              "        text-align: right;\n",
              "    }\n",
              "</style>\n",
              "<table border=\"1\" class=\"dataframe\">\n",
              "  <thead>\n",
              "    <tr style=\"text-align: right;\">\n",
              "      <th></th>\n",
              "      <th>target</th>\n",
              "    </tr>\n",
              "  </thead>\n",
              "  <tbody>\n",
              "    <tr>\n",
              "      <th>0</th>\n",
              "      <td>1</td>\n",
              "    </tr>\n",
              "    <tr>\n",
              "      <th>1</th>\n",
              "      <td>-1</td>\n",
              "    </tr>\n",
              "    <tr>\n",
              "      <th>2</th>\n",
              "      <td>1</td>\n",
              "    </tr>\n",
              "    <tr>\n",
              "      <th>3</th>\n",
              "      <td>1</td>\n",
              "    </tr>\n",
              "    <tr>\n",
              "      <th>4</th>\n",
              "      <td>1</td>\n",
              "    </tr>\n",
              "  </tbody>\n",
              "</table>\n",
              "</div>"
            ],
            "text/plain": [
              "   target\n",
              "0       1\n",
              "1      -1\n",
              "2       1\n",
              "3       1\n",
              "4       1"
            ]
          },
          "metadata": {
            "tags": []
          },
          "execution_count": 7
        }
      ]
    },
    {
      "cell_type": "code",
      "metadata": {
        "colab": {
          "base_uri": "https://localhost:8080/",
          "height": 247
        },
        "id": "CDciy63_Ozf8",
        "outputId": "bbd4bbfb-0987-413a-a11e-4b8cde21afe9"
      },
      "source": [
        "gisette_test_data = pd.read_csv('./sample_data/gisette_testSet.txt', sep=\" \", header=None)\n",
        "gisette_test_data.head()"
      ],
      "execution_count": 8,
      "outputs": [
        {
          "output_type": "execute_result",
          "data": {
            "text/html": [
              "<div>\n",
              "<style scoped>\n",
              "    .dataframe tbody tr th:only-of-type {\n",
              "        vertical-align: middle;\n",
              "    }\n",
              "\n",
              "    .dataframe tbody tr th {\n",
              "        vertical-align: top;\n",
              "    }\n",
              "\n",
              "    .dataframe thead th {\n",
              "        text-align: right;\n",
              "    }\n",
              "</style>\n",
              "<table border=\"1\" class=\"dataframe\">\n",
              "  <thead>\n",
              "    <tr style=\"text-align: right;\">\n",
              "      <th></th>\n",
              "      <th>0</th>\n",
              "      <th>1</th>\n",
              "      <th>2</th>\n",
              "      <th>3</th>\n",
              "      <th>4</th>\n",
              "      <th>5</th>\n",
              "      <th>6</th>\n",
              "      <th>7</th>\n",
              "      <th>8</th>\n",
              "      <th>9</th>\n",
              "      <th>10</th>\n",
              "      <th>11</th>\n",
              "      <th>12</th>\n",
              "      <th>13</th>\n",
              "      <th>14</th>\n",
              "      <th>15</th>\n",
              "      <th>16</th>\n",
              "      <th>17</th>\n",
              "      <th>18</th>\n",
              "      <th>19</th>\n",
              "      <th>20</th>\n",
              "      <th>21</th>\n",
              "      <th>22</th>\n",
              "      <th>23</th>\n",
              "      <th>24</th>\n",
              "      <th>25</th>\n",
              "      <th>26</th>\n",
              "      <th>27</th>\n",
              "      <th>28</th>\n",
              "      <th>29</th>\n",
              "      <th>30</th>\n",
              "      <th>31</th>\n",
              "      <th>32</th>\n",
              "      <th>33</th>\n",
              "      <th>34</th>\n",
              "      <th>35</th>\n",
              "      <th>36</th>\n",
              "      <th>37</th>\n",
              "      <th>38</th>\n",
              "      <th>39</th>\n",
              "      <th>...</th>\n",
              "      <th>4960</th>\n",
              "      <th>4961</th>\n",
              "      <th>4962</th>\n",
              "      <th>4963</th>\n",
              "      <th>4964</th>\n",
              "      <th>4965</th>\n",
              "      <th>4966</th>\n",
              "      <th>4967</th>\n",
              "      <th>4968</th>\n",
              "      <th>4969</th>\n",
              "      <th>4970</th>\n",
              "      <th>4971</th>\n",
              "      <th>4972</th>\n",
              "      <th>4973</th>\n",
              "      <th>4974</th>\n",
              "      <th>4975</th>\n",
              "      <th>4976</th>\n",
              "      <th>4977</th>\n",
              "      <th>4978</th>\n",
              "      <th>4979</th>\n",
              "      <th>4980</th>\n",
              "      <th>4981</th>\n",
              "      <th>4982</th>\n",
              "      <th>4983</th>\n",
              "      <th>4984</th>\n",
              "      <th>4985</th>\n",
              "      <th>4986</th>\n",
              "      <th>4987</th>\n",
              "      <th>4988</th>\n",
              "      <th>4989</th>\n",
              "      <th>4990</th>\n",
              "      <th>4991</th>\n",
              "      <th>4992</th>\n",
              "      <th>4993</th>\n",
              "      <th>4994</th>\n",
              "      <th>4995</th>\n",
              "      <th>4996</th>\n",
              "      <th>4997</th>\n",
              "      <th>4998</th>\n",
              "      <th>4999</th>\n",
              "    </tr>\n",
              "  </thead>\n",
              "  <tbody>\n",
              "    <tr>\n",
              "      <th>0</th>\n",
              "      <td>0.377380</td>\n",
              "      <td>-1.00000</td>\n",
              "      <td>-1.00000</td>\n",
              "      <td>-1.0</td>\n",
              "      <td>-1.0</td>\n",
              "      <td>-1.00000</td>\n",
              "      <td>-1.00000</td>\n",
              "      <td>0.90591</td>\n",
              "      <td>-1.0</td>\n",
              "      <td>0.74174</td>\n",
              "      <td>-1.00000</td>\n",
              "      <td>-1.0</td>\n",
              "      <td>-1.0</td>\n",
              "      <td>-1.000000</td>\n",
              "      <td>1.00000</td>\n",
              "      <td>-1.0000</td>\n",
              "      <td>-1.0</td>\n",
              "      <td>-1.0</td>\n",
              "      <td>-1</td>\n",
              "      <td>-1.0</td>\n",
              "      <td>-1.000000</td>\n",
              "      <td>-1</td>\n",
              "      <td>-1.000000</td>\n",
              "      <td>-1.00000</td>\n",
              "      <td>-1.0</td>\n",
              "      <td>0.95395</td>\n",
              "      <td>-1.0</td>\n",
              "      <td>-1.0</td>\n",
              "      <td>-1.0</td>\n",
              "      <td>-1</td>\n",
              "      <td>-1.0</td>\n",
              "      <td>-1.0</td>\n",
              "      <td>-1.00000</td>\n",
              "      <td>-1.0</td>\n",
              "      <td>-1.00000</td>\n",
              "      <td>-1.0</td>\n",
              "      <td>-1.0</td>\n",
              "      <td>-1.0</td>\n",
              "      <td>-1.00000</td>\n",
              "      <td>0.17517</td>\n",
              "      <td>...</td>\n",
              "      <td>-1.00000</td>\n",
              "      <td>-1.0</td>\n",
              "      <td>-1.0</td>\n",
              "      <td>0.44344</td>\n",
              "      <td>0</td>\n",
              "      <td>-1.00000</td>\n",
              "      <td>0.99199</td>\n",
              "      <td>0.92993</td>\n",
              "      <td>-1.00000</td>\n",
              "      <td>-1</td>\n",
              "      <td>-1.0</td>\n",
              "      <td>-1.0</td>\n",
              "      <td>-1.0</td>\n",
              "      <td>-1.0</td>\n",
              "      <td>-1.0</td>\n",
              "      <td>-1.0</td>\n",
              "      <td>-1.0</td>\n",
              "      <td>-1.0</td>\n",
              "      <td>-1.0</td>\n",
              "      <td>-1.00000</td>\n",
              "      <td>-1.00000</td>\n",
              "      <td>-1.0</td>\n",
              "      <td>-1.0</td>\n",
              "      <td>-1.0</td>\n",
              "      <td>-1.0</td>\n",
              "      <td>-1.0</td>\n",
              "      <td>-1.0</td>\n",
              "      <td>0.95395</td>\n",
              "      <td>-1.0000</td>\n",
              "      <td>0.27127</td>\n",
              "      <td>-1.0</td>\n",
              "      <td>-1.0</td>\n",
              "      <td>-1.0</td>\n",
              "      <td>-1.000000</td>\n",
              "      <td>-1.0</td>\n",
              "      <td>-1.0</td>\n",
              "      <td>-0.011011</td>\n",
              "      <td>-1.00000</td>\n",
              "      <td>0.53954</td>\n",
              "      <td>-1.0</td>\n",
              "    </tr>\n",
              "    <tr>\n",
              "      <th>1</th>\n",
              "      <td>0.557560</td>\n",
              "      <td>0.51752</td>\n",
              "      <td>-1.00000</td>\n",
              "      <td>-1.0</td>\n",
              "      <td>-1.0</td>\n",
              "      <td>-1.00000</td>\n",
              "      <td>-1.00000</td>\n",
              "      <td>0.41742</td>\n",
              "      <td>-1.0</td>\n",
              "      <td>0.98398</td>\n",
              "      <td>0.71972</td>\n",
              "      <td>-1.0</td>\n",
              "      <td>-1.0</td>\n",
              "      <td>-1.000000</td>\n",
              "      <td>0.98398</td>\n",
              "      <td>-1.0000</td>\n",
              "      <td>-1.0</td>\n",
              "      <td>-1.0</td>\n",
              "      <td>-1</td>\n",
              "      <td>-1.0</td>\n",
              "      <td>-1.000000</td>\n",
              "      <td>-1</td>\n",
              "      <td>-1.000000</td>\n",
              "      <td>-1.00000</td>\n",
              "      <td>-1.0</td>\n",
              "      <td>-1.00000</td>\n",
              "      <td>-1.0</td>\n",
              "      <td>-1.0</td>\n",
              "      <td>-1.0</td>\n",
              "      <td>-1</td>\n",
              "      <td>-1.0</td>\n",
              "      <td>-1.0</td>\n",
              "      <td>0.32532</td>\n",
              "      <td>-1.0</td>\n",
              "      <td>-1.00000</td>\n",
              "      <td>-1.0</td>\n",
              "      <td>-1.0</td>\n",
              "      <td>-1.0</td>\n",
              "      <td>-1.00000</td>\n",
              "      <td>-1.00000</td>\n",
              "      <td>...</td>\n",
              "      <td>-1.00000</td>\n",
              "      <td>-1.0</td>\n",
              "      <td>-1.0</td>\n",
              "      <td>-1.00000</td>\n",
              "      <td>0</td>\n",
              "      <td>-1.00000</td>\n",
              "      <td>-1.00000</td>\n",
              "      <td>-1.00000</td>\n",
              "      <td>-1.00000</td>\n",
              "      <td>-1</td>\n",
              "      <td>-1.0</td>\n",
              "      <td>-1.0</td>\n",
              "      <td>-1.0</td>\n",
              "      <td>-1.0</td>\n",
              "      <td>-1.0</td>\n",
              "      <td>-1.0</td>\n",
              "      <td>-1.0</td>\n",
              "      <td>-1.0</td>\n",
              "      <td>-1.0</td>\n",
              "      <td>0.98398</td>\n",
              "      <td>-1.00000</td>\n",
              "      <td>-1.0</td>\n",
              "      <td>-1.0</td>\n",
              "      <td>-1.0</td>\n",
              "      <td>-1.0</td>\n",
              "      <td>-1.0</td>\n",
              "      <td>-1.0</td>\n",
              "      <td>0.85185</td>\n",
              "      <td>0.7037</td>\n",
              "      <td>-1.00000</td>\n",
              "      <td>-1.0</td>\n",
              "      <td>-1.0</td>\n",
              "      <td>-1.0</td>\n",
              "      <td>0.541540</td>\n",
              "      <td>-1.0</td>\n",
              "      <td>-1.0</td>\n",
              "      <td>-1.000000</td>\n",
              "      <td>-1.00000</td>\n",
              "      <td>-1.00000</td>\n",
              "      <td>-1.0</td>\n",
              "    </tr>\n",
              "    <tr>\n",
              "      <th>2</th>\n",
              "      <td>-0.061061</td>\n",
              "      <td>-1.00000</td>\n",
              "      <td>0.63363</td>\n",
              "      <td>-1.0</td>\n",
              "      <td>-1.0</td>\n",
              "      <td>-1.00000</td>\n",
              "      <td>-1.00000</td>\n",
              "      <td>-1.00000</td>\n",
              "      <td>-1.0</td>\n",
              "      <td>-1.00000</td>\n",
              "      <td>-1.00000</td>\n",
              "      <td>-1.0</td>\n",
              "      <td>-1.0</td>\n",
              "      <td>-1.000000</td>\n",
              "      <td>0.94595</td>\n",
              "      <td>0.7978</td>\n",
              "      <td>-1.0</td>\n",
              "      <td>-1.0</td>\n",
              "      <td>-1</td>\n",
              "      <td>-1.0</td>\n",
              "      <td>-1.000000</td>\n",
              "      <td>-1</td>\n",
              "      <td>0.073073</td>\n",
              "      <td>-1.00000</td>\n",
              "      <td>-1.0</td>\n",
              "      <td>0.59560</td>\n",
              "      <td>-1.0</td>\n",
              "      <td>-1.0</td>\n",
              "      <td>-1.0</td>\n",
              "      <td>-1</td>\n",
              "      <td>-1.0</td>\n",
              "      <td>-1.0</td>\n",
              "      <td>-1.00000</td>\n",
              "      <td>-1.0</td>\n",
              "      <td>0.12112</td>\n",
              "      <td>-1.0</td>\n",
              "      <td>-1.0</td>\n",
              "      <td>-1.0</td>\n",
              "      <td>0.45946</td>\n",
              "      <td>0.26326</td>\n",
              "      <td>...</td>\n",
              "      <td>0.99196</td>\n",
              "      <td>-1.0</td>\n",
              "      <td>-1.0</td>\n",
              "      <td>0.64765</td>\n",
              "      <td>0</td>\n",
              "      <td>-1.00000</td>\n",
              "      <td>0.98398</td>\n",
              "      <td>-1.00000</td>\n",
              "      <td>0.97598</td>\n",
              "      <td>-1</td>\n",
              "      <td>-1.0</td>\n",
              "      <td>-1.0</td>\n",
              "      <td>-1.0</td>\n",
              "      <td>-1.0</td>\n",
              "      <td>-1.0</td>\n",
              "      <td>-1.0</td>\n",
              "      <td>-1.0</td>\n",
              "      <td>-1.0</td>\n",
              "      <td>-1.0</td>\n",
              "      <td>-1.00000</td>\n",
              "      <td>0.40941</td>\n",
              "      <td>-1.0</td>\n",
              "      <td>-1.0</td>\n",
              "      <td>-1.0</td>\n",
              "      <td>-1.0</td>\n",
              "      <td>-1.0</td>\n",
              "      <td>-1.0</td>\n",
              "      <td>0.30530</td>\n",
              "      <td>-1.0000</td>\n",
              "      <td>-1.00000</td>\n",
              "      <td>-1.0</td>\n",
              "      <td>-1.0</td>\n",
              "      <td>-1.0</td>\n",
              "      <td>-0.065065</td>\n",
              "      <td>-1.0</td>\n",
              "      <td>-1.0</td>\n",
              "      <td>-1.000000</td>\n",
              "      <td>-0.16517</td>\n",
              "      <td>-1.00000</td>\n",
              "      <td>-1.0</td>\n",
              "    </tr>\n",
              "    <tr>\n",
              "      <th>3</th>\n",
              "      <td>-1.000000</td>\n",
              "      <td>-1.00000</td>\n",
              "      <td>-1.00000</td>\n",
              "      <td>-1.0</td>\n",
              "      <td>-1.0</td>\n",
              "      <td>0.14314</td>\n",
              "      <td>0.98398</td>\n",
              "      <td>0.96797</td>\n",
              "      <td>-1.0</td>\n",
              "      <td>0.96797</td>\n",
              "      <td>-1.00000</td>\n",
              "      <td>-1.0</td>\n",
              "      <td>-1.0</td>\n",
              "      <td>0.703700</td>\n",
              "      <td>-1.00000</td>\n",
              "      <td>0.3013</td>\n",
              "      <td>-1.0</td>\n",
              "      <td>-1.0</td>\n",
              "      <td>-1</td>\n",
              "      <td>-1.0</td>\n",
              "      <td>0.069069</td>\n",
              "      <td>-1</td>\n",
              "      <td>0.953950</td>\n",
              "      <td>-1.00000</td>\n",
              "      <td>-1.0</td>\n",
              "      <td>-1.00000</td>\n",
              "      <td>-1.0</td>\n",
              "      <td>-1.0</td>\n",
              "      <td>-1.0</td>\n",
              "      <td>-1</td>\n",
              "      <td>-1.0</td>\n",
              "      <td>-1.0</td>\n",
              "      <td>-1.00000</td>\n",
              "      <td>-1.0</td>\n",
              "      <td>-1.00000</td>\n",
              "      <td>-1.0</td>\n",
              "      <td>-1.0</td>\n",
              "      <td>-1.0</td>\n",
              "      <td>0.10511</td>\n",
              "      <td>-1.00000</td>\n",
              "      <td>...</td>\n",
              "      <td>-1.00000</td>\n",
              "      <td>-1.0</td>\n",
              "      <td>-1.0</td>\n",
              "      <td>-1.00000</td>\n",
              "      <td>0</td>\n",
              "      <td>0.62763</td>\n",
              "      <td>-1.00000</td>\n",
              "      <td>-1.00000</td>\n",
              "      <td>-1.00000</td>\n",
              "      <td>-1</td>\n",
              "      <td>-1.0</td>\n",
              "      <td>-1.0</td>\n",
              "      <td>-1.0</td>\n",
              "      <td>-1.0</td>\n",
              "      <td>-1.0</td>\n",
              "      <td>-1.0</td>\n",
              "      <td>-1.0</td>\n",
              "      <td>-1.0</td>\n",
              "      <td>-1.0</td>\n",
              "      <td>-1.00000</td>\n",
              "      <td>-1.00000</td>\n",
              "      <td>-1.0</td>\n",
              "      <td>-1.0</td>\n",
              "      <td>-1.0</td>\n",
              "      <td>-1.0</td>\n",
              "      <td>-1.0</td>\n",
              "      <td>-1.0</td>\n",
              "      <td>-1.00000</td>\n",
              "      <td>-1.0000</td>\n",
              "      <td>-1.00000</td>\n",
              "      <td>-1.0</td>\n",
              "      <td>-1.0</td>\n",
              "      <td>-1.0</td>\n",
              "      <td>-1.000000</td>\n",
              "      <td>-1.0</td>\n",
              "      <td>-1.0</td>\n",
              "      <td>-1.000000</td>\n",
              "      <td>-1.00000</td>\n",
              "      <td>-1.00000</td>\n",
              "      <td>-1.0</td>\n",
              "    </tr>\n",
              "    <tr>\n",
              "      <th>4</th>\n",
              "      <td>-1.000000</td>\n",
              "      <td>-1.00000</td>\n",
              "      <td>-1.00000</td>\n",
              "      <td>-1.0</td>\n",
              "      <td>-1.0</td>\n",
              "      <td>-1.00000</td>\n",
              "      <td>-1.00000</td>\n",
              "      <td>0.89990</td>\n",
              "      <td>-1.0</td>\n",
              "      <td>0.98398</td>\n",
              "      <td>-1.00000</td>\n",
              "      <td>-1.0</td>\n",
              "      <td>-1.0</td>\n",
              "      <td>0.067067</td>\n",
              "      <td>-1.00000</td>\n",
              "      <td>-1.0000</td>\n",
              "      <td>-1.0</td>\n",
              "      <td>-1.0</td>\n",
              "      <td>-1</td>\n",
              "      <td>-1.0</td>\n",
              "      <td>0.983980</td>\n",
              "      <td>-1</td>\n",
              "      <td>-1.000000</td>\n",
              "      <td>0.47347</td>\n",
              "      <td>-1.0</td>\n",
              "      <td>-1.00000</td>\n",
              "      <td>-1.0</td>\n",
              "      <td>-1.0</td>\n",
              "      <td>-1.0</td>\n",
              "      <td>-1</td>\n",
              "      <td>-1.0</td>\n",
              "      <td>-1.0</td>\n",
              "      <td>-1.00000</td>\n",
              "      <td>-1.0</td>\n",
              "      <td>-1.00000</td>\n",
              "      <td>-1.0</td>\n",
              "      <td>-1.0</td>\n",
              "      <td>-1.0</td>\n",
              "      <td>-1.00000</td>\n",
              "      <td>0.95395</td>\n",
              "      <td>...</td>\n",
              "      <td>-1.00000</td>\n",
              "      <td>-1.0</td>\n",
              "      <td>-1.0</td>\n",
              "      <td>-1.00000</td>\n",
              "      <td>0</td>\n",
              "      <td>0.72773</td>\n",
              "      <td>-1.00000</td>\n",
              "      <td>-1.00000</td>\n",
              "      <td>0.41942</td>\n",
              "      <td>-1</td>\n",
              "      <td>-1.0</td>\n",
              "      <td>-1.0</td>\n",
              "      <td>-1.0</td>\n",
              "      <td>-1.0</td>\n",
              "      <td>-1.0</td>\n",
              "      <td>-1.0</td>\n",
              "      <td>-1.0</td>\n",
              "      <td>-1.0</td>\n",
              "      <td>-1.0</td>\n",
              "      <td>-1.00000</td>\n",
              "      <td>-1.00000</td>\n",
              "      <td>-1.0</td>\n",
              "      <td>-1.0</td>\n",
              "      <td>-1.0</td>\n",
              "      <td>-1.0</td>\n",
              "      <td>-1.0</td>\n",
              "      <td>-1.0</td>\n",
              "      <td>0.94595</td>\n",
              "      <td>-1.0000</td>\n",
              "      <td>-1.00000</td>\n",
              "      <td>-1.0</td>\n",
              "      <td>-1.0</td>\n",
              "      <td>-1.0</td>\n",
              "      <td>-1.000000</td>\n",
              "      <td>-1.0</td>\n",
              "      <td>-1.0</td>\n",
              "      <td>-1.000000</td>\n",
              "      <td>-1.00000</td>\n",
              "      <td>0.95395</td>\n",
              "      <td>-1.0</td>\n",
              "    </tr>\n",
              "  </tbody>\n",
              "</table>\n",
              "<p>5 rows × 5000 columns</p>\n",
              "</div>"
            ],
            "text/plain": [
              "       0        1        2     3     ...      4996     4997     4998  4999\n",
              "0  0.377380 -1.00000 -1.00000  -1.0  ... -0.011011 -1.00000  0.53954  -1.0\n",
              "1  0.557560  0.51752 -1.00000  -1.0  ... -1.000000 -1.00000 -1.00000  -1.0\n",
              "2 -0.061061 -1.00000  0.63363  -1.0  ... -1.000000 -0.16517 -1.00000  -1.0\n",
              "3 -1.000000 -1.00000 -1.00000  -1.0  ... -1.000000 -1.00000 -1.00000  -1.0\n",
              "4 -1.000000 -1.00000 -1.00000  -1.0  ... -1.000000 -1.00000  0.95395  -1.0\n",
              "\n",
              "[5 rows x 5000 columns]"
            ]
          },
          "metadata": {
            "tags": []
          },
          "execution_count": 8
        }
      ]
    },
    {
      "cell_type": "code",
      "metadata": {
        "colab": {
          "base_uri": "https://localhost:8080/",
          "height": 198
        },
        "id": "ERsFjjjGQr2E",
        "outputId": "17cffbd6-d380-474c-b070-952eb886baa5"
      },
      "source": [
        "gisette_test_labels = pd.read_csv('./sample_data/gisette_testLabels.txt', sep=\",\", header=None)\n",
        "gisette_test_labels.columns = [\"target\"]\n",
        "gisette_test_labels.head()"
      ],
      "execution_count": 9,
      "outputs": [
        {
          "output_type": "execute_result",
          "data": {
            "text/html": [
              "<div>\n",
              "<style scoped>\n",
              "    .dataframe tbody tr th:only-of-type {\n",
              "        vertical-align: middle;\n",
              "    }\n",
              "\n",
              "    .dataframe tbody tr th {\n",
              "        vertical-align: top;\n",
              "    }\n",
              "\n",
              "    .dataframe thead th {\n",
              "        text-align: right;\n",
              "    }\n",
              "</style>\n",
              "<table border=\"1\" class=\"dataframe\">\n",
              "  <thead>\n",
              "    <tr style=\"text-align: right;\">\n",
              "      <th></th>\n",
              "      <th>target</th>\n",
              "    </tr>\n",
              "  </thead>\n",
              "  <tbody>\n",
              "    <tr>\n",
              "      <th>0</th>\n",
              "      <td>1</td>\n",
              "    </tr>\n",
              "    <tr>\n",
              "      <th>1</th>\n",
              "      <td>1</td>\n",
              "    </tr>\n",
              "    <tr>\n",
              "      <th>2</th>\n",
              "      <td>-1</td>\n",
              "    </tr>\n",
              "    <tr>\n",
              "      <th>3</th>\n",
              "      <td>1</td>\n",
              "    </tr>\n",
              "    <tr>\n",
              "      <th>4</th>\n",
              "      <td>1</td>\n",
              "    </tr>\n",
              "  </tbody>\n",
              "</table>\n",
              "</div>"
            ],
            "text/plain": [
              "   target\n",
              "0       1\n",
              "1       1\n",
              "2      -1\n",
              "3       1\n",
              "4       1"
            ]
          },
          "metadata": {
            "tags": []
          },
          "execution_count": 9
        }
      ]
    },
    {
      "cell_type": "markdown",
      "metadata": {
        "id": "H8Qr5O7jSSj_"
      },
      "source": [
        "Training KNN Classifier without feature selection."
      ]
    },
    {
      "cell_type": "code",
      "metadata": {
        "colab": {
          "base_uri": "https://localhost:8080/"
        },
        "id": "wQaQBSTxSZTI",
        "outputId": "dfe0ea74-b889-4fc5-c199-95d7903de00d"
      },
      "source": [
        "from sklearn.neighbors import KNeighborsClassifier\n",
        "from sklearn.model_selection import KFold\n",
        "\n",
        "cross_validation = KFold(n_splits=5, random_state=10, shuffle=True)\n",
        "\n",
        "ks = [1,2,3,4,5,6,7,8,9,10]\n",
        "mean_accs = []\n",
        "for k in ks:\n",
        "  neigh = KNeighborsClassifier(n_neighbors=k)\n",
        "  accs = []    \n",
        "  for train_index, test_index in cross_validation.split(gisette_train_data):\n",
        "    # separating test data from training data based on return indices of training and testing sets\n",
        "    x_train, x_test = gisette_train_data.iloc[train_index,0:],gisette_train_data.iloc[test_index,0:],\n",
        "    y_train, y_test = gisette_train_labels.iloc[train_index,0],gisette_train_labels.iloc[test_index,0]\n",
        "\n",
        "    neigh.fit(x_train, y_train)\n",
        "    accuracy = neigh.score(x_test, y_test)\n",
        "    accs.append(accuracy)\n",
        "\n",
        "  mean_accs.append(np.mean(accs))\n",
        "print(\"Mean Accuracies w.r.t different values of k, without feature selection:\")   \n",
        "mean_accs"
      ],
      "execution_count": 10,
      "outputs": [
        {
          "output_type": "stream",
          "text": [
            "Mean Accuracies w.r.t different values of k, without feature selection:\n"
          ],
          "name": "stdout"
        },
        {
          "output_type": "execute_result",
          "data": {
            "text/plain": [
              "[0.9568333333333333,\n",
              " 0.9601666666666666,\n",
              " 0.9631666666666666,\n",
              " 0.966,\n",
              " 0.9606666666666666,\n",
              " 0.9628333333333334,\n",
              " 0.9605,\n",
              " 0.9629999999999999,\n",
              " 0.9611666666666666,\n",
              " 0.9623333333333335]"
            ]
          },
          "metadata": {
            "tags": []
          },
          "execution_count": 10
        }
      ]
    },
    {
      "cell_type": "markdown",
      "metadata": {
        "id": "_rimjYpiW3GO"
      },
      "source": [
        "Selecting best k."
      ]
    },
    {
      "cell_type": "code",
      "metadata": {
        "colab": {
          "base_uri": "https://localhost:8080/"
        },
        "id": "2j6eVK0kW4xV",
        "outputId": "740fe6c1-669a-49ff-fc08-dec1c49d4695"
      },
      "source": [
        "max_acc_index = mean_accs.index(max(mean_accs))\n",
        "best_k = ks[max_acc_index]\n",
        "\n",
        "print(\"Best K, without feature selection: \", best_k)\n",
        "print(\"Corresponding Accuracy: \", max(mean_accs))"
      ],
      "execution_count": 11,
      "outputs": [
        {
          "output_type": "stream",
          "text": [
            "Best K, without feature selection:  4\n",
            "Corresponding Accuracy:  0.966\n"
          ],
          "name": "stdout"
        }
      ]
    },
    {
      "cell_type": "markdown",
      "metadata": {
        "id": "kwhUJX9gk_cW"
      },
      "source": [
        "Training KNN Classifier witht feature selection using PCA."
      ]
    },
    {
      "cell_type": "code",
      "metadata": {
        "colab": {
          "base_uri": "https://localhost:8080/"
        },
        "id": "3wMoNuKvnnk0",
        "outputId": "70f2d748-613c-495f-fdc6-f3c5eb92366b"
      },
      "source": [
        "from sklearn.decomposition import PCA\n",
        "from sklearn.preprocessing import StandardScaler\n",
        "from sklearn.pipeline import make_pipeline\n",
        "\n",
        "pca = make_pipeline(StandardScaler(),\n",
        "                    PCA())\n",
        "\n",
        "ks = [1,2,3,4,5,6,7,8,9,10]\n",
        "mean_accs_pca = []\n",
        "for k in ks:\n",
        "  neigh = KNeighborsClassifier(n_neighbors=k)\n",
        "  accs = []    \n",
        "  for train_index, test_index in cross_validation.split(gisette_train_data):\n",
        "    # separating test data from training data based on return indices of training and testing sets\n",
        "    x_train, x_test = gisette_train_data.iloc[train_index,0:],gisette_train_data.iloc[test_index,0:],\n",
        "    y_train, y_test = gisette_train_labels.iloc[train_index,0],gisette_train_labels.iloc[test_index,0]\n",
        "\n",
        "    pca.fit(x_train, y_train)\n",
        "    neigh.fit(pca.transform(x_train), y_train)\n",
        "    accuracy = neigh.score(pca.transform(x_test), y_test)\n",
        "    accs.append(accuracy)\n",
        "\n",
        "  mean_accs_pca.append(np.mean(accs))\n",
        "print(\"Mean Accuracies w.r.t different values of k, with feature selection (PCA):\")   \n",
        "mean_accs_pca"
      ],
      "execution_count": 14,
      "outputs": [
        {
          "output_type": "stream",
          "text": [
            "Mean Accuracies w.r.t different values of k, with feature selection (PCA):\n"
          ],
          "name": "stdout"
        },
        {
          "output_type": "execute_result",
          "data": {
            "text/plain": [
              "[0.9231666666666666,\n",
              " 0.9101666666666667,\n",
              " 0.9445,\n",
              " 0.9366666666666665,\n",
              " 0.9501666666666667,\n",
              " 0.9441666666666666,\n",
              " 0.9553333333333333,\n",
              " 0.9463333333333332,\n",
              " 0.9528333333333334,\n",
              " 0.9443333333333334]"
            ]
          },
          "metadata": {
            "tags": []
          },
          "execution_count": 14
        }
      ]
    },
    {
      "cell_type": "code",
      "metadata": {
        "colab": {
          "base_uri": "https://localhost:8080/"
        },
        "id": "oi4rNu9S8Byl",
        "outputId": "6f7d274e-c91e-4601-e77f-d76d3c0d1fbd"
      },
      "source": [
        "max_acc_index_pca = mean_accs_pca.index(max(mean_accs_pca))\n",
        "best_k_pca = ks[max_acc_index_pca]\n",
        "\n",
        "print(\"Best K, with feature selection (PCA): \", best_k_pca)\n",
        "print(\"Corresponding Accuracy: \", max(mean_accs_pca))"
      ],
      "execution_count": 15,
      "outputs": [
        {
          "output_type": "stream",
          "text": [
            "Best K, with feature selection:  7\n",
            "Corresponding Accuracy:  0.9553333333333333\n"
          ],
          "name": "stdout"
        }
      ]
    },
    {
      "cell_type": "markdown",
      "metadata": {
        "id": "L29CliLnMhaQ"
      },
      "source": [
        "## Cross validation explanation:\n",
        "\n",
        "For this purpose, I have used five fold cross validation methods and in case of PCA. I have applied pca in every step of closs validation in other words, I have applied PCA in every cross validated treaining and testing set. With this approach we get better generlization error."
      ]
    }
  ]
}