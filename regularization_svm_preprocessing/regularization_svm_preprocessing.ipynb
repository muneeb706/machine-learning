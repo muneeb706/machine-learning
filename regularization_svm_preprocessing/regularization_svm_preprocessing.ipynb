{
  "nbformat": 4,
  "nbformat_minor": 0,
  "metadata": {
    "colab": {
      "name": "regularization-svm-preprocessing.ipynb",
      "provenance": [],
      "authorship_tag": "ABX9TyNMXFNZEowfck4xzupxP5+K",
      "include_colab_link": true
    },
    "kernelspec": {
      "name": "python3",
      "display_name": "Python 3"
    },
    "language_info": {
      "name": "python"
    }
  },
  "cells": [
    {
      "cell_type": "markdown",
      "metadata": {
        "id": "view-in-github",
        "colab_type": "text"
      },
      "source": [
        "<a href=\"https://colab.research.google.com/github/muneeb706/machine-learning/blob/main/regularization_svm_preprocessing.ipynb\" target=\"_parent\"><img src=\"https://colab.research.google.com/assets/colab-badge.svg\" alt=\"Open In Colab\"/></a>"
      ]
    },
    {
      "cell_type": "code",
      "metadata": {
        "colab": {
          "base_uri": "https://localhost:8080/"
        },
        "id": "MM79JB8A-FA6",
        "outputId": "3148c107-4f09-4705-bbf3-a5cedc4ae4f3"
      },
      "source": [
        " !pip install -U liblinear-official"
      ],
      "execution_count": 6,
      "outputs": [
        {
          "output_type": "stream",
          "text": [
            "Collecting liblinear-official\n",
            "\u001b[?25l  Downloading https://files.pythonhosted.org/packages/98/91/859f0db15b868aaa671b84fbbff3f787f0655a13d334fd29b56e1c7dc938/liblinear-official-2.43.0.tar.gz (47kB)\n",
            "\u001b[K     |████████████████████████████████| 51kB 2.5MB/s \n",
            "\u001b[?25hRequirement already satisfied, skipping upgrade: scipy in /usr/local/lib/python3.7/dist-packages (from liblinear-official) (1.4.1)\n",
            "Requirement already satisfied, skipping upgrade: numpy>=1.13.3 in /usr/local/lib/python3.7/dist-packages (from scipy->liblinear-official) (1.19.5)\n",
            "Building wheels for collected packages: liblinear-official\n",
            "  Building wheel for liblinear-official (setup.py) ... \u001b[?25l\u001b[?25hdone\n",
            "  Created wheel for liblinear-official: filename=liblinear_official-2.43.0-cp37-cp37m-linux_x86_64.whl size=124242 sha256=fe1bfca9f2a8b9e6c2575cd927a50eac15f278985e197353c023ec0860ef2dd6\n",
            "  Stored in directory: /root/.cache/pip/wheels/f8/66/25/ae78a3b8319bbc49d770ada1ba02fc1274b93dce2e5b1c8b61\n",
            "Successfully built liblinear-official\n",
            "Installing collected packages: liblinear-official\n",
            "Successfully installed liblinear-official-2.43.0\n"
          ],
          "name": "stdout"
        }
      ]
    },
    {
      "cell_type": "code",
      "metadata": {
        "colab": {
          "base_uri": "https://localhost:8080/"
        },
        "id": "rUo7iOeA5Lae",
        "outputId": "ed862a59-4c66-4ca4-c763-e52b45fbe596"
      },
      "source": [
        " !pip install -U libsvm"
      ],
      "execution_count": 7,
      "outputs": [
        {
          "output_type": "stream",
          "text": [
            "Collecting libsvm\n",
            "\u001b[?25l  Downloading https://files.pythonhosted.org/packages/4b/11/c7700d0cd3a21eef2d7d996256277fc640ccd4f84717c10228cb6c1567dc/libsvm-3.23.0.4.tar.gz (170kB)\n",
            "\r\u001b[K     |██                              | 10kB 12.5MB/s eta 0:00:01\r\u001b[K     |███▉                            | 20kB 13.3MB/s eta 0:00:01\r\u001b[K     |█████▊                          | 30kB 8.8MB/s eta 0:00:01\r\u001b[K     |███████▊                        | 40kB 7.7MB/s eta 0:00:01\r\u001b[K     |█████████▋                      | 51kB 4.2MB/s eta 0:00:01\r\u001b[K     |███████████▌                    | 61kB 4.8MB/s eta 0:00:01\r\u001b[K     |█████████████▌                  | 71kB 4.9MB/s eta 0:00:01\r\u001b[K     |███████████████▍                | 81kB 5.2MB/s eta 0:00:01\r\u001b[K     |█████████████████▎              | 92kB 5.5MB/s eta 0:00:01\r\u001b[K     |███████████████████▏            | 102kB 5.6MB/s eta 0:00:01\r\u001b[K     |█████████████████████▏          | 112kB 5.6MB/s eta 0:00:01\r\u001b[K     |███████████████████████         | 122kB 5.6MB/s eta 0:00:01\r\u001b[K     |█████████████████████████       | 133kB 5.6MB/s eta 0:00:01\r\u001b[K     |███████████████████████████     | 143kB 5.6MB/s eta 0:00:01\r\u001b[K     |████████████████████████████▉   | 153kB 5.6MB/s eta 0:00:01\r\u001b[K     |██████████████████████████████▊ | 163kB 5.6MB/s eta 0:00:01\r\u001b[K     |████████████████████████████████| 174kB 5.6MB/s \n",
            "\u001b[?25hBuilding wheels for collected packages: libsvm\n",
            "  Building wheel for libsvm (setup.py) ... \u001b[?25l\u001b[?25hdone\n",
            "  Created wheel for libsvm: filename=libsvm-3.23.0.4-cp37-cp37m-linux_x86_64.whl size=233325 sha256=feae055b4ad852b200c91bb5c4305f4b61af1b485d92e201a4484f7fcebccee4\n",
            "  Stored in directory: /root/.cache/pip/wheels/5e/9e/b5/dbb033107407eec2f52b8cd24cf024a4b9ec8b62ea5aee995a\n",
            "Successfully built libsvm\n",
            "Installing collected packages: libsvm\n",
            "Successfully installed libsvm-3.23.0.4\n"
          ],
          "name": "stdout"
        }
      ]
    },
    {
      "cell_type": "markdown",
      "metadata": {
        "id": "Zgp4v4mzsw3V"
      },
      "source": [
        "I will use Python Interface for following questions."
      ]
    },
    {
      "cell_type": "code",
      "metadata": {
        "id": "piPAqBqS-9-E"
      },
      "source": [
        "import os\n",
        "import sys\n",
        "\n",
        "import numpy as np\n",
        "import pandas as pd\n",
        "\n",
        "from liblinear.liblinearutil import *"
      ],
      "execution_count": 8,
      "outputs": []
    },
    {
      "cell_type": "markdown",
      "metadata": {
        "id": "s6NFBHfpl0U2"
      },
      "source": [
        "## Problem 1: Regularized Logistic Regression"
      ]
    },
    {
      "cell_type": "markdown",
      "metadata": {
        "id": "gh96eB8Bl6u-"
      },
      "source": [
        "### Part - 2: Train and test a regularized logistic regression model one two data sets, namely the breast cancer and sonar data sets which are available here https://www.csie.ntu.edu.tw/~cjlin/libsvmtools/datasets/binary.html#breast-cancer and here https://www.csie.ntu.edu.tw/~cjlin/libsvmtools/datasets/binary.html#sonar. We will use the scaled version for our experiment.  A copy of them is also enclosed in this homework. Use the provided train-ing/testing splitting. In particular, the file \\xxx-scale-test-indices.txt\" contains the indices of examples in the original file for training, and \\xxx-scale-test-indices.txt\" contains the indices of examples in the original file for testing."
      ]
    },
    {
      "cell_type": "markdown",
      "metadata": {
        "id": "8MvaHboMxTwx"
      },
      "source": [
        "### 1) Working with Breast Cancer Dataset."
      ]
    },
    {
      "cell_type": "markdown",
      "metadata": {
        "id": "F6wv3sCimjG5"
      },
      "source": [
        "Reading data in LIBSVM format."
      ]
    },
    {
      "cell_type": "code",
      "metadata": {
        "id": "kZf1Ao9V_Gbl"
      },
      "source": [
        " y_breast, x_breast = svm_read_problem('./sample_data/breast-cancer_scale.txt')"
      ],
      "execution_count": null,
      "outputs": []
    },
    {
      "cell_type": "markdown",
      "metadata": {
        "id": "EP8OYw2hmvuc"
      },
      "source": [
        "Reading training and testing indexes."
      ]
    },
    {
      "cell_type": "code",
      "metadata": {
        "id": "VASqH2LhG0WX"
      },
      "source": [
        "with open('./sample_data/breast-cancer-scale-train-indices.txt') as f:    \n",
        "    breast_train_indexes = [int(line) for line in f]\n",
        "with open('./sample_data/breast-cancer-scale-test-indices.txt') as f:    \n",
        "    breast_test_indexes = [int(line) for line in f]"
      ],
      "execution_count": null,
      "outputs": []
    },
    {
      "cell_type": "markdown",
      "metadata": {
        "id": "M3tNEStlm0r9"
      },
      "source": [
        "Splitting training and testing data."
      ]
    },
    {
      "cell_type": "code",
      "metadata": {
        "id": "op-vvkwjJyoc"
      },
      "source": [
        "x_breast_train = [x_breast[i - 1] for i in breast_train_indexes]\n",
        "y_breast_train = [y_breast[i - 1] for i in breast_train_indexes]"
      ],
      "execution_count": null,
      "outputs": []
    },
    {
      "cell_type": "code",
      "metadata": {
        "id": "CqOAcjKjNjkY"
      },
      "source": [
        "x_breast_test = [x_breast[i - 1] for i in breast_test_indexes]\n",
        "y_breast_test = [y_breast[i - 1] for i in breast_test_indexes]"
      ],
      "execution_count": null,
      "outputs": []
    },
    {
      "cell_type": "markdown",
      "metadata": {
        "id": "uw2KBipRm7lB"
      },
      "source": [
        "Using the 5-fold cross validation method to decide the best value of the parameter C. The candidate values for C are 0.1, 1, 10, 100, 1000. For each C, report the training error and\n",
        "validation error. Choosing the best C that yields the lowest validation error."
      ]
    },
    {
      "cell_type": "code",
      "metadata": {
        "colab": {
          "base_uri": "https://localhost:8080/"
        },
        "id": "9EsgGS3oT2UW",
        "outputId": "5c849ed6-2650-4569-e7cd-ccb72af2609c"
      },
      "source": [
        "candidate_C = ['0.1', '1', '10', '100', '1000']\n",
        "min_val_error = 100\n",
        "min_val_error_C = candidate_C[0]\n",
        "for C in candidate_C:\n",
        "  print(\"For C = \" + C)\n",
        "  parameters = '-s 0 -v 5 -c ' + C\n",
        "  CV_ACC = train(y_breast_train, x_breast_train, parameters)\n",
        "  val_error = 100 - CV_ACC\n",
        "  print(\"Validation Error: \" + str(val_error))\n",
        "  p_label, p_acc, p_val = predict(y_breast_train, x_breast_train, train(y_breast_train, x_breast_train, '-s 0 -c ' + C))\n",
        "  print(\"Training Error: \" + str(100 - p_acc[0]))\n",
        "\n",
        "  if val_error < min_val_error:\n",
        "    min_val_error = val_error\n",
        "    min_val_error_C = C\n",
        "  print(\"\")\n",
        "\n",
        "\n",
        "print(\"Best C = \" + min_val_error_C)\n"
      ],
      "execution_count": null,
      "outputs": [
        {
          "output_type": "stream",
          "text": [
            "For C = 0.1\n",
            "Cross Validation Accuracy = 95.4%\n",
            "Validation Error: 4.6000000000000085\n",
            "Accuracy = 95.8% (479/500) (classification)\n",
            "Training Error: 4.200000000000003\n",
            "\n",
            "For C = 1\n",
            "Cross Validation Accuracy = 97%\n",
            "Validation Error: 3.0\n",
            "Accuracy = 97.2% (486/500) (classification)\n",
            "Training Error: 2.799999999999997\n",
            "\n",
            "For C = 10\n",
            "Cross Validation Accuracy = 97%\n",
            "Validation Error: 3.0\n",
            "Accuracy = 97.6% (488/500) (classification)\n",
            "Training Error: 2.4000000000000057\n",
            "\n",
            "For C = 100\n",
            "Cross Validation Accuracy = 97.4%\n",
            "Validation Error: 2.6000000000000085\n",
            "Accuracy = 97.8% (489/500) (classification)\n",
            "Training Error: 2.200000000000003\n",
            "\n",
            "For C = 1000\n",
            "Cross Validation Accuracy = 96.8%\n",
            "Validation Error: 3.200000000000003\n",
            "Accuracy = 97.8% (489/500) (classification)\n",
            "Training Error: 2.200000000000003\n",
            "\n",
            "Best C = 100\n"
          ],
          "name": "stdout"
        }
      ]
    },
    {
      "cell_type": "markdown",
      "metadata": {
        "id": "BEEjBaAprD64"
      },
      "source": [
        "Using the selected best C value to train a logistic regression model on the whole training data and evaluating and reporting its performance (by error rate) on the testing data."
      ]
    },
    {
      "cell_type": "code",
      "metadata": {
        "colab": {
          "base_uri": "https://localhost:8080/"
        },
        "id": "R5jQESzXak-L",
        "outputId": "fe26f21a-f1f2-44df-cf72-f18b07bda41e"
      },
      "source": [
        "# training model\n",
        "prob  = problem(y_breast_train, x_breast_train)\n",
        "param = parameter('-s 0 -c ' + min_val_error_C)\n",
        "m = train(prob, param)\n",
        "\n",
        "# predicting\n",
        "\n",
        "print(\"Logistic Regression (Breast Cancer): \")\n",
        "p_label, p_acc, p_val = predict(y_breast_test, x_breast_test, m)\n",
        "ACC, MSE, SCC = evaluations(y_breast_test, p_label)\n",
        "lr_breast_error_rate = 100 - ACC\n",
        "print(\"Test Error Rate = \" + str(lr_breast_error_rate))\n",
        "\n"
      ],
      "execution_count": null,
      "outputs": [
        {
          "output_type": "stream",
          "text": [
            "Logistic Regression (Breast Cancer): \n",
            "Accuracy = 96.1749% (176/183) (classification)\n",
            "Test Error Rate = 3.825136612021865\n"
          ],
          "name": "stdout"
        }
      ]
    },
    {
      "cell_type": "markdown",
      "metadata": {
        "id": "I9BABCBxxbpx"
      },
      "source": [
        "### 2) Working with Sonar Dataset."
      ]
    },
    {
      "cell_type": "markdown",
      "metadata": {
        "id": "2cFCJenuxl6R"
      },
      "source": [
        "Reading data in LIBSVM format."
      ]
    },
    {
      "cell_type": "code",
      "metadata": {
        "id": "2GFJNHK3xhkK"
      },
      "source": [
        " y_sonar, x_sonar = svm_read_problem('./sample_data/sonar_scale.txt')"
      ],
      "execution_count": null,
      "outputs": []
    },
    {
      "cell_type": "markdown",
      "metadata": {
        "id": "wJ4pQzPExsPJ"
      },
      "source": [
        "Reading training and testing indexes."
      ]
    },
    {
      "cell_type": "code",
      "metadata": {
        "id": "YTfOToF0xzOB"
      },
      "source": [
        "with open('./sample_data/sonar-scale-train-indices.txt') as f:    \n",
        "    sonar_train_indexes = [int(line) for line in f]\n",
        "with open('./sample_data/sonar-scale-test-indices.txt') as f:    \n",
        "    sonar_test_indexes = [int(line) for line in f]"
      ],
      "execution_count": null,
      "outputs": []
    },
    {
      "cell_type": "markdown",
      "metadata": {
        "id": "ace9dYjXx_eC"
      },
      "source": [
        "Splitting training and testing data."
      ]
    },
    {
      "cell_type": "code",
      "metadata": {
        "id": "EP9lw8zwyAH6"
      },
      "source": [
        "x_sonar_train = [x_sonar[i - 1] for i in sonar_train_indexes]\n",
        "y_sonar_train = [y_sonar[i - 1] for i in sonar_train_indexes]\n",
        "x_sonar_test = [x_sonar[i - 1] for i in sonar_test_indexes]\n",
        "y_sonar_test = [y_sonar[i - 1] for i in sonar_test_indexes]"
      ],
      "execution_count": null,
      "outputs": []
    },
    {
      "cell_type": "markdown",
      "metadata": {
        "id": "jRNv4jXpyLua"
      },
      "source": [
        "Using the 5-fold cross validation method to decide the best value of the parameter C. The candidate values for C are 0.1, 1, 10, 100, 1000. For each C, report the training error and\n",
        "validation error. Choosing the best C that yields the lowest validation error."
      ]
    },
    {
      "cell_type": "code",
      "metadata": {
        "colab": {
          "base_uri": "https://localhost:8080/"
        },
        "id": "Xbxa8C8OyMTV",
        "outputId": "3d619624-df87-48ba-e275-c974b42e8c4b"
      },
      "source": [
        "candidate_C = ['0.1', '1', '10', '100', '1000']\n",
        "min_val_error = 100\n",
        "min_val_error_C = candidate_C[0]\n",
        "for C in candidate_C:\n",
        "  print(\"For C = \" + C)\n",
        "  parameters = '-s 0 -v 5 -c ' + C\n",
        "  CV_ACC = train(y_sonar_train, x_sonar_train, parameters)\n",
        "  val_error = 100 - CV_ACC\n",
        "  print(\"Validation Error: \" + str(val_error))\n",
        "  p_label, p_acc, p_val = predict(y_sonar_train, x_sonar_train, train(y_sonar_train, x_sonar_train, '-s 0 -c ' + C))\n",
        "  print(\"Training Error: \" + str(100 - p_acc[0]))\n",
        "\n",
        "  if val_error < min_val_error:\n",
        "    min_val_error = val_error\n",
        "    min_val_error_C = C\n",
        "  print(\"\")\n",
        "\n",
        "\n",
        "print(\"Best C = \" + min_val_error_C)"
      ],
      "execution_count": null,
      "outputs": [
        {
          "output_type": "stream",
          "text": [
            "For C = 0.1\n",
            "Cross Validation Accuracy = 76%\n",
            "Validation Error: 24.0\n",
            "Accuracy = 81.3333% (122/150) (classification)\n",
            "Training Error: 18.66666666666667\n",
            "\n",
            "For C = 1\n",
            "Cross Validation Accuracy = 72.6667%\n",
            "Validation Error: 27.33333333333333\n",
            "Accuracy = 89.3333% (134/150) (classification)\n",
            "Training Error: 10.666666666666671\n",
            "\n",
            "For C = 10\n",
            "Cross Validation Accuracy = 76.6667%\n",
            "Validation Error: 23.33333333333333\n",
            "Accuracy = 94.6667% (142/150) (classification)\n",
            "Training Error: 5.333333333333329\n",
            "\n",
            "For C = 100\n",
            "Cross Validation Accuracy = 74.6667%\n",
            "Validation Error: 25.33333333333333\n",
            "Accuracy = 98% (147/150) (classification)\n",
            "Training Error: 2.0\n",
            "\n",
            "For C = 1000\n",
            "Cross Validation Accuracy = 72.6667%\n",
            "Validation Error: 27.33333333333333\n",
            "Accuracy = 100% (150/150) (classification)\n",
            "Training Error: 0.0\n",
            "\n",
            "Best C = 10\n"
          ],
          "name": "stdout"
        }
      ]
    },
    {
      "cell_type": "markdown",
      "metadata": {
        "id": "wgsfjBFIyUm6"
      },
      "source": [
        "Using the selected best C value to train a logistic regression model on the whole training data and evaluating and reporting its performance (by error rate) on the testing data."
      ]
    },
    {
      "cell_type": "code",
      "metadata": {
        "colab": {
          "base_uri": "https://localhost:8080/"
        },
        "id": "w3i6ng77yVRR",
        "outputId": "dd07ba27-eddb-40ba-acd0-73cc8b07e3b0"
      },
      "source": [
        "# training model\n",
        "prob  = problem(y_sonar_train, x_sonar_train)\n",
        "param = parameter('-s 0 -c ' + min_val_error_C)\n",
        "m = train(prob, param)\n",
        "\n",
        "# predicting\n",
        "\n",
        "print(\"Logistic Regression (Sonar Dataset): \")\n",
        "p_label, p_acc, p_val = predict(y_sonar_test, x_sonar_test, m)\n",
        "ACC, MSE, SCC = evaluations(y_sonar_test, p_label)\n",
        "lr_sonar_error_rate = 100 - ACC\n",
        "print(\"Test Error Rate = \" + str(lr_sonar_error_rate))"
      ],
      "execution_count": null,
      "outputs": [
        {
          "output_type": "stream",
          "text": [
            "Logistic Regression (Sonar Dataset): \n",
            "Accuracy = 72.4138% (42/58) (classification)\n",
            "Test Error Rate = 27.58620689655173\n"
          ],
          "name": "stdout"
        }
      ]
    },
    {
      "cell_type": "markdown",
      "metadata": {
        "id": "oZLVQRPIs9HD"
      },
      "source": [
        "## Problem 2: Support Vector Machine"
      ]
    },
    {
      "cell_type": "markdown",
      "metadata": {
        "id": "FtKv1GmStFPS"
      },
      "source": [
        "### Part - 1: Repeating the same experiments as in Problem 1 by using linear SVM. To train a linear SVM by liblinear you can use the option \"-s 3\""
      ]
    },
    {
      "cell_type": "markdown",
      "metadata": {
        "id": "TII_0OfazCTM"
      },
      "source": [
        "### 1) Working with Breast Cancer Dataset."
      ]
    },
    {
      "cell_type": "markdown",
      "metadata": {
        "id": "nLBPbX_Uznyq"
      },
      "source": [
        "Using the 5-fold cross validation method to decide the best value of the parameter C. The candidate values for C are 0.1, 1, 10, 100, 1000. For each C, report the training error and\n",
        "validation error. Choosing the best C that yields the lowest validation error."
      ]
    },
    {
      "cell_type": "code",
      "metadata": {
        "colab": {
          "base_uri": "https://localhost:8080/"
        },
        "id": "QzPPuJBaznyr",
        "outputId": "2b1f0d7d-30ce-4a4b-c6cf-2879a8d5b191"
      },
      "source": [
        "candidate_C = ['0.1', '1', '10', '100', '1000']\n",
        "min_val_error = 100\n",
        "min_val_error_C = candidate_C[0]\n",
        "for C in candidate_C:\n",
        "  print(\"For C = \" + C)\n",
        "  parameters = '-s 3 -v 5 -c ' + C\n",
        "  CV_ACC = train(y_breast_train, x_breast_train, parameters)\n",
        "  val_error = 100 - CV_ACC\n",
        "  print(\"Validation Error: \" + str(val_error))\n",
        "  p_label, p_acc, p_val = predict(y_breast_train, x_breast_train, train(y_breast_train, x_breast_train, '-s 3 -c ' + C))\n",
        "  print(\"Training Error: \" + str(100 - p_acc[0]))\n",
        "\n",
        "  if val_error < min_val_error:\n",
        "    min_val_error = val_error\n",
        "    min_val_error_C = C\n",
        "  print(\"\")\n",
        "\n",
        "\n",
        "print(\"Best C = \" + min_val_error_C)\n"
      ],
      "execution_count": null,
      "outputs": [
        {
          "output_type": "stream",
          "text": [
            "For C = 0.1\n",
            "Cross Validation Accuracy = 96.8%\n",
            "Validation Error: 3.200000000000003\n",
            "Accuracy = 97% (485/500) (classification)\n",
            "Training Error: 3.0\n",
            "\n",
            "For C = 1\n",
            "Cross Validation Accuracy = 97%\n",
            "Validation Error: 3.0\n",
            "Accuracy = 97.8% (489/500) (classification)\n",
            "Training Error: 2.200000000000003\n",
            "\n",
            "For C = 10\n",
            "Cross Validation Accuracy = 97.2%\n",
            "Validation Error: 2.799999999999997\n",
            "Accuracy = 98% (490/500) (classification)\n",
            "Training Error: 2.0\n",
            "\n",
            "For C = 100\n",
            "Cross Validation Accuracy = 93.6%\n",
            "Validation Error: 6.3999999999999915\n",
            "Accuracy = 97.4% (487/500) (classification)\n",
            "Training Error: 2.6000000000000085\n",
            "\n",
            "For C = 1000\n",
            "Cross Validation Accuracy = 91.6%\n",
            "Validation Error: 8.399999999999991\n",
            "Accuracy = 96.8% (484/500) (classification)\n",
            "Training Error: 3.200000000000003\n",
            "\n",
            "Best C = 10\n"
          ],
          "name": "stdout"
        }
      ]
    },
    {
      "cell_type": "markdown",
      "metadata": {
        "id": "ZAV3DqOr0Glk"
      },
      "source": [
        "Using the selected best C value to train a logistic regression model on the whole training data and evaluating and reporting its performance (by error rate) on the testing data."
      ]
    },
    {
      "cell_type": "code",
      "metadata": {
        "colab": {
          "base_uri": "https://localhost:8080/"
        },
        "id": "XerfNubg0Gll",
        "outputId": "0859141e-99ee-4ee2-f913-4fe5ab1de95a"
      },
      "source": [
        "# training model\n",
        "prob  = problem(y_breast_train, x_breast_train)\n",
        "param = parameter('-s 3 -c ' + min_val_error_C)\n",
        "m = train(prob, param)\n",
        "\n",
        "# predicting\n",
        "\n",
        "print(\"Linear SVM (Breast Dataset): \")\n",
        "\n",
        "p_label, p_acc, p_val = predict(y_breast_test, x_breast_test, m)\n",
        "ACC, MSE, SCC = evaluations(y_breast_test, p_label)\n",
        "lsvm_breast_error_rate = 100 - ACC\n",
        "print(\"Test Error Rate = \" + str(lsvm_breast_error_rate))"
      ],
      "execution_count": null,
      "outputs": [
        {
          "output_type": "stream",
          "text": [
            "Linear SVM (Breast Dataset): \n",
            "Accuracy = 96.7213% (177/183) (classification)\n",
            "Test Error Rate = 3.278688524590166\n"
          ],
          "name": "stdout"
        }
      ]
    },
    {
      "cell_type": "markdown",
      "metadata": {
        "id": "qZfFrxWE0Vmm"
      },
      "source": [
        "### 2) Working with Sonar Dataset."
      ]
    },
    {
      "cell_type": "code",
      "metadata": {
        "colab": {
          "base_uri": "https://localhost:8080/"
        },
        "id": "c1zmN1wg0Vmo",
        "outputId": "3f5bf299-443a-449c-c80f-e726db8834ae"
      },
      "source": [
        "candidate_C = ['0.1', '1', '10', '100', '1000']\n",
        "min_val_error = 100\n",
        "min_val_error_C = candidate_C[0]\n",
        "for C in candidate_C:\n",
        "  print(\"For C = \" + C)\n",
        "  parameters = '-s 3 -v 5 -c ' + C\n",
        "  CV_ACC = train(y_sonar_train, x_sonar_train, parameters)\n",
        "  val_error = 100 - CV_ACC\n",
        "  print(\"Validation Error: \" + str(val_error))\n",
        "  p_label, p_acc, p_val = predict(y_sonar_train, x_sonar_train, train(y_sonar_train, x_sonar_train, '-s 3 -c ' + C))\n",
        "  print(\"Training Error: \" + str(100 - p_acc[0]))\n",
        "\n",
        "  if val_error < min_val_error:\n",
        "    min_val_error = val_error\n",
        "    min_val_error_C = C\n",
        "  print(\"\")\n",
        "\n",
        "\n",
        "print(\"Best C = \" + min_val_error_C)"
      ],
      "execution_count": null,
      "outputs": [
        {
          "output_type": "stream",
          "text": [
            "For C = 0.1\n",
            "Cross Validation Accuracy = 70%\n",
            "Validation Error: 30.0\n",
            "Accuracy = 84% (126/150) (classification)\n",
            "Training Error: 16.0\n",
            "\n",
            "For C = 1\n",
            "Cross Validation Accuracy = 69.3333%\n",
            "Validation Error: 30.666666666666657\n",
            "Accuracy = 92.6667% (139/150) (classification)\n",
            "Training Error: 7.333333333333343\n",
            "\n",
            "For C = 10\n",
            "Cross Validation Accuracy = 68.6667%\n",
            "Validation Error: 31.33333333333333\n",
            "Accuracy = 96% (144/150) (classification)\n",
            "Training Error: 4.0\n",
            "\n",
            "For C = 100\n",
            "Cross Validation Accuracy = 71.3333%\n",
            "Validation Error: 28.666666666666657\n",
            "Accuracy = 96% (144/150) (classification)\n",
            "Training Error: 4.0\n",
            "\n",
            "For C = 1000\n",
            "Cross Validation Accuracy = 67.3333%\n",
            "Validation Error: 32.66666666666667\n",
            "Accuracy = 95.3333% (143/150) (classification)\n",
            "Training Error: 4.666666666666657\n",
            "\n",
            "Best C = 100\n"
          ],
          "name": "stdout"
        }
      ]
    },
    {
      "cell_type": "markdown",
      "metadata": {
        "id": "kp9mDs2k0Vmo"
      },
      "source": [
        "Using the selected best C value to train a logistic regression model on the whole training data and evaluating and reporting its performance (by error rate) on the testing data."
      ]
    },
    {
      "cell_type": "code",
      "metadata": {
        "colab": {
          "base_uri": "https://localhost:8080/"
        },
        "id": "X3kpqTDE0Vmp",
        "outputId": "b00cbb11-da40-4dac-9570-447c55d9afb0"
      },
      "source": [
        "# training model\n",
        "prob  = problem(y_sonar_train, x_sonar_train)\n",
        "param = parameter('-s 3 -c ' + min_val_error_C)\n",
        "m = train(prob, param)\n",
        "\n",
        "# predicting\n",
        "print(\"Linear SVM (Sonar Dataset): \")\n",
        "\n",
        "p_label, p_acc, p_val = predict(y_sonar_test, x_sonar_test, m)\n",
        "ACC, MSE, SCC = evaluations(y_sonar_test, p_label)\n",
        "lsvm_sonar_error_rate = 100 - ACC\n",
        "print(\"Test Error Rate = \" + str(lsvm_sonar_error_rate))"
      ],
      "execution_count": null,
      "outputs": [
        {
          "output_type": "stream",
          "text": [
            "Linear SVM (Sonar Dataset): \n",
            "Accuracy = 70.6897% (41/58) (classification)\n",
            "Test Error Rate = 29.310344827586206\n"
          ],
          "name": "stdout"
        }
      ]
    },
    {
      "cell_type": "markdown",
      "metadata": {
        "id": "2rfyHEv60v8v"
      },
      "source": [
        "### Part - 2: Repeat the same experiments as in Problem 1 by using kernel SVM. To train a kernel SVM by libsvm you can use the option \"-s 0\". Use the optional \"-t \" to choose different types of kernels. Try polynomial kernel and RBF kernel with default values of parameters."
      ]
    },
    {
      "cell_type": "code",
      "metadata": {
        "id": "GqLTLnsu5eAV"
      },
      "source": [
        "from libsvm.svmutil import *"
      ],
      "execution_count": null,
      "outputs": []
    },
    {
      "cell_type": "markdown",
      "metadata": {
        "id": "gSMbkwU04PEQ"
      },
      "source": [
        "### 1) Working with Breast Cancer Dataset."
      ]
    },
    {
      "cell_type": "markdown",
      "metadata": {
        "id": "wEiJyihM4PEY"
      },
      "source": [
        "Using the 5-fold cross validation method to decide the best value of the parameter C. The candidate values for C are 0.1, 1, 10, 100, 1000. For each C, report the training error and\n",
        "validation error. Choosing the best C that yields the lowest validation error."
      ]
    },
    {
      "cell_type": "markdown",
      "metadata": {
        "id": "mbFQ5y3u_Zku"
      },
      "source": [
        "#### Polynomial Kernel."
      ]
    },
    {
      "cell_type": "code",
      "metadata": {
        "colab": {
          "base_uri": "https://localhost:8080/"
        },
        "id": "6rAXV_7Y4PEY",
        "outputId": "9a52c46f-71f1-4e39-e6c5-d1cf8ee00407"
      },
      "source": [
        "candidate_C = ['0.1', '1', '10', '100', '1000']\n",
        "min_val_error = 100\n",
        "min_val_error_C = candidate_C[0]\n",
        "for C in candidate_C:\n",
        "  print(\"For C = \" + C)\n",
        "  parameters = '-s 0 -t 1 -v 5 -c ' + C\n",
        "  CV_ACC = svm_train(y_breast_train, x_breast_train, parameters)\n",
        "  val_error = 100 - CV_ACC\n",
        "  print(\"Validation Error: \" + str(val_error))\n",
        "  p_label, p_acc, p_val = svm_predict(y_breast_train, x_breast_train, svm_train(y_breast_train, x_breast_train, '-s 0 -t 1 -c ' + C))\n",
        "  print(\"Training Error: \" + str(100 - p_acc[0]))\n",
        "\n",
        "  if val_error < min_val_error:\n",
        "    min_val_error = val_error\n",
        "    min_val_error_C = C\n",
        "  print(\"\")\n",
        "\n",
        "\n",
        "print(\"Best C = \" + min_val_error_C)\n"
      ],
      "execution_count": null,
      "outputs": [
        {
          "output_type": "stream",
          "text": [
            "For C = 0.1\n",
            "Cross Validation Accuracy = 97.4%\n",
            "Validation Error: 2.6000000000000085\n",
            "Accuracy = 97.8% (489/500) (classification)\n",
            "Training Error: 2.200000000000003\n",
            "\n",
            "For C = 1\n",
            "Cross Validation Accuracy = 97.6%\n",
            "Validation Error: 2.4000000000000057\n",
            "Accuracy = 97.8% (489/500) (classification)\n",
            "Training Error: 2.200000000000003\n",
            "\n",
            "For C = 10\n",
            "Cross Validation Accuracy = 97.2%\n",
            "Validation Error: 2.799999999999997\n",
            "Accuracy = 98.6% (493/500) (classification)\n",
            "Training Error: 1.4000000000000057\n",
            "\n",
            "For C = 100\n",
            "Cross Validation Accuracy = 95.6%\n",
            "Validation Error: 4.400000000000006\n",
            "Accuracy = 99.2% (496/500) (classification)\n",
            "Training Error: 0.7999999999999972\n",
            "\n",
            "For C = 1000\n",
            "Cross Validation Accuracy = 95.2%\n",
            "Validation Error: 4.800000000000011\n",
            "Accuracy = 100% (500/500) (classification)\n",
            "Training Error: 0.0\n",
            "\n",
            "Best C = 1\n"
          ],
          "name": "stdout"
        }
      ]
    },
    {
      "cell_type": "markdown",
      "metadata": {
        "id": "PwIaIhF84PEZ"
      },
      "source": [
        "Using the selected best C value to train a logistic regression model on the whole training data and evaluating and reporting its performance (by error rate) on the testing data."
      ]
    },
    {
      "cell_type": "code",
      "metadata": {
        "colab": {
          "base_uri": "https://localhost:8080/"
        },
        "id": "Zpamrv9Q4PEa",
        "outputId": "3d8be84e-0151-4b71-c28e-e5a0ef021339"
      },
      "source": [
        "# training model\n",
        "prob  = svm_problem(y_breast_train, x_breast_train)\n",
        "param = svm_parameter('-s 0 -t 1 -c ' + min_val_error_C)\n",
        "m = svm_train(prob, param)\n",
        "\n",
        "# predicting\n",
        "\n",
        "print(\"Polynomial Kernel SVM (Breast Dataset): \")\n",
        "\n",
        "p_label, p_acc, p_val = svm_predict(y_breast_test, x_breast_test, m)\n",
        "ACC, MSE, SCC = evaluations(y_breast_test, p_label)\n",
        "pksvm_breast_error_rate = 100 - ACC\n",
        "print(\"Test Error Rate = \" + str(pksvm_breast_error_rate))\n",
        "\n"
      ],
      "execution_count": null,
      "outputs": [
        {
          "output_type": "stream",
          "text": [
            "Polynomial Kernel SVM (Breast Dataset): \n",
            "Accuracy = 96.7213% (177/183) (classification)\n",
            "Test Error Rate = 3.278688524590166\n"
          ],
          "name": "stdout"
        }
      ]
    },
    {
      "cell_type": "markdown",
      "metadata": {
        "id": "Zq5MSkccBngX"
      },
      "source": [
        "#### RBF Kernel."
      ]
    },
    {
      "cell_type": "code",
      "metadata": {
        "colab": {
          "base_uri": "https://localhost:8080/"
        },
        "id": "Sd0xyzr1Bngi",
        "outputId": "15a1551a-ae67-4f03-9aec-5314f09a103f"
      },
      "source": [
        "candidate_C = ['0.1', '1', '10', '100', '1000']\n",
        "min_val_error = 100\n",
        "min_val_error_C = candidate_C[0]\n",
        "for C in candidate_C:\n",
        "  print(\"For C = \" + C)\n",
        "  parameters = '-s 0 -t 2 -v 5 -c ' + C\n",
        "  CV_ACC = svm_train(y_breast_train, x_breast_train, parameters)\n",
        "  val_error = 100 - CV_ACC\n",
        "  print(\"Validation Error: \" + str(val_error))\n",
        "  p_label, p_acc, p_val = svm_predict(y_breast_train, x_breast_train, svm_train(y_breast_train, x_breast_train, '-s 0 -t 2 -c ' + C))\n",
        "  print(\"Training Error: \" + str(100 - p_acc[0]))\n",
        "\n",
        "  if val_error < min_val_error:\n",
        "    min_val_error = val_error\n",
        "    min_val_error_C = C\n",
        "  print(\"\")\n",
        "\n",
        "\n",
        "print(\"Best C = \" + min_val_error_C)\n"
      ],
      "execution_count": null,
      "outputs": [
        {
          "output_type": "stream",
          "text": [
            "For C = 0.1\n",
            "Cross Validation Accuracy = 97%\n",
            "Validation Error: 3.0\n",
            "Accuracy = 97.4% (487/500) (classification)\n",
            "Training Error: 2.6000000000000085\n",
            "\n",
            "For C = 1\n",
            "Cross Validation Accuracy = 97.8%\n",
            "Validation Error: 2.200000000000003\n",
            "Accuracy = 97.8% (489/500) (classification)\n",
            "Training Error: 2.200000000000003\n",
            "\n",
            "For C = 10\n",
            "Cross Validation Accuracy = 97.2%\n",
            "Validation Error: 2.799999999999997\n",
            "Accuracy = 98.4% (492/500) (classification)\n",
            "Training Error: 1.5999999999999943\n",
            "\n",
            "For C = 100\n",
            "Cross Validation Accuracy = 96.2%\n",
            "Validation Error: 3.799999999999997\n",
            "Accuracy = 99.6% (498/500) (classification)\n",
            "Training Error: 0.4000000000000057\n",
            "\n",
            "For C = 1000\n",
            "Cross Validation Accuracy = 95.2%\n",
            "Validation Error: 4.800000000000011\n",
            "Accuracy = 100% (500/500) (classification)\n",
            "Training Error: 0.0\n",
            "\n",
            "Best C = 1\n"
          ],
          "name": "stdout"
        }
      ]
    },
    {
      "cell_type": "markdown",
      "metadata": {
        "id": "nClHbsOSBngi"
      },
      "source": [
        "Using the selected best C value to train a logistic regression model on the whole training data and evaluating and reporting its performance (by error rate) on the testing data."
      ]
    },
    {
      "cell_type": "code",
      "metadata": {
        "colab": {
          "base_uri": "https://localhost:8080/"
        },
        "id": "gjMJeC92Bngj",
        "outputId": "72ae0ba0-c98c-43c9-ee03-669f18b45f02"
      },
      "source": [
        "# training model\n",
        "prob  = svm_problem(y_breast_train, x_breast_train)\n",
        "param = svm_parameter('-s 0 -t 2 -c ' + min_val_error_C)\n",
        "m = svm_train(prob, param)\n",
        "\n",
        "# predicting\n",
        "\n",
        "print(\"RBF Kernel SVM (Breast Dataset): \")\n",
        "\n",
        "p_label, p_acc, p_val = svm_predict(y_breast_test, x_breast_test, m)\n",
        "ACC, MSE, SCC = evaluations(y_breast_test, p_label)\n",
        "rbfksvm_breast_error_rate = 100 - ACC\n",
        "print(\"Test Error Rate = \" + str(rbfksvm_breast_error_rate))\n",
        "\n"
      ],
      "execution_count": null,
      "outputs": [
        {
          "output_type": "stream",
          "text": [
            "RBF Kernel SVM (Breast Dataset): \n",
            "Accuracy = 96.1749% (176/183) (classification)\n",
            "Test Error Rate = 3.825136612021865\n"
          ],
          "name": "stdout"
        }
      ]
    },
    {
      "cell_type": "markdown",
      "metadata": {
        "id": "A8m_0Mtg4PEa"
      },
      "source": [
        "### 2) Working with Sonar Dataset."
      ]
    },
    {
      "cell_type": "markdown",
      "metadata": {
        "id": "QBauuzCLDTBP"
      },
      "source": [
        "#### Polynomial Kernel."
      ]
    },
    {
      "cell_type": "markdown",
      "metadata": {
        "id": "wGOQqnvQ4PEb"
      },
      "source": [
        "Using the 5-fold cross validation method to decide the best value of the parameter C. The candidate values for C are 0.1, 1, 10, 100, 1000. For each C, report the training error and\n",
        "validation error. Choosing the best C that yields the lowest validation error."
      ]
    },
    {
      "cell_type": "code",
      "metadata": {
        "colab": {
          "base_uri": "https://localhost:8080/"
        },
        "id": "6PMfBHXT4PEb",
        "outputId": "6f257311-8667-4f9d-a42d-15e39cce7ebf"
      },
      "source": [
        "candidate_C = ['0.1', '1', '10', '100', '1000']\n",
        "min_val_error = 100\n",
        "min_val_error_C = candidate_C[0]\n",
        "for C in candidate_C:\n",
        "  print(\"For C = \" + C)\n",
        "  parameters = '-s 0 -t 1 -v 5 -c ' + C\n",
        "  CV_ACC = svm_train(y_sonar_train, x_sonar_train, parameters)\n",
        "  val_error = 100 - CV_ACC\n",
        "  print(\"Validation Error: \" + str(val_error))\n",
        "  p_label, p_acc, p_val = svm_predict(y_sonar_train, x_sonar_train, svm_train(y_sonar_train, x_sonar_train, '-s 0 -t 1 -c ' + C))\n",
        "  print(\"Training Error: \" + str(100 - p_acc[0]))\n",
        "\n",
        "  if val_error < min_val_error:\n",
        "    min_val_error = val_error\n",
        "    min_val_error_C = C\n",
        "  print(\"\")\n",
        "\n",
        "\n",
        "print(\"Best C = \" + min_val_error_C)"
      ],
      "execution_count": null,
      "outputs": [
        {
          "output_type": "stream",
          "text": [
            "For C = 0.1\n",
            "Cross Validation Accuracy = 56%\n",
            "Validation Error: 43.99999999999999\n",
            "Accuracy = 56% (84/150) (classification)\n",
            "Training Error: 43.99999999999999\n",
            "\n",
            "For C = 1\n",
            "Cross Validation Accuracy = 56%\n",
            "Validation Error: 43.99999999999999\n",
            "Accuracy = 60% (90/150) (classification)\n",
            "Training Error: 40.0\n",
            "\n",
            "For C = 10\n",
            "Cross Validation Accuracy = 78.6667%\n",
            "Validation Error: 21.333333333333343\n",
            "Accuracy = 84% (126/150) (classification)\n",
            "Training Error: 16.0\n",
            "\n",
            "For C = 100\n",
            "Cross Validation Accuracy = 84.6667%\n",
            "Validation Error: 15.333333333333329\n",
            "Accuracy = 100% (150/150) (classification)\n",
            "Training Error: 0.0\n",
            "\n",
            "For C = 1000\n",
            "Cross Validation Accuracy = 86%\n",
            "Validation Error: 14.0\n",
            "Accuracy = 100% (150/150) (classification)\n",
            "Training Error: 0.0\n",
            "\n",
            "Best C = 1000\n"
          ],
          "name": "stdout"
        }
      ]
    },
    {
      "cell_type": "markdown",
      "metadata": {
        "id": "nfjOZoob4PEc"
      },
      "source": [
        "Using the selected best C value to train a logistic regression model on the whole training data and evaluating and reporting its performance (by error rate) on the testing data."
      ]
    },
    {
      "cell_type": "code",
      "metadata": {
        "colab": {
          "base_uri": "https://localhost:8080/"
        },
        "id": "fTwDXWNw4PEc",
        "outputId": "ee351ffd-5370-4656-ca5c-0715c91dff71"
      },
      "source": [
        "# training model\n",
        "prob  = svm_problem(y_sonar_train, x_sonar_train)\n",
        "param = svm_parameter('-s 0 -t 1 -c ' + min_val_error_C)\n",
        "m = svm_train(prob, param)\n",
        "\n",
        "# predicting\n",
        "\n",
        "print(\"Polynomial Kernel SVM (Sonar Dataset): \")\n",
        "\n",
        "p_label, p_acc, p_val = svm_predict(y_sonar_test, x_sonar_test, m)\n",
        "ACC, MSE, SCC = evaluations(y_sonar_test, p_label)\n",
        "pk_sonar_error_rate = 100 - ACC\n",
        "print(\"Test Error Rate = \" + str(pk_sonar_error_rate))"
      ],
      "execution_count": null,
      "outputs": [
        {
          "output_type": "stream",
          "text": [
            "Polynomial Kernel SVM (Sonar Dataset): \n",
            "Accuracy = 86.2069% (50/58) (classification)\n",
            "Test Error Rate = 13.793103448275872\n"
          ],
          "name": "stdout"
        }
      ]
    },
    {
      "cell_type": "markdown",
      "metadata": {
        "id": "JgpZQ0deEHM8"
      },
      "source": [
        "#### RBF Kernel."
      ]
    },
    {
      "cell_type": "markdown",
      "metadata": {
        "id": "IiTRGJ37EO3l"
      },
      "source": [
        "Using the 5-fold cross validation method to decide the best value of the parameter C. The candidate values for C are 0.1, 1, 10, 100, 1000. For each C, report the training error and\n",
        "validation error. Choosing the best C that yields the lowest validation error."
      ]
    },
    {
      "cell_type": "code",
      "metadata": {
        "colab": {
          "base_uri": "https://localhost:8080/"
        },
        "id": "P2JzDi5KEJgN",
        "outputId": "a0844be4-a7d0-4e4b-db7f-7d0a8e4fcd56"
      },
      "source": [
        "candidate_C = ['0.1', '1', '10', '100', '1000']\n",
        "min_val_error = 100\n",
        "min_val_error_C = candidate_C[0]\n",
        "for C in candidate_C:\n",
        "  print(\"For C = \" + C)\n",
        "  parameters = '-s 0 -t 2 -v 5 -c ' + C\n",
        "  CV_ACC = svm_train(y_sonar_train, x_sonar_train, parameters)\n",
        "  val_error = 100 - CV_ACC\n",
        "  print(\"Validation Error: \" + str(val_error))\n",
        "  p_label, p_acc, p_val = svm_predict(y_sonar_train, x_sonar_train, svm_train(y_sonar_train, x_sonar_train, '-s 0 -t 2 -c ' + C))\n",
        "  print(\"Training Error: \" + str(100 - p_acc[0]))\n",
        "\n",
        "  if val_error < min_val_error:\n",
        "    min_val_error = val_error\n",
        "    min_val_error_C = C\n",
        "  print(\"\")\n",
        "\n",
        "\n",
        "print(\"Best C = \" + min_val_error_C)"
      ],
      "execution_count": null,
      "outputs": [
        {
          "output_type": "stream",
          "text": [
            "For C = 0.1\n",
            "Cross Validation Accuracy = 56%\n",
            "Validation Error: 43.99999999999999\n",
            "Accuracy = 56% (84/150) (classification)\n",
            "Training Error: 43.99999999999999\n",
            "\n",
            "For C = 1\n",
            "Cross Validation Accuracy = 74.6667%\n",
            "Validation Error: 25.33333333333333\n",
            "Accuracy = 85.3333% (128/150) (classification)\n",
            "Training Error: 14.666666666666657\n",
            "\n",
            "For C = 10\n",
            "Cross Validation Accuracy = 72.6667%\n",
            "Validation Error: 27.33333333333333\n",
            "Accuracy = 97.3333% (146/150) (classification)\n",
            "Training Error: 2.666666666666657\n",
            "\n",
            "For C = 100\n",
            "Cross Validation Accuracy = 82.6667%\n",
            "Validation Error: 17.33333333333333\n",
            "Accuracy = 100% (150/150) (classification)\n",
            "Training Error: 0.0\n",
            "\n",
            "For C = 1000\n",
            "Cross Validation Accuracy = 81.3333%\n",
            "Validation Error: 18.66666666666667\n",
            "Accuracy = 100% (150/150) (classification)\n",
            "Training Error: 0.0\n",
            "\n",
            "Best C = 100\n"
          ],
          "name": "stdout"
        }
      ]
    },
    {
      "cell_type": "markdown",
      "metadata": {
        "id": "Lh09DpX5ERET"
      },
      "source": [
        "Using the selected best C value to train a logistic regression model on the whole training data and evaluating and reporting its performance (by error rate) on the testing data."
      ]
    },
    {
      "cell_type": "code",
      "metadata": {
        "colab": {
          "base_uri": "https://localhost:8080/"
        },
        "id": "Cwde7XEjESOv",
        "outputId": "25bf0610-577a-49a6-d1a4-7d94e5f56041"
      },
      "source": [
        "# training model\n",
        "prob  = svm_problem(y_sonar_train, x_sonar_train)\n",
        "param = svm_parameter('-s 0 -t 2 -c ' + min_val_error_C)\n",
        "m = svm_train(prob, param)\n",
        "\n",
        "# predicting\n",
        "\n",
        "print(\"RBF Kernel SVM (Sonar Dataset): \")\n",
        "\n",
        "p_label, p_acc, p_val = svm_predict(y_sonar_test, x_sonar_test, m)\n",
        "ACC, MSE, SCC = evaluations(y_sonar_test, p_label)\n",
        "rbfksvm_sonar_error_rate = 100 - ACC\n",
        "print(\"Test Error Rate = \" + str(pk_sonar_error_rate))"
      ],
      "execution_count": null,
      "outputs": [
        {
          "output_type": "stream",
          "text": [
            "RBF Kernel SVM (Sonar Dataset): \n",
            "Accuracy = 86.2069% (50/58) (classification)\n",
            "Test Error Rate = 13.793103448275872\n"
          ],
          "name": "stdout"
        }
      ]
    },
    {
      "cell_type": "markdown",
      "metadata": {
        "id": "Yrf1uIMhFdQx"
      },
      "source": [
        "### Part - 3: Compare the test error given by Logistic Regression, Linear SVM and Kernel SVMs."
      ]
    },
    {
      "cell_type": "code",
      "metadata": {
        "colab": {
          "base_uri": "https://localhost:8080/"
        },
        "id": "x0e167G7FhtM",
        "outputId": "7290335a-ad92-4830-bd5a-ec27accea1a5"
      },
      "source": [
        "print(\"--- Breast Dataset Error Rates ---\")\n",
        "print(\"Logistic Regression: \" + str(lr_breast_error_rate))\n",
        "print(\"Linear SVM: \" + str(lsvm_breast_error_rate))\n",
        "print(\"Polynomial Kernel SVM: \" + str(pksvm_breast_error_rate))\n",
        "print(\"RBF Kernel SVM: \" + str(rbfksvm_breast_error_rate))\n",
        "print(\"\")\n",
        "print(\"--- Sonar Dataset Error Rates ---\")\n",
        "print(\"Logistic Regression: \" + str(lr_sonar_error_rate))\n",
        "print(\"Linear SVM: \" + str(lsvm_sonar_error_rate))\n",
        "print(\"Polynomial Kernel SVM: \" + str(pk_sonar_error_rate))\n",
        "print(\"RBF Kernel SVM: \" + str(rbfksvm_sonar_error_rate))\n"
      ],
      "execution_count": null,
      "outputs": [
        {
          "output_type": "stream",
          "text": [
            "--- Breast Dataset Error Rates ---\n",
            "Logistic Regression: 3.825136612021865\n",
            "Linear SVM: 3.278688524590166\n",
            "Polynomial Kernel SVM: 3.278688524590166\n",
            "RBF Kernel SVM: 3.825136612021865\n",
            "\n",
            "--- Sonar Dataset Error Rates ---\n",
            "Logistic Regression: 27.58620689655173\n",
            "Linear SVM: 29.310344827586206\n",
            "Polynomial Kernel SVM: 13.793103448275872\n",
            "RBF Kernel SVM: 13.793103448275872\n"
          ],
          "name": "stdout"
        }
      ]
    },
    {
      "cell_type": "markdown",
      "metadata": {
        "id": "bV1COu7GG4gY"
      },
      "source": [
        "In case of Breast Dataset, the error rates reported by all of the algorithms are similar. The difference between the error rates is not significant enough. This results suggest that data points in Breast Dataset are linearly separable. However, in case of Sonar Dataset, the performance of non-lienar SVMs are way better than the performance of Linear algorithms (Linear SVM and Logistic Regression). The error rates reported by non-linear SVMs are less than half of the error rates reported by linear algorithms. This shows the data points in Sonar Dataset are not linearly separable. Also, the error rates reported by Polynomial and Kernel SVM are very similar. "
      ]
    },
    {
      "cell_type": "markdown",
      "metadata": {
        "id": "u3hoZxHNJxNV"
      },
      "source": [
        "## Problem 3: Data Processing"
      ]
    },
    {
      "cell_type": "markdown",
      "metadata": {
        "id": "nXJohRoq_XZM"
      },
      "source": [
        "### Part - 1: data preprocessing, training, and evaluation"
      ]
    },
    {
      "cell_type": "markdown",
      "metadata": {
        "id": "QgiVrqz9_z0b"
      },
      "source": [
        "Reading data file."
      ]
    },
    {
      "cell_type": "code",
      "metadata": {
        "colab": {
          "base_uri": "https://localhost:8080/",
          "height": 214
        },
        "id": "IK9I217_pcLr",
        "outputId": "543ebed1-35e5-46c3-b031-9762b6b85251"
      },
      "source": [
        "covtype_data = pd.read_csv('./sample_data/covtype.data', sep=\",\", header=None)\n",
        "covtype_data.head()"
      ],
      "execution_count": 17,
      "outputs": [
        {
          "output_type": "execute_result",
          "data": {
            "text/html": [
              "<div>\n",
              "<style scoped>\n",
              "    .dataframe tbody tr th:only-of-type {\n",
              "        vertical-align: middle;\n",
              "    }\n",
              "\n",
              "    .dataframe tbody tr th {\n",
              "        vertical-align: top;\n",
              "    }\n",
              "\n",
              "    .dataframe thead th {\n",
              "        text-align: right;\n",
              "    }\n",
              "</style>\n",
              "<table border=\"1\" class=\"dataframe\">\n",
              "  <thead>\n",
              "    <tr style=\"text-align: right;\">\n",
              "      <th></th>\n",
              "      <th>0</th>\n",
              "      <th>1</th>\n",
              "      <th>2</th>\n",
              "      <th>3</th>\n",
              "      <th>4</th>\n",
              "      <th>5</th>\n",
              "      <th>6</th>\n",
              "      <th>7</th>\n",
              "      <th>8</th>\n",
              "      <th>9</th>\n",
              "      <th>10</th>\n",
              "      <th>11</th>\n",
              "      <th>12</th>\n",
              "      <th>13</th>\n",
              "      <th>14</th>\n",
              "      <th>15</th>\n",
              "      <th>16</th>\n",
              "      <th>17</th>\n",
              "      <th>18</th>\n",
              "      <th>19</th>\n",
              "      <th>20</th>\n",
              "      <th>21</th>\n",
              "      <th>22</th>\n",
              "      <th>23</th>\n",
              "      <th>24</th>\n",
              "      <th>25</th>\n",
              "      <th>26</th>\n",
              "      <th>27</th>\n",
              "      <th>28</th>\n",
              "      <th>29</th>\n",
              "      <th>30</th>\n",
              "      <th>31</th>\n",
              "      <th>32</th>\n",
              "      <th>33</th>\n",
              "      <th>34</th>\n",
              "      <th>35</th>\n",
              "      <th>36</th>\n",
              "      <th>37</th>\n",
              "      <th>38</th>\n",
              "      <th>39</th>\n",
              "      <th>40</th>\n",
              "      <th>41</th>\n",
              "      <th>42</th>\n",
              "      <th>43</th>\n",
              "      <th>44</th>\n",
              "      <th>45</th>\n",
              "      <th>46</th>\n",
              "      <th>47</th>\n",
              "      <th>48</th>\n",
              "      <th>49</th>\n",
              "      <th>50</th>\n",
              "      <th>51</th>\n",
              "      <th>52</th>\n",
              "      <th>53</th>\n",
              "      <th>54</th>\n",
              "    </tr>\n",
              "  </thead>\n",
              "  <tbody>\n",
              "    <tr>\n",
              "      <th>0</th>\n",
              "      <td>2596</td>\n",
              "      <td>51</td>\n",
              "      <td>3</td>\n",
              "      <td>258</td>\n",
              "      <td>0</td>\n",
              "      <td>510</td>\n",
              "      <td>221</td>\n",
              "      <td>232</td>\n",
              "      <td>148</td>\n",
              "      <td>6279</td>\n",
              "      <td>1</td>\n",
              "      <td>0</td>\n",
              "      <td>0</td>\n",
              "      <td>0</td>\n",
              "      <td>0</td>\n",
              "      <td>0</td>\n",
              "      <td>0</td>\n",
              "      <td>0</td>\n",
              "      <td>0</td>\n",
              "      <td>0</td>\n",
              "      <td>0</td>\n",
              "      <td>0</td>\n",
              "      <td>0</td>\n",
              "      <td>0</td>\n",
              "      <td>0</td>\n",
              "      <td>0</td>\n",
              "      <td>0</td>\n",
              "      <td>0</td>\n",
              "      <td>0</td>\n",
              "      <td>0</td>\n",
              "      <td>0</td>\n",
              "      <td>0</td>\n",
              "      <td>0</td>\n",
              "      <td>0</td>\n",
              "      <td>0</td>\n",
              "      <td>0</td>\n",
              "      <td>0</td>\n",
              "      <td>0</td>\n",
              "      <td>0</td>\n",
              "      <td>0</td>\n",
              "      <td>0</td>\n",
              "      <td>0</td>\n",
              "      <td>1</td>\n",
              "      <td>0</td>\n",
              "      <td>0</td>\n",
              "      <td>0</td>\n",
              "      <td>0</td>\n",
              "      <td>0</td>\n",
              "      <td>0</td>\n",
              "      <td>0</td>\n",
              "      <td>0</td>\n",
              "      <td>0</td>\n",
              "      <td>0</td>\n",
              "      <td>0</td>\n",
              "      <td>5</td>\n",
              "    </tr>\n",
              "    <tr>\n",
              "      <th>1</th>\n",
              "      <td>2590</td>\n",
              "      <td>56</td>\n",
              "      <td>2</td>\n",
              "      <td>212</td>\n",
              "      <td>-6</td>\n",
              "      <td>390</td>\n",
              "      <td>220</td>\n",
              "      <td>235</td>\n",
              "      <td>151</td>\n",
              "      <td>6225</td>\n",
              "      <td>1</td>\n",
              "      <td>0</td>\n",
              "      <td>0</td>\n",
              "      <td>0</td>\n",
              "      <td>0</td>\n",
              "      <td>0</td>\n",
              "      <td>0</td>\n",
              "      <td>0</td>\n",
              "      <td>0</td>\n",
              "      <td>0</td>\n",
              "      <td>0</td>\n",
              "      <td>0</td>\n",
              "      <td>0</td>\n",
              "      <td>0</td>\n",
              "      <td>0</td>\n",
              "      <td>0</td>\n",
              "      <td>0</td>\n",
              "      <td>0</td>\n",
              "      <td>0</td>\n",
              "      <td>0</td>\n",
              "      <td>0</td>\n",
              "      <td>0</td>\n",
              "      <td>0</td>\n",
              "      <td>0</td>\n",
              "      <td>0</td>\n",
              "      <td>0</td>\n",
              "      <td>0</td>\n",
              "      <td>0</td>\n",
              "      <td>0</td>\n",
              "      <td>0</td>\n",
              "      <td>0</td>\n",
              "      <td>0</td>\n",
              "      <td>1</td>\n",
              "      <td>0</td>\n",
              "      <td>0</td>\n",
              "      <td>0</td>\n",
              "      <td>0</td>\n",
              "      <td>0</td>\n",
              "      <td>0</td>\n",
              "      <td>0</td>\n",
              "      <td>0</td>\n",
              "      <td>0</td>\n",
              "      <td>0</td>\n",
              "      <td>0</td>\n",
              "      <td>5</td>\n",
              "    </tr>\n",
              "    <tr>\n",
              "      <th>2</th>\n",
              "      <td>2804</td>\n",
              "      <td>139</td>\n",
              "      <td>9</td>\n",
              "      <td>268</td>\n",
              "      <td>65</td>\n",
              "      <td>3180</td>\n",
              "      <td>234</td>\n",
              "      <td>238</td>\n",
              "      <td>135</td>\n",
              "      <td>6121</td>\n",
              "      <td>1</td>\n",
              "      <td>0</td>\n",
              "      <td>0</td>\n",
              "      <td>0</td>\n",
              "      <td>0</td>\n",
              "      <td>0</td>\n",
              "      <td>0</td>\n",
              "      <td>0</td>\n",
              "      <td>0</td>\n",
              "      <td>0</td>\n",
              "      <td>0</td>\n",
              "      <td>0</td>\n",
              "      <td>0</td>\n",
              "      <td>0</td>\n",
              "      <td>0</td>\n",
              "      <td>1</td>\n",
              "      <td>0</td>\n",
              "      <td>0</td>\n",
              "      <td>0</td>\n",
              "      <td>0</td>\n",
              "      <td>0</td>\n",
              "      <td>0</td>\n",
              "      <td>0</td>\n",
              "      <td>0</td>\n",
              "      <td>0</td>\n",
              "      <td>0</td>\n",
              "      <td>0</td>\n",
              "      <td>0</td>\n",
              "      <td>0</td>\n",
              "      <td>0</td>\n",
              "      <td>0</td>\n",
              "      <td>0</td>\n",
              "      <td>0</td>\n",
              "      <td>0</td>\n",
              "      <td>0</td>\n",
              "      <td>0</td>\n",
              "      <td>0</td>\n",
              "      <td>0</td>\n",
              "      <td>0</td>\n",
              "      <td>0</td>\n",
              "      <td>0</td>\n",
              "      <td>0</td>\n",
              "      <td>0</td>\n",
              "      <td>0</td>\n",
              "      <td>2</td>\n",
              "    </tr>\n",
              "    <tr>\n",
              "      <th>3</th>\n",
              "      <td>2785</td>\n",
              "      <td>155</td>\n",
              "      <td>18</td>\n",
              "      <td>242</td>\n",
              "      <td>118</td>\n",
              "      <td>3090</td>\n",
              "      <td>238</td>\n",
              "      <td>238</td>\n",
              "      <td>122</td>\n",
              "      <td>6211</td>\n",
              "      <td>1</td>\n",
              "      <td>0</td>\n",
              "      <td>0</td>\n",
              "      <td>0</td>\n",
              "      <td>0</td>\n",
              "      <td>0</td>\n",
              "      <td>0</td>\n",
              "      <td>0</td>\n",
              "      <td>0</td>\n",
              "      <td>0</td>\n",
              "      <td>0</td>\n",
              "      <td>0</td>\n",
              "      <td>0</td>\n",
              "      <td>0</td>\n",
              "      <td>0</td>\n",
              "      <td>0</td>\n",
              "      <td>0</td>\n",
              "      <td>0</td>\n",
              "      <td>0</td>\n",
              "      <td>0</td>\n",
              "      <td>0</td>\n",
              "      <td>0</td>\n",
              "      <td>0</td>\n",
              "      <td>0</td>\n",
              "      <td>0</td>\n",
              "      <td>0</td>\n",
              "      <td>0</td>\n",
              "      <td>0</td>\n",
              "      <td>0</td>\n",
              "      <td>0</td>\n",
              "      <td>0</td>\n",
              "      <td>0</td>\n",
              "      <td>0</td>\n",
              "      <td>1</td>\n",
              "      <td>0</td>\n",
              "      <td>0</td>\n",
              "      <td>0</td>\n",
              "      <td>0</td>\n",
              "      <td>0</td>\n",
              "      <td>0</td>\n",
              "      <td>0</td>\n",
              "      <td>0</td>\n",
              "      <td>0</td>\n",
              "      <td>0</td>\n",
              "      <td>2</td>\n",
              "    </tr>\n",
              "    <tr>\n",
              "      <th>4</th>\n",
              "      <td>2595</td>\n",
              "      <td>45</td>\n",
              "      <td>2</td>\n",
              "      <td>153</td>\n",
              "      <td>-1</td>\n",
              "      <td>391</td>\n",
              "      <td>220</td>\n",
              "      <td>234</td>\n",
              "      <td>150</td>\n",
              "      <td>6172</td>\n",
              "      <td>1</td>\n",
              "      <td>0</td>\n",
              "      <td>0</td>\n",
              "      <td>0</td>\n",
              "      <td>0</td>\n",
              "      <td>0</td>\n",
              "      <td>0</td>\n",
              "      <td>0</td>\n",
              "      <td>0</td>\n",
              "      <td>0</td>\n",
              "      <td>0</td>\n",
              "      <td>0</td>\n",
              "      <td>0</td>\n",
              "      <td>0</td>\n",
              "      <td>0</td>\n",
              "      <td>0</td>\n",
              "      <td>0</td>\n",
              "      <td>0</td>\n",
              "      <td>0</td>\n",
              "      <td>0</td>\n",
              "      <td>0</td>\n",
              "      <td>0</td>\n",
              "      <td>0</td>\n",
              "      <td>0</td>\n",
              "      <td>0</td>\n",
              "      <td>0</td>\n",
              "      <td>0</td>\n",
              "      <td>0</td>\n",
              "      <td>0</td>\n",
              "      <td>0</td>\n",
              "      <td>0</td>\n",
              "      <td>0</td>\n",
              "      <td>1</td>\n",
              "      <td>0</td>\n",
              "      <td>0</td>\n",
              "      <td>0</td>\n",
              "      <td>0</td>\n",
              "      <td>0</td>\n",
              "      <td>0</td>\n",
              "      <td>0</td>\n",
              "      <td>0</td>\n",
              "      <td>0</td>\n",
              "      <td>0</td>\n",
              "      <td>0</td>\n",
              "      <td>5</td>\n",
              "    </tr>\n",
              "  </tbody>\n",
              "</table>\n",
              "</div>"
            ],
            "text/plain": [
              "     0    1   2    3    4     5    6    7   ...  47  48  49  50  51  52  53  54\n",
              "0  2596   51   3  258    0   510  221  232  ...   0   0   0   0   0   0   0   5\n",
              "1  2590   56   2  212   -6   390  220  235  ...   0   0   0   0   0   0   0   5\n",
              "2  2804  139   9  268   65  3180  234  238  ...   0   0   0   0   0   0   0   2\n",
              "3  2785  155  18  242  118  3090  238  238  ...   0   0   0   0   0   0   0   2\n",
              "4  2595   45   2  153   -1   391  220  234  ...   0   0   0   0   0   0   0   5\n",
              "\n",
              "[5 rows x 55 columns]"
            ]
          },
          "metadata": {
            "tags": []
          },
          "execution_count": 17
        }
      ]
    },
    {
      "cell_type": "markdown",
      "metadata": {
        "id": "nk5DpMdl_1qV"
      },
      "source": [
        "Separting target feature"
      ]
    },
    {
      "cell_type": "code",
      "metadata": {
        "id": "onEYLGF5_8nL"
      },
      "source": [
        "covtype_X, covtype_Y = covtype_data.iloc[:, 0:54], covtype_data.iloc[:, 54]"
      ],
      "execution_count": 18,
      "outputs": []
    },
    {
      "cell_type": "markdown",
      "metadata": {
        "id": "EYCAtoltFHaI"
      },
      "source": [
        "#### Data Preprocessing"
      ]
    },
    {
      "cell_type": "code",
      "metadata": {
        "id": "oFBKvWE4FP02"
      },
      "source": [
        "from sklearn import preprocessing"
      ],
      "execution_count": 19,
      "outputs": []
    },
    {
      "cell_type": "markdown",
      "metadata": {
        "id": "mUgpG7v2FIQu"
      },
      "source": [
        "##### 1) Rescaling (min-max)"
      ]
    },
    {
      "cell_type": "code",
      "metadata": {
        "colab": {
          "base_uri": "https://localhost:8080/",
          "height": 214
        },
        "id": "pZCjAP5XG0U3",
        "outputId": "88912a02-c757-4488-b6ad-328049054152"
      },
      "source": [
        "min_max_scaler = preprocessing.MinMaxScaler()\n",
        "covtype_X_rescaled = pd.DataFrame(min_max_scaler.fit_transform(covtype_X))\n",
        "covtype_X_rescaled.head()"
      ],
      "execution_count": 20,
      "outputs": [
        {
          "output_type": "execute_result",
          "data": {
            "text/html": [
              "<div>\n",
              "<style scoped>\n",
              "    .dataframe tbody tr th:only-of-type {\n",
              "        vertical-align: middle;\n",
              "    }\n",
              "\n",
              "    .dataframe tbody tr th {\n",
              "        vertical-align: top;\n",
              "    }\n",
              "\n",
              "    .dataframe thead th {\n",
              "        text-align: right;\n",
              "    }\n",
              "</style>\n",
              "<table border=\"1\" class=\"dataframe\">\n",
              "  <thead>\n",
              "    <tr style=\"text-align: right;\">\n",
              "      <th></th>\n",
              "      <th>0</th>\n",
              "      <th>1</th>\n",
              "      <th>2</th>\n",
              "      <th>3</th>\n",
              "      <th>4</th>\n",
              "      <th>5</th>\n",
              "      <th>6</th>\n",
              "      <th>7</th>\n",
              "      <th>8</th>\n",
              "      <th>9</th>\n",
              "      <th>10</th>\n",
              "      <th>11</th>\n",
              "      <th>12</th>\n",
              "      <th>13</th>\n",
              "      <th>14</th>\n",
              "      <th>15</th>\n",
              "      <th>16</th>\n",
              "      <th>17</th>\n",
              "      <th>18</th>\n",
              "      <th>19</th>\n",
              "      <th>20</th>\n",
              "      <th>21</th>\n",
              "      <th>22</th>\n",
              "      <th>23</th>\n",
              "      <th>24</th>\n",
              "      <th>25</th>\n",
              "      <th>26</th>\n",
              "      <th>27</th>\n",
              "      <th>28</th>\n",
              "      <th>29</th>\n",
              "      <th>30</th>\n",
              "      <th>31</th>\n",
              "      <th>32</th>\n",
              "      <th>33</th>\n",
              "      <th>34</th>\n",
              "      <th>35</th>\n",
              "      <th>36</th>\n",
              "      <th>37</th>\n",
              "      <th>38</th>\n",
              "      <th>39</th>\n",
              "      <th>40</th>\n",
              "      <th>41</th>\n",
              "      <th>42</th>\n",
              "      <th>43</th>\n",
              "      <th>44</th>\n",
              "      <th>45</th>\n",
              "      <th>46</th>\n",
              "      <th>47</th>\n",
              "      <th>48</th>\n",
              "      <th>49</th>\n",
              "      <th>50</th>\n",
              "      <th>51</th>\n",
              "      <th>52</th>\n",
              "      <th>53</th>\n",
              "    </tr>\n",
              "  </thead>\n",
              "  <tbody>\n",
              "    <tr>\n",
              "      <th>0</th>\n",
              "      <td>0.368684</td>\n",
              "      <td>0.141667</td>\n",
              "      <td>0.045455</td>\n",
              "      <td>0.184681</td>\n",
              "      <td>0.223514</td>\n",
              "      <td>0.071659</td>\n",
              "      <td>0.870079</td>\n",
              "      <td>0.913386</td>\n",
              "      <td>0.582677</td>\n",
              "      <td>0.875366</td>\n",
              "      <td>1.0</td>\n",
              "      <td>0.0</td>\n",
              "      <td>0.0</td>\n",
              "      <td>0.0</td>\n",
              "      <td>0.0</td>\n",
              "      <td>0.0</td>\n",
              "      <td>0.0</td>\n",
              "      <td>0.0</td>\n",
              "      <td>0.0</td>\n",
              "      <td>0.0</td>\n",
              "      <td>0.0</td>\n",
              "      <td>0.0</td>\n",
              "      <td>0.0</td>\n",
              "      <td>0.0</td>\n",
              "      <td>0.0</td>\n",
              "      <td>0.0</td>\n",
              "      <td>0.0</td>\n",
              "      <td>0.0</td>\n",
              "      <td>0.0</td>\n",
              "      <td>0.0</td>\n",
              "      <td>0.0</td>\n",
              "      <td>0.0</td>\n",
              "      <td>0.0</td>\n",
              "      <td>0.0</td>\n",
              "      <td>0.0</td>\n",
              "      <td>0.0</td>\n",
              "      <td>0.0</td>\n",
              "      <td>0.0</td>\n",
              "      <td>0.0</td>\n",
              "      <td>0.0</td>\n",
              "      <td>0.0</td>\n",
              "      <td>0.0</td>\n",
              "      <td>1.0</td>\n",
              "      <td>0.0</td>\n",
              "      <td>0.0</td>\n",
              "      <td>0.0</td>\n",
              "      <td>0.0</td>\n",
              "      <td>0.0</td>\n",
              "      <td>0.0</td>\n",
              "      <td>0.0</td>\n",
              "      <td>0.0</td>\n",
              "      <td>0.0</td>\n",
              "      <td>0.0</td>\n",
              "      <td>0.0</td>\n",
              "    </tr>\n",
              "    <tr>\n",
              "      <th>1</th>\n",
              "      <td>0.365683</td>\n",
              "      <td>0.155556</td>\n",
              "      <td>0.030303</td>\n",
              "      <td>0.151754</td>\n",
              "      <td>0.215762</td>\n",
              "      <td>0.054798</td>\n",
              "      <td>0.866142</td>\n",
              "      <td>0.925197</td>\n",
              "      <td>0.594488</td>\n",
              "      <td>0.867838</td>\n",
              "      <td>1.0</td>\n",
              "      <td>0.0</td>\n",
              "      <td>0.0</td>\n",
              "      <td>0.0</td>\n",
              "      <td>0.0</td>\n",
              "      <td>0.0</td>\n",
              "      <td>0.0</td>\n",
              "      <td>0.0</td>\n",
              "      <td>0.0</td>\n",
              "      <td>0.0</td>\n",
              "      <td>0.0</td>\n",
              "      <td>0.0</td>\n",
              "      <td>0.0</td>\n",
              "      <td>0.0</td>\n",
              "      <td>0.0</td>\n",
              "      <td>0.0</td>\n",
              "      <td>0.0</td>\n",
              "      <td>0.0</td>\n",
              "      <td>0.0</td>\n",
              "      <td>0.0</td>\n",
              "      <td>0.0</td>\n",
              "      <td>0.0</td>\n",
              "      <td>0.0</td>\n",
              "      <td>0.0</td>\n",
              "      <td>0.0</td>\n",
              "      <td>0.0</td>\n",
              "      <td>0.0</td>\n",
              "      <td>0.0</td>\n",
              "      <td>0.0</td>\n",
              "      <td>0.0</td>\n",
              "      <td>0.0</td>\n",
              "      <td>0.0</td>\n",
              "      <td>1.0</td>\n",
              "      <td>0.0</td>\n",
              "      <td>0.0</td>\n",
              "      <td>0.0</td>\n",
              "      <td>0.0</td>\n",
              "      <td>0.0</td>\n",
              "      <td>0.0</td>\n",
              "      <td>0.0</td>\n",
              "      <td>0.0</td>\n",
              "      <td>0.0</td>\n",
              "      <td>0.0</td>\n",
              "      <td>0.0</td>\n",
              "    </tr>\n",
              "    <tr>\n",
              "      <th>2</th>\n",
              "      <td>0.472736</td>\n",
              "      <td>0.386111</td>\n",
              "      <td>0.136364</td>\n",
              "      <td>0.191840</td>\n",
              "      <td>0.307494</td>\n",
              "      <td>0.446817</td>\n",
              "      <td>0.921260</td>\n",
              "      <td>0.937008</td>\n",
              "      <td>0.531496</td>\n",
              "      <td>0.853339</td>\n",
              "      <td>1.0</td>\n",
              "      <td>0.0</td>\n",
              "      <td>0.0</td>\n",
              "      <td>0.0</td>\n",
              "      <td>0.0</td>\n",
              "      <td>0.0</td>\n",
              "      <td>0.0</td>\n",
              "      <td>0.0</td>\n",
              "      <td>0.0</td>\n",
              "      <td>0.0</td>\n",
              "      <td>0.0</td>\n",
              "      <td>0.0</td>\n",
              "      <td>0.0</td>\n",
              "      <td>0.0</td>\n",
              "      <td>0.0</td>\n",
              "      <td>1.0</td>\n",
              "      <td>0.0</td>\n",
              "      <td>0.0</td>\n",
              "      <td>0.0</td>\n",
              "      <td>0.0</td>\n",
              "      <td>0.0</td>\n",
              "      <td>0.0</td>\n",
              "      <td>0.0</td>\n",
              "      <td>0.0</td>\n",
              "      <td>0.0</td>\n",
              "      <td>0.0</td>\n",
              "      <td>0.0</td>\n",
              "      <td>0.0</td>\n",
              "      <td>0.0</td>\n",
              "      <td>0.0</td>\n",
              "      <td>0.0</td>\n",
              "      <td>0.0</td>\n",
              "      <td>0.0</td>\n",
              "      <td>0.0</td>\n",
              "      <td>0.0</td>\n",
              "      <td>0.0</td>\n",
              "      <td>0.0</td>\n",
              "      <td>0.0</td>\n",
              "      <td>0.0</td>\n",
              "      <td>0.0</td>\n",
              "      <td>0.0</td>\n",
              "      <td>0.0</td>\n",
              "      <td>0.0</td>\n",
              "      <td>0.0</td>\n",
              "    </tr>\n",
              "    <tr>\n",
              "      <th>3</th>\n",
              "      <td>0.463232</td>\n",
              "      <td>0.430556</td>\n",
              "      <td>0.272727</td>\n",
              "      <td>0.173228</td>\n",
              "      <td>0.375969</td>\n",
              "      <td>0.434172</td>\n",
              "      <td>0.937008</td>\n",
              "      <td>0.937008</td>\n",
              "      <td>0.480315</td>\n",
              "      <td>0.865886</td>\n",
              "      <td>1.0</td>\n",
              "      <td>0.0</td>\n",
              "      <td>0.0</td>\n",
              "      <td>0.0</td>\n",
              "      <td>0.0</td>\n",
              "      <td>0.0</td>\n",
              "      <td>0.0</td>\n",
              "      <td>0.0</td>\n",
              "      <td>0.0</td>\n",
              "      <td>0.0</td>\n",
              "      <td>0.0</td>\n",
              "      <td>0.0</td>\n",
              "      <td>0.0</td>\n",
              "      <td>0.0</td>\n",
              "      <td>0.0</td>\n",
              "      <td>0.0</td>\n",
              "      <td>0.0</td>\n",
              "      <td>0.0</td>\n",
              "      <td>0.0</td>\n",
              "      <td>0.0</td>\n",
              "      <td>0.0</td>\n",
              "      <td>0.0</td>\n",
              "      <td>0.0</td>\n",
              "      <td>0.0</td>\n",
              "      <td>0.0</td>\n",
              "      <td>0.0</td>\n",
              "      <td>0.0</td>\n",
              "      <td>0.0</td>\n",
              "      <td>0.0</td>\n",
              "      <td>0.0</td>\n",
              "      <td>0.0</td>\n",
              "      <td>0.0</td>\n",
              "      <td>0.0</td>\n",
              "      <td>1.0</td>\n",
              "      <td>0.0</td>\n",
              "      <td>0.0</td>\n",
              "      <td>0.0</td>\n",
              "      <td>0.0</td>\n",
              "      <td>0.0</td>\n",
              "      <td>0.0</td>\n",
              "      <td>0.0</td>\n",
              "      <td>0.0</td>\n",
              "      <td>0.0</td>\n",
              "      <td>0.0</td>\n",
              "    </tr>\n",
              "    <tr>\n",
              "      <th>4</th>\n",
              "      <td>0.368184</td>\n",
              "      <td>0.125000</td>\n",
              "      <td>0.030303</td>\n",
              "      <td>0.109520</td>\n",
              "      <td>0.222222</td>\n",
              "      <td>0.054939</td>\n",
              "      <td>0.866142</td>\n",
              "      <td>0.921260</td>\n",
              "      <td>0.590551</td>\n",
              "      <td>0.860449</td>\n",
              "      <td>1.0</td>\n",
              "      <td>0.0</td>\n",
              "      <td>0.0</td>\n",
              "      <td>0.0</td>\n",
              "      <td>0.0</td>\n",
              "      <td>0.0</td>\n",
              "      <td>0.0</td>\n",
              "      <td>0.0</td>\n",
              "      <td>0.0</td>\n",
              "      <td>0.0</td>\n",
              "      <td>0.0</td>\n",
              "      <td>0.0</td>\n",
              "      <td>0.0</td>\n",
              "      <td>0.0</td>\n",
              "      <td>0.0</td>\n",
              "      <td>0.0</td>\n",
              "      <td>0.0</td>\n",
              "      <td>0.0</td>\n",
              "      <td>0.0</td>\n",
              "      <td>0.0</td>\n",
              "      <td>0.0</td>\n",
              "      <td>0.0</td>\n",
              "      <td>0.0</td>\n",
              "      <td>0.0</td>\n",
              "      <td>0.0</td>\n",
              "      <td>0.0</td>\n",
              "      <td>0.0</td>\n",
              "      <td>0.0</td>\n",
              "      <td>0.0</td>\n",
              "      <td>0.0</td>\n",
              "      <td>0.0</td>\n",
              "      <td>0.0</td>\n",
              "      <td>1.0</td>\n",
              "      <td>0.0</td>\n",
              "      <td>0.0</td>\n",
              "      <td>0.0</td>\n",
              "      <td>0.0</td>\n",
              "      <td>0.0</td>\n",
              "      <td>0.0</td>\n",
              "      <td>0.0</td>\n",
              "      <td>0.0</td>\n",
              "      <td>0.0</td>\n",
              "      <td>0.0</td>\n",
              "      <td>0.0</td>\n",
              "    </tr>\n",
              "  </tbody>\n",
              "</table>\n",
              "</div>"
            ],
            "text/plain": [
              "         0         1         2         3         4   ...   49   50   51   52   53\n",
              "0  0.368684  0.141667  0.045455  0.184681  0.223514  ...  0.0  0.0  0.0  0.0  0.0\n",
              "1  0.365683  0.155556  0.030303  0.151754  0.215762  ...  0.0  0.0  0.0  0.0  0.0\n",
              "2  0.472736  0.386111  0.136364  0.191840  0.307494  ...  0.0  0.0  0.0  0.0  0.0\n",
              "3  0.463232  0.430556  0.272727  0.173228  0.375969  ...  0.0  0.0  0.0  0.0  0.0\n",
              "4  0.368184  0.125000  0.030303  0.109520  0.222222  ...  0.0  0.0  0.0  0.0  0.0\n",
              "\n",
              "[5 rows x 54 columns]"
            ]
          },
          "metadata": {
            "tags": []
          },
          "execution_count": 20
        }
      ]
    },
    {
      "cell_type": "markdown",
      "metadata": {
        "id": "chT5-KBqHZxo"
      },
      "source": [
        "##### 2) Standardization"
      ]
    },
    {
      "cell_type": "code",
      "metadata": {
        "colab": {
          "base_uri": "https://localhost:8080/",
          "height": 214
        },
        "id": "Q6kHIr7iH4Ky",
        "outputId": "24f17b04-edc5-4195-db87-89bb9fe6395d"
      },
      "source": [
        "scaler = preprocessing.StandardScaler().fit(covtype_X)\n",
        "covtype_X_standardized = pd.DataFrame(scaler.transform(covtype_X))\n",
        "covtype_X_standardized.head()"
      ],
      "execution_count": 21,
      "outputs": [
        {
          "output_type": "execute_result",
          "data": {
            "text/html": [
              "<div>\n",
              "<style scoped>\n",
              "    .dataframe tbody tr th:only-of-type {\n",
              "        vertical-align: middle;\n",
              "    }\n",
              "\n",
              "    .dataframe tbody tr th {\n",
              "        vertical-align: top;\n",
              "    }\n",
              "\n",
              "    .dataframe thead th {\n",
              "        text-align: right;\n",
              "    }\n",
              "</style>\n",
              "<table border=\"1\" class=\"dataframe\">\n",
              "  <thead>\n",
              "    <tr style=\"text-align: right;\">\n",
              "      <th></th>\n",
              "      <th>0</th>\n",
              "      <th>1</th>\n",
              "      <th>2</th>\n",
              "      <th>3</th>\n",
              "      <th>4</th>\n",
              "      <th>5</th>\n",
              "      <th>6</th>\n",
              "      <th>7</th>\n",
              "      <th>8</th>\n",
              "      <th>9</th>\n",
              "      <th>10</th>\n",
              "      <th>11</th>\n",
              "      <th>12</th>\n",
              "      <th>13</th>\n",
              "      <th>14</th>\n",
              "      <th>15</th>\n",
              "      <th>16</th>\n",
              "      <th>17</th>\n",
              "      <th>18</th>\n",
              "      <th>19</th>\n",
              "      <th>20</th>\n",
              "      <th>21</th>\n",
              "      <th>22</th>\n",
              "      <th>23</th>\n",
              "      <th>24</th>\n",
              "      <th>25</th>\n",
              "      <th>26</th>\n",
              "      <th>27</th>\n",
              "      <th>28</th>\n",
              "      <th>29</th>\n",
              "      <th>30</th>\n",
              "      <th>31</th>\n",
              "      <th>32</th>\n",
              "      <th>33</th>\n",
              "      <th>34</th>\n",
              "      <th>35</th>\n",
              "      <th>36</th>\n",
              "      <th>37</th>\n",
              "      <th>38</th>\n",
              "      <th>39</th>\n",
              "      <th>40</th>\n",
              "      <th>41</th>\n",
              "      <th>42</th>\n",
              "      <th>43</th>\n",
              "      <th>44</th>\n",
              "      <th>45</th>\n",
              "      <th>46</th>\n",
              "      <th>47</th>\n",
              "      <th>48</th>\n",
              "      <th>49</th>\n",
              "      <th>50</th>\n",
              "      <th>51</th>\n",
              "      <th>52</th>\n",
              "      <th>53</th>\n",
              "    </tr>\n",
              "  </thead>\n",
              "  <tbody>\n",
              "    <tr>\n",
              "      <th>0</th>\n",
              "      <td>-1.297805</td>\n",
              "      <td>-0.935157</td>\n",
              "      <td>-1.482820</td>\n",
              "      <td>-0.053767</td>\n",
              "      <td>-0.796273</td>\n",
              "      <td>-1.180146</td>\n",
              "      <td>0.330743</td>\n",
              "      <td>0.439143</td>\n",
              "      <td>0.142960</td>\n",
              "      <td>3.246283</td>\n",
              "      <td>1.10808</td>\n",
              "      <td>-0.232859</td>\n",
              "      <td>-0.879364</td>\n",
              "      <td>-0.260673</td>\n",
              "      <td>-0.072416</td>\n",
              "      <td>-0.114549</td>\n",
              "      <td>-0.091491</td>\n",
              "      <td>-0.147649</td>\n",
              "      <td>-0.0525</td>\n",
              "      <td>-0.106986</td>\n",
              "      <td>-0.013444</td>\n",
              "      <td>-0.017555</td>\n",
              "      <td>-0.044475</td>\n",
              "      <td>-0.243947</td>\n",
              "      <td>-0.147734</td>\n",
              "      <td>-0.233216</td>\n",
              "      <td>-0.175866</td>\n",
              "      <td>-0.032125</td>\n",
              "      <td>-0.002272</td>\n",
              "      <td>-0.070148</td>\n",
              "      <td>-0.076972</td>\n",
              "      <td>-0.057264</td>\n",
              "      <td>-0.08348</td>\n",
              "      <td>-0.127256</td>\n",
              "      <td>-0.038005</td>\n",
              "      <td>-0.24686</td>\n",
              "      <td>-0.332219</td>\n",
              "      <td>-0.194973</td>\n",
              "      <td>-0.028574</td>\n",
              "      <td>-0.066903</td>\n",
              "      <td>-0.043274</td>\n",
              "      <td>-0.040384</td>\n",
              "      <td>2.010336</td>\n",
              "      <td>-0.234031</td>\n",
              "      <td>-0.21498</td>\n",
              "      <td>-0.315238</td>\n",
              "      <td>-0.290284</td>\n",
              "      <td>-0.05273</td>\n",
              "      <td>-0.057143</td>\n",
              "      <td>-0.014313</td>\n",
              "      <td>-0.022653</td>\n",
              "      <td>-0.165956</td>\n",
              "      <td>-0.156014</td>\n",
              "      <td>-0.123654</td>\n",
              "    </tr>\n",
              "    <tr>\n",
              "      <th>1</th>\n",
              "      <td>-1.319235</td>\n",
              "      <td>-0.890480</td>\n",
              "      <td>-1.616363</td>\n",
              "      <td>-0.270188</td>\n",
              "      <td>-0.899197</td>\n",
              "      <td>-1.257106</td>\n",
              "      <td>0.293388</td>\n",
              "      <td>0.590899</td>\n",
              "      <td>0.221342</td>\n",
              "      <td>3.205504</td>\n",
              "      <td>1.10808</td>\n",
              "      <td>-0.232859</td>\n",
              "      <td>-0.879364</td>\n",
              "      <td>-0.260673</td>\n",
              "      <td>-0.072416</td>\n",
              "      <td>-0.114549</td>\n",
              "      <td>-0.091491</td>\n",
              "      <td>-0.147649</td>\n",
              "      <td>-0.0525</td>\n",
              "      <td>-0.106986</td>\n",
              "      <td>-0.013444</td>\n",
              "      <td>-0.017555</td>\n",
              "      <td>-0.044475</td>\n",
              "      <td>-0.243947</td>\n",
              "      <td>-0.147734</td>\n",
              "      <td>-0.233216</td>\n",
              "      <td>-0.175866</td>\n",
              "      <td>-0.032125</td>\n",
              "      <td>-0.002272</td>\n",
              "      <td>-0.070148</td>\n",
              "      <td>-0.076972</td>\n",
              "      <td>-0.057264</td>\n",
              "      <td>-0.08348</td>\n",
              "      <td>-0.127256</td>\n",
              "      <td>-0.038005</td>\n",
              "      <td>-0.24686</td>\n",
              "      <td>-0.332219</td>\n",
              "      <td>-0.194973</td>\n",
              "      <td>-0.028574</td>\n",
              "      <td>-0.066903</td>\n",
              "      <td>-0.043274</td>\n",
              "      <td>-0.040384</td>\n",
              "      <td>2.010336</td>\n",
              "      <td>-0.234031</td>\n",
              "      <td>-0.21498</td>\n",
              "      <td>-0.315238</td>\n",
              "      <td>-0.290284</td>\n",
              "      <td>-0.05273</td>\n",
              "      <td>-0.057143</td>\n",
              "      <td>-0.014313</td>\n",
              "      <td>-0.022653</td>\n",
              "      <td>-0.165956</td>\n",
              "      <td>-0.156014</td>\n",
              "      <td>-0.123654</td>\n",
              "    </tr>\n",
              "    <tr>\n",
              "      <th>2</th>\n",
              "      <td>-0.554907</td>\n",
              "      <td>-0.148836</td>\n",
              "      <td>-0.681563</td>\n",
              "      <td>-0.006719</td>\n",
              "      <td>0.318742</td>\n",
              "      <td>0.532212</td>\n",
              "      <td>0.816364</td>\n",
              "      <td>0.742654</td>\n",
              "      <td>-0.196691</td>\n",
              "      <td>3.126965</td>\n",
              "      <td>1.10808</td>\n",
              "      <td>-0.232859</td>\n",
              "      <td>-0.879364</td>\n",
              "      <td>-0.260673</td>\n",
              "      <td>-0.072416</td>\n",
              "      <td>-0.114549</td>\n",
              "      <td>-0.091491</td>\n",
              "      <td>-0.147649</td>\n",
              "      <td>-0.0525</td>\n",
              "      <td>-0.106986</td>\n",
              "      <td>-0.013444</td>\n",
              "      <td>-0.017555</td>\n",
              "      <td>-0.044475</td>\n",
              "      <td>-0.243947</td>\n",
              "      <td>-0.147734</td>\n",
              "      <td>4.287867</td>\n",
              "      <td>-0.175866</td>\n",
              "      <td>-0.032125</td>\n",
              "      <td>-0.002272</td>\n",
              "      <td>-0.070148</td>\n",
              "      <td>-0.076972</td>\n",
              "      <td>-0.057264</td>\n",
              "      <td>-0.08348</td>\n",
              "      <td>-0.127256</td>\n",
              "      <td>-0.038005</td>\n",
              "      <td>-0.24686</td>\n",
              "      <td>-0.332219</td>\n",
              "      <td>-0.194973</td>\n",
              "      <td>-0.028574</td>\n",
              "      <td>-0.066903</td>\n",
              "      <td>-0.043274</td>\n",
              "      <td>-0.040384</td>\n",
              "      <td>-0.497429</td>\n",
              "      <td>-0.234031</td>\n",
              "      <td>-0.21498</td>\n",
              "      <td>-0.315238</td>\n",
              "      <td>-0.290284</td>\n",
              "      <td>-0.05273</td>\n",
              "      <td>-0.057143</td>\n",
              "      <td>-0.014313</td>\n",
              "      <td>-0.022653</td>\n",
              "      <td>-0.165956</td>\n",
              "      <td>-0.156014</td>\n",
              "      <td>-0.123654</td>\n",
              "    </tr>\n",
              "    <tr>\n",
              "      <th>3</th>\n",
              "      <td>-0.622768</td>\n",
              "      <td>-0.005869</td>\n",
              "      <td>0.520322</td>\n",
              "      <td>-0.129044</td>\n",
              "      <td>1.227908</td>\n",
              "      <td>0.474492</td>\n",
              "      <td>0.965786</td>\n",
              "      <td>0.742654</td>\n",
              "      <td>-0.536343</td>\n",
              "      <td>3.194931</td>\n",
              "      <td>1.10808</td>\n",
              "      <td>-0.232859</td>\n",
              "      <td>-0.879364</td>\n",
              "      <td>-0.260673</td>\n",
              "      <td>-0.072416</td>\n",
              "      <td>-0.114549</td>\n",
              "      <td>-0.091491</td>\n",
              "      <td>-0.147649</td>\n",
              "      <td>-0.0525</td>\n",
              "      <td>-0.106986</td>\n",
              "      <td>-0.013444</td>\n",
              "      <td>-0.017555</td>\n",
              "      <td>-0.044475</td>\n",
              "      <td>-0.243947</td>\n",
              "      <td>-0.147734</td>\n",
              "      <td>-0.233216</td>\n",
              "      <td>-0.175866</td>\n",
              "      <td>-0.032125</td>\n",
              "      <td>-0.002272</td>\n",
              "      <td>-0.070148</td>\n",
              "      <td>-0.076972</td>\n",
              "      <td>-0.057264</td>\n",
              "      <td>-0.08348</td>\n",
              "      <td>-0.127256</td>\n",
              "      <td>-0.038005</td>\n",
              "      <td>-0.24686</td>\n",
              "      <td>-0.332219</td>\n",
              "      <td>-0.194973</td>\n",
              "      <td>-0.028574</td>\n",
              "      <td>-0.066903</td>\n",
              "      <td>-0.043274</td>\n",
              "      <td>-0.040384</td>\n",
              "      <td>-0.497429</td>\n",
              "      <td>4.272931</td>\n",
              "      <td>-0.21498</td>\n",
              "      <td>-0.315238</td>\n",
              "      <td>-0.290284</td>\n",
              "      <td>-0.05273</td>\n",
              "      <td>-0.057143</td>\n",
              "      <td>-0.014313</td>\n",
              "      <td>-0.022653</td>\n",
              "      <td>-0.165956</td>\n",
              "      <td>-0.156014</td>\n",
              "      <td>-0.123654</td>\n",
              "    </tr>\n",
              "    <tr>\n",
              "      <th>4</th>\n",
              "      <td>-1.301377</td>\n",
              "      <td>-0.988770</td>\n",
              "      <td>-1.616363</td>\n",
              "      <td>-0.547771</td>\n",
              "      <td>-0.813427</td>\n",
              "      <td>-1.256464</td>\n",
              "      <td>0.293388</td>\n",
              "      <td>0.540313</td>\n",
              "      <td>0.195215</td>\n",
              "      <td>3.165479</td>\n",
              "      <td>1.10808</td>\n",
              "      <td>-0.232859</td>\n",
              "      <td>-0.879364</td>\n",
              "      <td>-0.260673</td>\n",
              "      <td>-0.072416</td>\n",
              "      <td>-0.114549</td>\n",
              "      <td>-0.091491</td>\n",
              "      <td>-0.147649</td>\n",
              "      <td>-0.0525</td>\n",
              "      <td>-0.106986</td>\n",
              "      <td>-0.013444</td>\n",
              "      <td>-0.017555</td>\n",
              "      <td>-0.044475</td>\n",
              "      <td>-0.243947</td>\n",
              "      <td>-0.147734</td>\n",
              "      <td>-0.233216</td>\n",
              "      <td>-0.175866</td>\n",
              "      <td>-0.032125</td>\n",
              "      <td>-0.002272</td>\n",
              "      <td>-0.070148</td>\n",
              "      <td>-0.076972</td>\n",
              "      <td>-0.057264</td>\n",
              "      <td>-0.08348</td>\n",
              "      <td>-0.127256</td>\n",
              "      <td>-0.038005</td>\n",
              "      <td>-0.24686</td>\n",
              "      <td>-0.332219</td>\n",
              "      <td>-0.194973</td>\n",
              "      <td>-0.028574</td>\n",
              "      <td>-0.066903</td>\n",
              "      <td>-0.043274</td>\n",
              "      <td>-0.040384</td>\n",
              "      <td>2.010336</td>\n",
              "      <td>-0.234031</td>\n",
              "      <td>-0.21498</td>\n",
              "      <td>-0.315238</td>\n",
              "      <td>-0.290284</td>\n",
              "      <td>-0.05273</td>\n",
              "      <td>-0.057143</td>\n",
              "      <td>-0.014313</td>\n",
              "      <td>-0.022653</td>\n",
              "      <td>-0.165956</td>\n",
              "      <td>-0.156014</td>\n",
              "      <td>-0.123654</td>\n",
              "    </tr>\n",
              "  </tbody>\n",
              "</table>\n",
              "</div>"
            ],
            "text/plain": [
              "         0         1         2   ...        51        52        53\n",
              "0 -1.297805 -0.935157 -1.482820  ... -0.165956 -0.156014 -0.123654\n",
              "1 -1.319235 -0.890480 -1.616363  ... -0.165956 -0.156014 -0.123654\n",
              "2 -0.554907 -0.148836 -0.681563  ... -0.165956 -0.156014 -0.123654\n",
              "3 -0.622768 -0.005869  0.520322  ... -0.165956 -0.156014 -0.123654\n",
              "4 -1.301377 -0.988770 -1.616363  ... -0.165956 -0.156014 -0.123654\n",
              "\n",
              "[5 rows x 54 columns]"
            ]
          },
          "metadata": {
            "tags": []
          },
          "execution_count": 21
        }
      ]
    },
    {
      "cell_type": "markdown",
      "metadata": {
        "id": "95RhAdjgMp3t"
      },
      "source": [
        "##### 3) Normalization"
      ]
    },
    {
      "cell_type": "code",
      "metadata": {
        "colab": {
          "base_uri": "https://localhost:8080/",
          "height": 214
        },
        "id": "h45M5N6IMu87",
        "outputId": "91d42bc4-5955-4f88-9393-bbc803f84505"
      },
      "source": [
        "normalizer = preprocessing.Normalizer().fit(covtype_X)\n",
        "covtype_X_normalized = pd.DataFrame(normalizer.transform(covtype_X))\n",
        "covtype_X_normalized.head()"
      ],
      "execution_count": 22,
      "outputs": [
        {
          "output_type": "execute_result",
          "data": {
            "text/html": [
              "<div>\n",
              "<style scoped>\n",
              "    .dataframe tbody tr th:only-of-type {\n",
              "        vertical-align: middle;\n",
              "    }\n",
              "\n",
              "    .dataframe tbody tr th {\n",
              "        vertical-align: top;\n",
              "    }\n",
              "\n",
              "    .dataframe thead th {\n",
              "        text-align: right;\n",
              "    }\n",
              "</style>\n",
              "<table border=\"1\" class=\"dataframe\">\n",
              "  <thead>\n",
              "    <tr style=\"text-align: right;\">\n",
              "      <th></th>\n",
              "      <th>0</th>\n",
              "      <th>1</th>\n",
              "      <th>2</th>\n",
              "      <th>3</th>\n",
              "      <th>4</th>\n",
              "      <th>5</th>\n",
              "      <th>6</th>\n",
              "      <th>7</th>\n",
              "      <th>8</th>\n",
              "      <th>9</th>\n",
              "      <th>10</th>\n",
              "      <th>11</th>\n",
              "      <th>12</th>\n",
              "      <th>13</th>\n",
              "      <th>14</th>\n",
              "      <th>15</th>\n",
              "      <th>16</th>\n",
              "      <th>17</th>\n",
              "      <th>18</th>\n",
              "      <th>19</th>\n",
              "      <th>20</th>\n",
              "      <th>21</th>\n",
              "      <th>22</th>\n",
              "      <th>23</th>\n",
              "      <th>24</th>\n",
              "      <th>25</th>\n",
              "      <th>26</th>\n",
              "      <th>27</th>\n",
              "      <th>28</th>\n",
              "      <th>29</th>\n",
              "      <th>30</th>\n",
              "      <th>31</th>\n",
              "      <th>32</th>\n",
              "      <th>33</th>\n",
              "      <th>34</th>\n",
              "      <th>35</th>\n",
              "      <th>36</th>\n",
              "      <th>37</th>\n",
              "      <th>38</th>\n",
              "      <th>39</th>\n",
              "      <th>40</th>\n",
              "      <th>41</th>\n",
              "      <th>42</th>\n",
              "      <th>43</th>\n",
              "      <th>44</th>\n",
              "      <th>45</th>\n",
              "      <th>46</th>\n",
              "      <th>47</th>\n",
              "      <th>48</th>\n",
              "      <th>49</th>\n",
              "      <th>50</th>\n",
              "      <th>51</th>\n",
              "      <th>52</th>\n",
              "      <th>53</th>\n",
              "    </tr>\n",
              "  </thead>\n",
              "  <tbody>\n",
              "    <tr>\n",
              "      <th>0</th>\n",
              "      <td>0.380210</td>\n",
              "      <td>0.007469</td>\n",
              "      <td>0.000439</td>\n",
              "      <td>0.037787</td>\n",
              "      <td>0.000000</td>\n",
              "      <td>0.074695</td>\n",
              "      <td>0.032368</td>\n",
              "      <td>0.033979</td>\n",
              "      <td>0.021676</td>\n",
              "      <td>0.919622</td>\n",
              "      <td>0.000146</td>\n",
              "      <td>0.0</td>\n",
              "      <td>0.0</td>\n",
              "      <td>0.0</td>\n",
              "      <td>0.0</td>\n",
              "      <td>0.0</td>\n",
              "      <td>0.0</td>\n",
              "      <td>0.0</td>\n",
              "      <td>0.0</td>\n",
              "      <td>0.0</td>\n",
              "      <td>0.0</td>\n",
              "      <td>0.0</td>\n",
              "      <td>0.0</td>\n",
              "      <td>0.0</td>\n",
              "      <td>0.0</td>\n",
              "      <td>0.000000</td>\n",
              "      <td>0.0</td>\n",
              "      <td>0.0</td>\n",
              "      <td>0.0</td>\n",
              "      <td>0.0</td>\n",
              "      <td>0.0</td>\n",
              "      <td>0.0</td>\n",
              "      <td>0.0</td>\n",
              "      <td>0.0</td>\n",
              "      <td>0.0</td>\n",
              "      <td>0.0</td>\n",
              "      <td>0.0</td>\n",
              "      <td>0.0</td>\n",
              "      <td>0.0</td>\n",
              "      <td>0.0</td>\n",
              "      <td>0.0</td>\n",
              "      <td>0.0</td>\n",
              "      <td>0.000146</td>\n",
              "      <td>0.000000</td>\n",
              "      <td>0.0</td>\n",
              "      <td>0.0</td>\n",
              "      <td>0.0</td>\n",
              "      <td>0.0</td>\n",
              "      <td>0.0</td>\n",
              "      <td>0.0</td>\n",
              "      <td>0.0</td>\n",
              "      <td>0.0</td>\n",
              "      <td>0.0</td>\n",
              "      <td>0.0</td>\n",
              "    </tr>\n",
              "    <tr>\n",
              "      <th>1</th>\n",
              "      <td>0.382769</td>\n",
              "      <td>0.008276</td>\n",
              "      <td>0.000296</td>\n",
              "      <td>0.031331</td>\n",
              "      <td>-0.000887</td>\n",
              "      <td>0.057637</td>\n",
              "      <td>0.032513</td>\n",
              "      <td>0.034730</td>\n",
              "      <td>0.022316</td>\n",
              "      <td>0.919975</td>\n",
              "      <td>0.000148</td>\n",
              "      <td>0.0</td>\n",
              "      <td>0.0</td>\n",
              "      <td>0.0</td>\n",
              "      <td>0.0</td>\n",
              "      <td>0.0</td>\n",
              "      <td>0.0</td>\n",
              "      <td>0.0</td>\n",
              "      <td>0.0</td>\n",
              "      <td>0.0</td>\n",
              "      <td>0.0</td>\n",
              "      <td>0.0</td>\n",
              "      <td>0.0</td>\n",
              "      <td>0.0</td>\n",
              "      <td>0.0</td>\n",
              "      <td>0.000000</td>\n",
              "      <td>0.0</td>\n",
              "      <td>0.0</td>\n",
              "      <td>0.0</td>\n",
              "      <td>0.0</td>\n",
              "      <td>0.0</td>\n",
              "      <td>0.0</td>\n",
              "      <td>0.0</td>\n",
              "      <td>0.0</td>\n",
              "      <td>0.0</td>\n",
              "      <td>0.0</td>\n",
              "      <td>0.0</td>\n",
              "      <td>0.0</td>\n",
              "      <td>0.0</td>\n",
              "      <td>0.0</td>\n",
              "      <td>0.0</td>\n",
              "      <td>0.0</td>\n",
              "      <td>0.000148</td>\n",
              "      <td>0.000000</td>\n",
              "      <td>0.0</td>\n",
              "      <td>0.0</td>\n",
              "      <td>0.0</td>\n",
              "      <td>0.0</td>\n",
              "      <td>0.0</td>\n",
              "      <td>0.0</td>\n",
              "      <td>0.0</td>\n",
              "      <td>0.0</td>\n",
              "      <td>0.0</td>\n",
              "      <td>0.0</td>\n",
              "    </tr>\n",
              "    <tr>\n",
              "      <th>2</th>\n",
              "      <td>0.375821</td>\n",
              "      <td>0.018630</td>\n",
              "      <td>0.001206</td>\n",
              "      <td>0.035920</td>\n",
              "      <td>0.008712</td>\n",
              "      <td>0.426216</td>\n",
              "      <td>0.031363</td>\n",
              "      <td>0.031899</td>\n",
              "      <td>0.018094</td>\n",
              "      <td>0.820399</td>\n",
              "      <td>0.000134</td>\n",
              "      <td>0.0</td>\n",
              "      <td>0.0</td>\n",
              "      <td>0.0</td>\n",
              "      <td>0.0</td>\n",
              "      <td>0.0</td>\n",
              "      <td>0.0</td>\n",
              "      <td>0.0</td>\n",
              "      <td>0.0</td>\n",
              "      <td>0.0</td>\n",
              "      <td>0.0</td>\n",
              "      <td>0.0</td>\n",
              "      <td>0.0</td>\n",
              "      <td>0.0</td>\n",
              "      <td>0.0</td>\n",
              "      <td>0.000134</td>\n",
              "      <td>0.0</td>\n",
              "      <td>0.0</td>\n",
              "      <td>0.0</td>\n",
              "      <td>0.0</td>\n",
              "      <td>0.0</td>\n",
              "      <td>0.0</td>\n",
              "      <td>0.0</td>\n",
              "      <td>0.0</td>\n",
              "      <td>0.0</td>\n",
              "      <td>0.0</td>\n",
              "      <td>0.0</td>\n",
              "      <td>0.0</td>\n",
              "      <td>0.0</td>\n",
              "      <td>0.0</td>\n",
              "      <td>0.0</td>\n",
              "      <td>0.0</td>\n",
              "      <td>0.000000</td>\n",
              "      <td>0.000000</td>\n",
              "      <td>0.0</td>\n",
              "      <td>0.0</td>\n",
              "      <td>0.0</td>\n",
              "      <td>0.0</td>\n",
              "      <td>0.0</td>\n",
              "      <td>0.0</td>\n",
              "      <td>0.0</td>\n",
              "      <td>0.0</td>\n",
              "      <td>0.0</td>\n",
              "      <td>0.0</td>\n",
              "    </tr>\n",
              "    <tr>\n",
              "      <th>3</th>\n",
              "      <td>0.371810</td>\n",
              "      <td>0.020693</td>\n",
              "      <td>0.002403</td>\n",
              "      <td>0.032308</td>\n",
              "      <td>0.015754</td>\n",
              "      <td>0.412529</td>\n",
              "      <td>0.031774</td>\n",
              "      <td>0.031774</td>\n",
              "      <td>0.016288</td>\n",
              "      <td>0.829196</td>\n",
              "      <td>0.000134</td>\n",
              "      <td>0.0</td>\n",
              "      <td>0.0</td>\n",
              "      <td>0.0</td>\n",
              "      <td>0.0</td>\n",
              "      <td>0.0</td>\n",
              "      <td>0.0</td>\n",
              "      <td>0.0</td>\n",
              "      <td>0.0</td>\n",
              "      <td>0.0</td>\n",
              "      <td>0.0</td>\n",
              "      <td>0.0</td>\n",
              "      <td>0.0</td>\n",
              "      <td>0.0</td>\n",
              "      <td>0.0</td>\n",
              "      <td>0.000000</td>\n",
              "      <td>0.0</td>\n",
              "      <td>0.0</td>\n",
              "      <td>0.0</td>\n",
              "      <td>0.0</td>\n",
              "      <td>0.0</td>\n",
              "      <td>0.0</td>\n",
              "      <td>0.0</td>\n",
              "      <td>0.0</td>\n",
              "      <td>0.0</td>\n",
              "      <td>0.0</td>\n",
              "      <td>0.0</td>\n",
              "      <td>0.0</td>\n",
              "      <td>0.0</td>\n",
              "      <td>0.0</td>\n",
              "      <td>0.0</td>\n",
              "      <td>0.0</td>\n",
              "      <td>0.000000</td>\n",
              "      <td>0.000134</td>\n",
              "      <td>0.0</td>\n",
              "      <td>0.0</td>\n",
              "      <td>0.0</td>\n",
              "      <td>0.0</td>\n",
              "      <td>0.0</td>\n",
              "      <td>0.0</td>\n",
              "      <td>0.0</td>\n",
              "      <td>0.0</td>\n",
              "      <td>0.0</td>\n",
              "      <td>0.0</td>\n",
              "    </tr>\n",
              "    <tr>\n",
              "      <th>4</th>\n",
              "      <td>0.386275</td>\n",
              "      <td>0.006698</td>\n",
              "      <td>0.000298</td>\n",
              "      <td>0.022775</td>\n",
              "      <td>-0.000149</td>\n",
              "      <td>0.058202</td>\n",
              "      <td>0.032748</td>\n",
              "      <td>0.034832</td>\n",
              "      <td>0.022328</td>\n",
              "      <td>0.918725</td>\n",
              "      <td>0.000149</td>\n",
              "      <td>0.0</td>\n",
              "      <td>0.0</td>\n",
              "      <td>0.0</td>\n",
              "      <td>0.0</td>\n",
              "      <td>0.0</td>\n",
              "      <td>0.0</td>\n",
              "      <td>0.0</td>\n",
              "      <td>0.0</td>\n",
              "      <td>0.0</td>\n",
              "      <td>0.0</td>\n",
              "      <td>0.0</td>\n",
              "      <td>0.0</td>\n",
              "      <td>0.0</td>\n",
              "      <td>0.0</td>\n",
              "      <td>0.000000</td>\n",
              "      <td>0.0</td>\n",
              "      <td>0.0</td>\n",
              "      <td>0.0</td>\n",
              "      <td>0.0</td>\n",
              "      <td>0.0</td>\n",
              "      <td>0.0</td>\n",
              "      <td>0.0</td>\n",
              "      <td>0.0</td>\n",
              "      <td>0.0</td>\n",
              "      <td>0.0</td>\n",
              "      <td>0.0</td>\n",
              "      <td>0.0</td>\n",
              "      <td>0.0</td>\n",
              "      <td>0.0</td>\n",
              "      <td>0.0</td>\n",
              "      <td>0.0</td>\n",
              "      <td>0.000149</td>\n",
              "      <td>0.000000</td>\n",
              "      <td>0.0</td>\n",
              "      <td>0.0</td>\n",
              "      <td>0.0</td>\n",
              "      <td>0.0</td>\n",
              "      <td>0.0</td>\n",
              "      <td>0.0</td>\n",
              "      <td>0.0</td>\n",
              "      <td>0.0</td>\n",
              "      <td>0.0</td>\n",
              "      <td>0.0</td>\n",
              "    </tr>\n",
              "  </tbody>\n",
              "</table>\n",
              "</div>"
            ],
            "text/plain": [
              "         0         1         2         3         4   ...   49   50   51   52   53\n",
              "0  0.380210  0.007469  0.000439  0.037787  0.000000  ...  0.0  0.0  0.0  0.0  0.0\n",
              "1  0.382769  0.008276  0.000296  0.031331 -0.000887  ...  0.0  0.0  0.0  0.0  0.0\n",
              "2  0.375821  0.018630  0.001206  0.035920  0.008712  ...  0.0  0.0  0.0  0.0  0.0\n",
              "3  0.371810  0.020693  0.002403  0.032308  0.015754  ...  0.0  0.0  0.0  0.0  0.0\n",
              "4  0.386275  0.006698  0.000298  0.022775 -0.000149  ...  0.0  0.0  0.0  0.0  0.0\n",
              "\n",
              "[5 rows x 54 columns]"
            ]
          },
          "metadata": {
            "tags": []
          },
          "execution_count": 22
        }
      ]
    },
    {
      "cell_type": "markdown",
      "metadata": {
        "id": "bwWevUryCDF6"
      },
      "source": [
        "Preprocessing target variable, keeping 2 as positive class and for others assigning value of 0 for representing negative class."
      ]
    },
    {
      "cell_type": "code",
      "metadata": {
        "colab": {
          "base_uri": "https://localhost:8080/"
        },
        "id": "OZlJF7QmCUTk",
        "outputId": "a5373e98-0477-490e-fd74-cbf6ae5ff2af"
      },
      "source": [
        "covtype_Y = covtype_Y.apply(lambda x: 2 if (x == 2)  else 0)\n",
        "covtype_Y.head()"
      ],
      "execution_count": 23,
      "outputs": [
        {
          "output_type": "execute_result",
          "data": {
            "text/plain": [
              "0    0\n",
              "1    0\n",
              "2    2\n",
              "3    2\n",
              "4    0\n",
              "Name: 54, dtype: int64"
            ]
          },
          "metadata": {
            "tags": []
          },
          "execution_count": 23
        }
      ]
    },
    {
      "cell_type": "markdown",
      "metadata": {
        "id": "71TkERZUBWCU"
      },
      "source": [
        "Converting data to libsvm format."
      ]
    },
    {
      "cell_type": "code",
      "metadata": {
        "id": "LaJ55wEcBdNt"
      },
      "source": [
        "from sklearn.datasets import dump_svmlight_file\n",
        "\n",
        "### Dumping Raw Data ###\n",
        "dump_svmlight_file(covtype_X.values, list(covtype_Y),'./sample_data/covtype_libsvm.data', zero_based=True, multilabel=False)\n",
        "### Dumping Rescaled Data ###\n",
        "dump_svmlight_file(covtype_X_rescaled.values,list(covtype_Y),'./sample_data/covtype_rescaled_libsvm.data', zero_based=True, multilabel=False)\n",
        "### Dumping Standardized Data ###\n",
        "dump_svmlight_file(covtype_X_standardized.values,list(covtype_Y),'./sample_data/covtype_standardized_libsvm.data', zero_based=True, multilabel=False)\n",
        "### Dumping Normalized Data ###\n",
        "dump_svmlight_file(covtype_X_normalized.values,list(covtype_Y),'./sample_data/covtype_normalized_libsvm.data', zero_based=True, multilabel=False)"
      ],
      "execution_count": 24,
      "outputs": []
    },
    {
      "cell_type": "markdown",
      "metadata": {
        "id": "Px6k_aqqE7VE"
      },
      "source": [
        "Reading data in libsvm format."
      ]
    },
    {
      "cell_type": "code",
      "metadata": {
        "id": "ytllGsh_DNW2"
      },
      "source": [
        " ### Reading Raw Data ###\n",
        " y_covtype, x_covtype = svm_read_problem('./sample_data/covtype_libsvm.data')\n",
        " ### Reading Rescaled Data ###\n",
        " y_covtype_rescaled, x_covtype_rescaled = svm_read_problem('./sample_data/covtype_rescaled_libsvm.data')\n",
        "### Reading Standardized Data ###\n",
        " y_covtype_standardized, x_covtype_standardized = svm_read_problem('./sample_data/covtype_standardized_libsvm.data')\n",
        "### Reading Normalized Data ###\n",
        " y_covtype_normalized, x_covtype_normalized = svm_read_problem('./sample_data/covtype_normalized_libsvm.data')"
      ],
      "execution_count": 25,
      "outputs": []
    },
    {
      "cell_type": "markdown",
      "metadata": {
        "id": "ve3xd6sJW1Wk"
      },
      "source": [
        "Reading training and testing indexes."
      ]
    },
    {
      "cell_type": "code",
      "metadata": {
        "id": "fdiPMgEQW1Wv"
      },
      "source": [
        "with open('./sample_data/covtype.train.index.txt') as f:    \n",
        "    covtype_train_indexes = [int(line) for line in f]\n",
        "with open('./sample_data/covtype.test.index.txt') as f:    \n",
        "    covtype_test_indexes = [int(line) for line in f]"
      ],
      "execution_count": 29,
      "outputs": []
    },
    {
      "cell_type": "markdown",
      "metadata": {
        "id": "6StbGEawXqmr"
      },
      "source": [
        "Splitting training and testing data."
      ]
    },
    {
      "cell_type": "code",
      "metadata": {
        "id": "sW2HeUuaXqmr"
      },
      "source": [
        "### Splitting Raw Data ###\n",
        "x_covtype_train = [x_covtype[i - 1] for i in covtype_train_indexes]\n",
        "y_covtype_train = [y_covtype[i - 1] for i in covtype_train_indexes]\n",
        "x_covtype_test = [x_covtype[i - 1] for i in covtype_test_indexes]\n",
        "y_covtype_test = [y_covtype[i - 1] for i in covtype_test_indexes]\n",
        "\n",
        "### Splitting Rescaled Data ###\n",
        "x_covtype_rescaled_train = [x_covtype_rescaled[i - 1] for i in covtype_train_indexes]\n",
        "y_covtype_rescaled_train = [y_covtype_rescaled[i - 1] for i in covtype_train_indexes]\n",
        "x_covtype_rescaled_test = [x_covtype_rescaled[i - 1] for i in covtype_test_indexes]\n",
        "y_covtype_rescaled_test = [y_covtype_rescaled[i - 1] for i in covtype_test_indexes]\n",
        "\n",
        "### Splitting Standardized Data ###\n",
        "x_covtype_standardized_train = [x_covtype_standardized[i - 1] for i in covtype_train_indexes]\n",
        "y_covtype_standardized_train = [y_covtype_standardized[i - 1] for i in covtype_train_indexes]\n",
        "x_covtype_standardized_test = [x_covtype_standardized[i - 1] for i in covtype_test_indexes]\n",
        "y_covtype_standardized_test = [y_covtype_standardized[i - 1] for i in covtype_test_indexes]\n",
        "\n",
        "### Splitting Normalized Data ###\n",
        "x_covtype_normalized_train = [x_covtype_normalized[i - 1] for i in covtype_train_indexes]\n",
        "y_covtype_normalized_train = [y_covtype_normalized[i - 1] for i in covtype_train_indexes]\n",
        "x_covtype_normalized_test = [x_covtype_normalized[i - 1] for i in covtype_test_indexes]\n",
        "y_covtype_normalized_test = [y_covtype_normalized[i - 1] for i in covtype_test_indexes]\n"
      ],
      "execution_count": 30,
      "outputs": []
    },
    {
      "cell_type": "markdown",
      "metadata": {
        "id": "X6sazO4xZnn4"
      },
      "source": [
        "##### Training and Evaluation."
      ]
    },
    {
      "cell_type": "markdown",
      "metadata": {
        "id": "88F6023vat1z"
      },
      "source": [
        "Defining utility functions."
      ]
    },
    {
      "cell_type": "code",
      "metadata": {
        "id": "c6eFDc5NZzQx"
      },
      "source": [
        "# function to get best value of C using 5-fold cross validation\n",
        "def getBestC(x_train, y_train):\n",
        "  candidate_C = ['0.1', '1', '10', '100', '1000']\n",
        "  min_val_error = 100\n",
        "  min_val_error_C = candidate_C[0]\n",
        "  for C in candidate_C:\n",
        "    print(\"For C = \" + C)\n",
        "    parameters = '-s 3 -v 5 -c ' + C\n",
        "    CV_ACC = train(y_train, x_train, parameters)\n",
        "    val_error = 100 - CV_ACC\n",
        "    print(\"Validation Error: \" + str(val_error))\n",
        "    p_label, p_acc, p_val = predict(y_train, x_train, train(y_train, x_train, '-s 3 -c ' + C))\n",
        "    print(\"Training Error: \" + str(100 - p_acc[0]))\n",
        "\n",
        "    if val_error < min_val_error:\n",
        "      min_val_error = val_error\n",
        "      min_val_error_C = C\n",
        "    print(\"\")\n",
        "\n",
        "\n",
        "  print(\"Best C = \" + min_val_error_C)\n",
        "\n",
        "  return min_val_error_C\n",
        "\n",
        "def trainModel(x_train, y_train, C):\n",
        "  # training model\n",
        "  prob  = problem(y_train, x_train)\n",
        "  param = parameter('-s 3 -c ' + C)\n",
        "  m = train(prob, param)\n",
        "\n",
        "  return m"
      ],
      "execution_count": null,
      "outputs": []
    },
    {
      "cell_type": "markdown",
      "metadata": {
        "id": "8mAveOoQbBAv"
      },
      "source": [
        "Training and Evaluating Rescaled Dataset."
      ]
    },
    {
      "cell_type": "code",
      "metadata": {
        "id": "jxeJLQPPbGc6"
      },
      "source": [
        "print(\"--- Cross Validation ---\")\n",
        "bestC_rescaled = getBestC(x_covtype_rescaled_train, y_covtype_rescaled_train)\n",
        "model_rescaled = trainModel(x_covtype_rescaled_train, y_covtype_rescaled_train, bestC_rescaled)"
      ],
      "execution_count": null,
      "outputs": []
    },
    {
      "cell_type": "code",
      "metadata": {
        "id": "qLvDruS4fKHK"
      },
      "source": [
        "# predicting\n",
        "print(\"----- Evaluation -----\")\n",
        "p_label_rescaled, p_acc_rescaled, p_val_rescaled = predict(y_covtype_rescaled_test, x_covtype_rescaled_test, model_rescaled)\n",
        "ACC_rescaled, MSE_rescaled, SCC_rescaled = evaluations(y_covtype_rescaled_test, p_label_rescaled)\n",
        "rescaled_error_rate = 100 - ACC_rescaled\n",
        "print(\"Test Error Rate = \" + str(rescaled_error_rate))"
      ],
      "execution_count": null,
      "outputs": []
    },
    {
      "cell_type": "code",
      "metadata": {
        "id": "MZYvTCAwAqye"
      },
      "source": [
        "# saving objects for future use (helpful in case of interruptions)\n",
        "import pickle\n",
        "filename = 'p_label_rescaled.sav'\n",
        "pickle.dump(p_label_rescaled, open(filename, 'wb'))"
      ],
      "execution_count": null,
      "outputs": []
    },
    {
      "cell_type": "markdown",
      "metadata": {
        "id": "xdTbIGYor5SY"
      },
      "source": [
        "Training and Evaluating Standardized Dataset."
      ]
    },
    {
      "cell_type": "code",
      "metadata": {
        "id": "txks55lLsAy7"
      },
      "source": [
        "print(\"--- Cross Validation and Model Training ---\")\n",
        "bestC_standardized = getBestC(x_covtype_standardized_train, y_covtype_standardized_train)\n",
        "model_standardized = trainModel(x_covtype_standardized_train, y_covtype_standardized_train, bestC_standardized)"
      ],
      "execution_count": null,
      "outputs": []
    },
    {
      "cell_type": "code",
      "metadata": {
        "id": "j52iuXPKuoBG"
      },
      "source": [
        "# predicting\n",
        "print(\"----- Evaluation -----\")\n",
        "p_label_standardized, p_acc_standardized, p_val_standardized = predict(y_covtype_standardized_test, x_covtype_standardized_test, model_standardized)\n",
        "ACC_standardized, MSE_standardized, SCC_standardized = evaluations(y_covtype_standardized_test, p_label_standardized)\n",
        "standardized_error_rate = 100 - ACC_rescaled\n",
        "print(\"Test Error Rate = \" + str(standardized_error_rate))"
      ],
      "execution_count": null,
      "outputs": []
    },
    {
      "cell_type": "code",
      "metadata": {
        "id": "mCjjEwOzGavE"
      },
      "source": [
        "# saving objects for future use (helpful in case of interruptions)\n",
        "import pickle\n",
        "filename = 'p_label_standardized.sav'\n",
        "pickle.dump(p_label_standardized, open(filename, 'wb'))"
      ],
      "execution_count": null,
      "outputs": []
    },
    {
      "cell_type": "markdown",
      "metadata": {
        "id": "JqIJTeBL5Mbf"
      },
      "source": [
        "Training and Evaluating Normalized Dataset."
      ]
    },
    {
      "cell_type": "code",
      "metadata": {
        "colab": {
          "base_uri": "https://localhost:8080/"
        },
        "id": "gWqFUnnQ5QK5",
        "outputId": "1d35c427-d12c-414c-8cd3-4a3c53c81f24"
      },
      "source": [
        "print(\"--- Cross Validation Model Training ---\")\n",
        "bestC_normalized = getBestC(x_covtype_normalized_train, y_covtype_normalized_train)\n",
        "model_normalized = trainModel(x_covtype_normalized_train, y_covtype_normalized_train, bestC_normalized)"
      ],
      "execution_count": 42,
      "outputs": [
        {
          "output_type": "stream",
          "text": [
            "--- Cross Validation Model Training ---\n",
            "For C = 0.1\n",
            "Cross Validation Accuracy = 50.7046%\n",
            "Validation Error: 49.29538678666159\n",
            "Accuracy = 51.2202% (267836/522911) (classification)\n",
            "Training Error: 48.77981147843514\n",
            "\n",
            "For C = 1\n",
            "Cross Validation Accuracy = 50.6767%\n",
            "Validation Error: 49.32330740795279\n",
            "Accuracy = 51.2202% (267836/522911) (classification)\n",
            "Training Error: 48.77981147843514\n",
            "\n",
            "For C = 10\n",
            "Cross Validation Accuracy = 50.6507%\n",
            "Validation Error: 49.349315657922666\n",
            "Accuracy = 51.2202% (267836/522911) (classification)\n",
            "Training Error: 48.77981147843514\n",
            "\n",
            "For C = 100\n",
            "Cross Validation Accuracy = 50.7218%\n",
            "Validation Error: 49.27817544476976\n",
            "Accuracy = 51.2202% (267836/522911) (classification)\n",
            "Training Error: 48.77981147843514\n",
            "\n",
            "For C = 1000\n",
            "Cross Validation Accuracy = 48.7798%\n",
            "Validation Error: 51.22018852156486\n",
            "Accuracy = 51.2202% (267836/522911) (classification)\n",
            "Training Error: 48.77981147843514\n",
            "\n",
            "Best C = 100\n"
          ],
          "name": "stdout"
        }
      ]
    },
    {
      "cell_type": "code",
      "metadata": {
        "colab": {
          "base_uri": "https://localhost:8080/"
        },
        "id": "Vru1s6ri5eA_",
        "outputId": "4e8efe2d-210f-45fa-88c2-f5187be34ae1"
      },
      "source": [
        "# predicting\n",
        "print(\"----- Evaluation -----\")\n",
        "p_label_normalized, p_acc_normalized, p_val_normalized = predict(y_covtype_normalized_test, x_covtype_normalized_test, model_normalized)\n",
        "ACC_normalized, MSE_normalized, SCC_normalized = evaluations(y_covtype_normalized_test, p_label_normalized)\n",
        "normalized_error_rate = 100 - ACC_normalized\n",
        "print(\"Test Error Rate = \" + str(normalized_error_rate))"
      ],
      "execution_count": 43,
      "outputs": [
        {
          "output_type": "stream",
          "text": [
            "----- Evaluation -----\n",
            "Accuracy = 51.4191% (29875/58101) (classification)\n",
            "Test Error Rate = 48.58091943340046\n"
          ],
          "name": "stdout"
        }
      ]
    },
    {
      "cell_type": "code",
      "metadata": {
        "id": "I7Z4hEnLHx8c"
      },
      "source": [
        "# saving objects for future use (helpful in case of interruptions)\n",
        "import pickle\n",
        "filename = 'p_label_normalized.sav'\n",
        "pickle.dump(p_label_normalized, open(filename, 'wb'))"
      ],
      "execution_count": 44,
      "outputs": []
    },
    {
      "cell_type": "markdown",
      "metadata": {
        "id": "n7yD2qO9Igkh"
      },
      "source": [
        "Training and Evaluating Raw Dataset."
      ]
    },
    {
      "cell_type": "code",
      "metadata": {
        "colab": {
          "base_uri": "https://localhost:8080/"
        },
        "id": "X_2P4jdIIgkp",
        "outputId": "02610a46-ba9d-490d-e30e-bce4f4e8a80c"
      },
      "source": [
        "print(\"--- Cross Validation Model Training ---\")\n",
        "bestC = getBestC(x_covtype_train, y_covtype_train)\n",
        "model = trainModel(x_covtype_train, y_covtype_train, bestC)"
      ],
      "execution_count": 45,
      "outputs": [
        {
          "output_type": "stream",
          "text": [
            "--- Cross Validation Model Training ---\n",
            "For C = 0.1\n",
            "Cross Validation Accuracy = 54.0526%\n",
            "Validation Error: 45.947398314435915\n",
            "Accuracy = 62.9034% (328929/522911) (classification)\n",
            "Training Error: 37.096561365127144\n",
            "\n",
            "For C = 1\n",
            "Cross Validation Accuracy = 55.0788%\n",
            "Validation Error: 44.921219863418436\n",
            "Accuracy = 49.2841% (257712/522911) (classification)\n",
            "Training Error: 50.71589620413416\n",
            "\n",
            "For C = 10\n",
            "Cross Validation Accuracy = 53.5466%\n",
            "Validation Error: 46.453411766055794\n",
            "Accuracy = 60.866% (318275/522911) (classification)\n",
            "Training Error: 39.13400177085584\n",
            "\n",
            "For C = 100\n",
            "Cross Validation Accuracy = 55.9489%\n",
            "Validation Error: 44.051090912220246\n",
            "Accuracy = 52.2915% (273438/522911) (classification)\n",
            "Training Error: 47.708501064234646\n",
            "\n",
            "For C = 1000\n",
            "Cross Validation Accuracy = 54.0082%\n",
            "Validation Error: 45.99176532909042\n",
            "Accuracy = 59.0556% (308808/522911) (classification)\n",
            "Training Error: 40.94444370074448\n",
            "\n",
            "Best C = 100\n"
          ],
          "name": "stdout"
        }
      ]
    },
    {
      "cell_type": "code",
      "metadata": {
        "colab": {
          "base_uri": "https://localhost:8080/"
        },
        "id": "kxmYarAvIgkq",
        "outputId": "0e95fd96-8e04-412c-ac28-055e839d44e4"
      },
      "source": [
        "# predicting\n",
        "print(\"----- Evaluation -----\")\n",
        "p_label, p_acc, p_val = predict(y_covtype_test, x_covtype_test, model)\n",
        "ACC, MSE, SCC = evaluations(y_covtype_test, p_label)\n",
        "error_rate = 100 - ACC\n",
        "print(\"Test Error Rate = \" + str(error_rate))"
      ],
      "execution_count": 46,
      "outputs": [
        {
          "output_type": "stream",
          "text": [
            "----- Evaluation -----\n",
            "Accuracy = 51.4225% (29877/58101) (classification)\n",
            "Test Error Rate = 48.57747715185625\n"
          ],
          "name": "stdout"
        }
      ]
    },
    {
      "cell_type": "code",
      "metadata": {
        "id": "agAM6BAGIgkr"
      },
      "source": [
        "# saving objects for future use (helpful in case of interruptions)\n",
        "import pickle\n",
        "filename = 'p_label.sav'\n",
        "pickle.dump(p_label, open(filename, 'wb'))"
      ],
      "execution_count": 47,
      "outputs": []
    },
    {
      "cell_type": "code",
      "metadata": {
        "id": "ExwYYBavmbSZ"
      },
      "source": [
        "import pickle\n",
        "p_label = pickle.load(open('./sample_data/p_label.sav', 'rb'))\n",
        "p_label_normalized = pickle.load(open('./sample_data/p_label_normalized.sav', 'rb'))\n",
        "p_label_rescaled = pickle.load(open('./sample_data/p_label_rescaled.sav', 'rb'))\n",
        "p_label_standardized = pickle.load(open('./sample_data/p_label_standardized.sav', 'rb'))"
      ],
      "execution_count": 31,
      "outputs": []
    },
    {
      "cell_type": "markdown",
      "metadata": {
        "id": "nlsMcTvJnEYc"
      },
      "source": [
        "#### Part - 2: Calculating Accuracy, F-1 Score, AUC on the testing data using each preprocessed data and raw data"
      ]
    },
    {
      "cell_type": "code",
      "metadata": {
        "id": "cyi3I1A4nRcX"
      },
      "source": [
        "from sklearn.metrics import accuracy_score\n",
        "from sklearn.metrics import f1_score\n",
        "from sklearn.metrics import roc_auc_score"
      ],
      "execution_count": 55,
      "outputs": []
    },
    {
      "cell_type": "markdown",
      "metadata": {
        "id": "YU-aL2mTqToE"
      },
      "source": [
        "Calculating metrics for raw data."
      ]
    },
    {
      "cell_type": "code",
      "metadata": {
        "colab": {
          "base_uri": "https://localhost:8080/"
        },
        "id": "BXkPi67brBZK",
        "outputId": "bc56df93-534f-490a-cc42-0768c3af6b72"
      },
      "source": [
        "accuracy_raw = accuracy_score(y_covtype_test, p_label)\n",
        "\n",
        "f1_score_raw = f1_score(y_covtype_test, p_label, pos_label=2.0)\n",
        "\n",
        "auc_raw = roc_auc_score(y_covtype_test, p_label)\n",
        "\n",
        "print(\"--- Raw Data Metrics ---\")\n",
        "print(\"Accuracy: \" + str(accuracy_raw))\n",
        "print(\"F1-Score: \" + str(f1_score_raw))\n",
        "print(\"AUC: \" + str(auc_raw))"
      ],
      "execution_count": 48,
      "outputs": [
        {
          "output_type": "stream",
          "text": [
            "--- Raw Data Metrics ---\n",
            "Accuracy: 0.5142252284814375\n",
            "F1-Score: 0.00014170327334561429\n",
            "AUC: 0.5000354283284915\n"
          ],
          "name": "stdout"
        }
      ]
    },
    {
      "cell_type": "markdown",
      "metadata": {
        "id": "nCBQ6SDL35gw"
      },
      "source": [
        "Calculating Metrics for Rescaled Data."
      ]
    },
    {
      "cell_type": "code",
      "metadata": {
        "colab": {
          "base_uri": "https://localhost:8080/"
        },
        "id": "Q8YD0m4n38XW",
        "outputId": "367a935d-d488-4acb-f095-504cb484dbcf"
      },
      "source": [
        "accuracy_rescaled = accuracy_score(y_covtype_test, p_label_rescaled)\n",
        "\n",
        "f1_score_rescaled = f1_score(y_covtype_test, p_label_rescaled, pos_label=2.0)\n",
        "\n",
        "auc_rescaled = roc_auc_score(y_covtype_test, p_label_rescaled)\n",
        "\n",
        "print(\"--- Rescaled Data Metrics ---\")\n",
        "print(\"Accuracy: \" + str(accuracy_rescaled))\n",
        "print(\"F1-Score: \" + str(f1_score_rescaled))\n",
        "print(\"AUC: \" + str(auc_rescaled))"
      ],
      "execution_count": 50,
      "outputs": [
        {
          "output_type": "stream",
          "text": [
            "--- Rescaled Data Metrics ---\n",
            "Accuracy: 0.5141908056659954\n",
            "F1-Score: 0.0\n",
            "AUC: 0.5\n"
          ],
          "name": "stdout"
        }
      ]
    },
    {
      "cell_type": "markdown",
      "metadata": {
        "id": "Jm3eApqp4NLt"
      },
      "source": [
        "Calculating Metrics for Standardized data"
      ]
    },
    {
      "cell_type": "code",
      "metadata": {
        "colab": {
          "base_uri": "https://localhost:8080/"
        },
        "id": "4lqtWSpt4TNS",
        "outputId": "e1c1cb35-69d6-4cb0-b3b7-e0e01c07d51b"
      },
      "source": [
        "accuracy_standardized = accuracy_score(y_covtype_test, p_label_standardized)\n",
        "\n",
        "f1_score_standardized = f1_score(y_covtype_test, p_label_standardized, pos_label=2.0)\n",
        "\n",
        "auc_standardized = roc_auc_score(y_covtype_test, p_label_standardized)\n",
        "\n",
        "print(\"--- Standardized Data Metrics ---\")\n",
        "print(\"Accuracy: \" + str(accuracy_standardized))\n",
        "print(\"F1-Score: \" + str(f1_score_standardized))\n",
        "print(\"AUC: \" + str(auc_standardized))"
      ],
      "execution_count": 51,
      "outputs": [
        {
          "output_type": "stream",
          "text": [
            "--- Standardized Data Metrics ---\n",
            "Accuracy: 0.6267017779384176\n",
            "F1-Score: 0.5948783084595701\n",
            "AUC: 0.6249757489385586\n"
          ],
          "name": "stdout"
        }
      ]
    },
    {
      "cell_type": "markdown",
      "metadata": {
        "id": "ygI-QHw35Sr8"
      },
      "source": [
        "Calculating Metrics of Normalized data"
      ]
    },
    {
      "cell_type": "code",
      "metadata": {
        "colab": {
          "base_uri": "https://localhost:8080/"
        },
        "id": "bwKL7bFy5WnG",
        "outputId": "7362c8b4-93e5-471b-b8ea-865761fb487a"
      },
      "source": [
        "accuracy_normalized = accuracy_score(y_covtype_test, p_label_normalized)\n",
        "\n",
        "f1_score_normalized = f1_score(y_covtype_test, p_label_normalized, pos_label=2.0)\n",
        "\n",
        "auc_normalized = roc_auc_score(y_covtype_test, p_label_normalized)\n",
        "\n",
        "print(\"--- Normalized Data Metrics ---\")\n",
        "print(\"Accuracy: \" + str(accuracy_normalized))\n",
        "print(\"F1-Score: \" + str(f1_score_normalized))\n",
        "print(\"AUC: \" + str(auc_normalized))"
      ],
      "execution_count": 52,
      "outputs": [
        {
          "output_type": "stream",
          "text": [
            "--- Normalized Data Metrics ---\n",
            "Accuracy: 0.5141908056659954\n",
            "F1-Score: 0.0\n",
            "AUC: 0.5\n"
          ],
          "name": "stdout"
        }
      ]
    },
    {
      "cell_type": "markdown",
      "metadata": {
        "id": "NsYa5g6d5-8q"
      },
      "source": [
        "Creating metrics table."
      ]
    },
    {
      "cell_type": "code",
      "metadata": {
        "colab": {
          "base_uri": "https://localhost:8080/"
        },
        "id": "K-obUS686Bh5",
        "outputId": "3e9f1abd-d576-4355-b89a-e227fac55b8d"
      },
      "source": [
        "metrics = {'Data':  ['Raw', 'Rescaled','Standardized', 'Normalized'],\n",
        "          'Accuracy':  [accuracy_raw, accuracy_rescaled, accuracy_standardized,accuracy_normalized],\n",
        "          'F1-Score': [f1_score_raw, f1_score_rescaled, f1_score_standardized, f1_score_normalized],\n",
        "          'AUC': [auc_raw,auc_rescaled,auc_standardized, auc_normalized]}\n",
        "\n",
        "df = pd.DataFrame (metrics, columns = ['Data', 'Accuracy','F1-Score','AUC'])\n",
        "\n",
        "print (df)\n"
      ],
      "execution_count": 54,
      "outputs": [
        {
          "output_type": "stream",
          "text": [
            "           Data  Accuracy  F1-Score       AUC\n",
            "0           Raw  0.514225  0.000142  0.500035\n",
            "1      Rescaled  0.514191  0.000000  0.500000\n",
            "2  Standardized  0.626702  0.594878  0.624976\n",
            "3    Normalized  0.514191  0.000000  0.500000\n"
          ],
          "name": "stdout"
        }
      ]
    },
    {
      "cell_type": "markdown",
      "metadata": {
        "id": "uikTVxrC7ooI"
      },
      "source": [
        "#### Part - 3: Plotting ROC curves."
      ]
    },
    {
      "cell_type": "code",
      "metadata": {
        "id": "I6QWlcez7ssW"
      },
      "source": [
        "import matplotlib.pyplot as plt\n",
        "from sklearn.metrics import roc_curve"
      ],
      "execution_count": 74,
      "outputs": []
    },
    {
      "cell_type": "markdown",
      "metadata": {
        "id": "gvw7PbmcCaw8"
      },
      "source": [
        "ROC curve for raw data"
      ]
    },
    {
      "cell_type": "code",
      "metadata": {
        "colab": {
          "base_uri": "https://localhost:8080/",
          "height": 265
        },
        "id": "KvLR4O_a8eYb",
        "outputId": "b8674012-ef3c-4863-bd2a-1b36016a4e47"
      },
      "source": [
        "fpr, tpr, _ = roc_curve(y_covtype_test, p_label, pos_label=2.0)\n",
        "\n",
        "plt.plot(fpr,tpr,label=\", auc=\"+str(auc_raw))\n",
        "plt.legend(loc=4)\n",
        "plt.show()"
      ],
      "execution_count": 75,
      "outputs": [
        {
          "output_type": "display_data",
          "data": {
            "image/png": "[encoded data removed]",
            "text/plain": [
              "<Figure size 432x288 with 1 Axes>"
            ]
          },
          "metadata": {
            "tags": [],
            "needs_background": "light"
          }
        }
      ]
    },
    {
      "cell_type": "markdown",
      "metadata": {
        "id": "oYZGne8UCehv"
      },
      "source": [
        "ROC curve for rescaled data"
      ]
    },
    {
      "cell_type": "code",
      "metadata": {
        "colab": {
          "base_uri": "https://localhost:8080/",
          "height": 265
        },
        "id": "3A9aCWif-E-b",
        "outputId": "b4a070aa-8969-48ef-8f59-5b86f0be456a"
      },
      "source": [
        "fpr, tpr, _ = roc_curve(y_covtype_test, p_label_rescaled, pos_label=2.0)\n",
        "\n",
        "plt.plot(fpr,tpr,label=\", auc=\"+str(auc_rescaled))\n",
        "plt.legend(loc=4)\n",
        "plt.show()"
      ],
      "execution_count": 76,
      "outputs": [
        {
          "output_type": "display_data",
          "data": {
            "image/png": "[encoded data removed]",
            "text/plain": [
              "<Figure size 432x288 with 1 Axes>"
            ]
          },
          "metadata": {
            "tags": [],
            "needs_background": "light"
          }
        }
      ]
    },
    {
      "cell_type": "markdown",
      "metadata": {
        "id": "zlKEDA3zCh4X"
      },
      "source": [
        "ROC curve for standardized data."
      ]
    },
    {
      "cell_type": "code",
      "metadata": {
        "colab": {
          "base_uri": "https://localhost:8080/",
          "height": 265
        },
        "id": "4ZemTK1b-UDU",
        "outputId": "71d12170-c460-4e7b-977d-287dbc4ff73a"
      },
      "source": [
        "fpr, tpr, _ = roc_curve(y_covtype_test, p_label_standardized, pos_label=2.0)\n",
        "\n",
        "plt.plot(fpr,tpr,label=\", auc=\"+str(auc_standardized))\n",
        "plt.legend(loc=4)\n",
        "plt.show()"
      ],
      "execution_count": 77,
      "outputs": [
        {
          "output_type": "display_data",
          "data": {
            "image/png": "[encoded data removed]",
            "text/plain": [
              "<Figure size 432x288 with 1 Axes>"
            ]
          },
          "metadata": {
            "tags": [],
            "needs_background": "light"
          }
        }
      ]
    },
    {
      "cell_type": "markdown",
      "metadata": {
        "id": "jfBOc_6RCl9Y"
      },
      "source": [
        "ROC curve normalized data."
      ]
    },
    {
      "cell_type": "code",
      "metadata": {
        "colab": {
          "base_uri": "https://localhost:8080/",
          "height": 265
        },
        "id": "16pGwk7I-Z89",
        "outputId": "8367b447-2a6a-4e7f-abae-dcda2ffd7a02"
      },
      "source": [
        "fpr, tpr, _ = roc_curve(y_covtype_test, p_label_normalized, pos_label=2.0)\n",
        "\n",
        "plt.plot(fpr,tpr,label=\", auc=\"+str(auc_normalized))\n",
        "plt.legend(loc=4)\n",
        "plt.show()"
      ],
      "execution_count": 78,
      "outputs": [
        {
          "output_type": "display_data",
          "data": {
            "image/png": "[encoded data removed]",
            "text/plain": [
              "<Figure size 432x288 with 1 Axes>"
            ]
          },
          "metadata": {
            "tags": [],
            "needs_background": "light"
          }
        }
      ]
    },
    {
      "cell_type": "markdown",
      "metadata": {
        "id": "Km4zOESSCpNV"
      },
      "source": [
        "#### Part - 4: Discussion of results"
      ]
    },
    {
      "cell_type": "markdown",
      "metadata": {
        "id": "Y6eMscvqCtep"
      },
      "source": [
        "It is clear from above results that standardized data preprocessing technique yields better metrics (accuracy, f1-score auc) than other preprocessing techniques and raw data. There could be one or two possible reasons for this result:\n",
        "\n",
        "1) Dataset follows a Gaussian Distribution.\n",
        "\n",
        "OR\n",
        "\n",
        "2) There are too many outlier values in the dataset which is affecting performance for other dataset but standardized dataset remains unaffected by the presence of outliers."
      ]
    }
  ]
}